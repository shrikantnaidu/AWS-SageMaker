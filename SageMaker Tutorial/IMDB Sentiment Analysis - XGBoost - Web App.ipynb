{
 "cells": [
  {
   "cell_type": "markdown",
   "metadata": {},
   "source": [
    "# Sentiment Analysis Web App\n",
    "\n",
    "_Deep Learning Nanodegree Program | Deployment_\n",
    "\n",
    "---\n",
    "\n",
    "In this notebook we will use Amazon's SageMaker service to construct a random tree model to predict the sentiment of a movie review. In addition, we will deploy this model to an endpoint and construct a very simple web app which will interact with our model's deployed endpoint.\n",
    "\n",
    "## General Outline\n",
    "\n",
    "Typically, when using a notebook instance with SageMaker, you will proceed through the following steps. Of course, not every step will need to be done with each project. Also, there is quite a lot of room for variation in many of the steps, as you will see throughout these lessons.\n",
    "\n",
    "1. Download or otherwise retrieve the data.\n",
    "2. Process / Prepare the data.\n",
    "3. Upload the processed data to S3.\n",
    "4. Train a chosen model.\n",
    "5. Test the trained model (typically using a batch transform job).\n",
    "6. Deploy the trained model.\n",
    "7. Use the deployed model.\n",
    "\n",
    "In this notebook we will progress through each of the steps above. We will also see that the final step, using the deployed model, can be quite challenging."
   ]
  },
  {
   "cell_type": "markdown",
   "metadata": {},
   "source": [
    "## Step 1: Downloading the data\n",
    "\n",
    "The dataset we are going to use is very popular among researchers in Natural Language Processing, usually referred to as the [IMDb dataset](http://ai.stanford.edu/~amaas/data/sentiment/). It consists of movie reviews from the website [imdb.com](http://www.imdb.com/), each labeled as either '**pos**itive', if the reviewer enjoyed the film, or '**neg**ative' otherwise.\n",
    "\n",
    "> Maas, Andrew L., et al. [Learning Word Vectors for Sentiment Analysis](http://ai.stanford.edu/~amaas/data/sentiment/). In _Proceedings of the 49th Annual Meeting of the Association for Computational Linguistics: Human Language Technologies_. Association for Computational Linguistics, 2011.\n",
    "\n",
    "We begin by using some Jupyter Notebook magic to download and extract the dataset."
   ]
  },
  {
   "cell_type": "code",
   "execution_count": 1,
   "metadata": {},
   "outputs": [
    {
     "name": "stdout",
     "output_type": "stream",
     "text": [
      "mkdir: cannot create directory ‘../data’: File exists\n",
      "--2020-06-18 11:18:58--  http://ai.stanford.edu/~amaas/data/sentiment/aclImdb_v1.tar.gz\n",
      "Resolving ai.stanford.edu (ai.stanford.edu)... 171.64.68.10\n",
      "Connecting to ai.stanford.edu (ai.stanford.edu)|171.64.68.10|:80... connected.\n",
      "HTTP request sent, awaiting response... 200 OK\n",
      "Length: 84125825 (80M) [application/x-gzip]\n",
      "Saving to: ‘../data/aclImdb_v1.tar.gz’\n",
      "\n",
      "../data/aclImdb_v1. 100%[===================>]  80.23M  24.6MB/s    in 3.6s    \n",
      "\n",
      "2020-06-18 11:19:02 (22.4 MB/s) - ‘../data/aclImdb_v1.tar.gz’ saved [84125825/84125825]\n",
      "\n"
     ]
    }
   ],
   "source": [
    "%mkdir ../data\n",
    "!wget -O ../data/aclImdb_v1.tar.gz http://ai.stanford.edu/~amaas/data/sentiment/aclImdb_v1.tar.gz\n",
    "!tar -zxf ../data/aclImdb_v1.tar.gz -C ../data"
   ]
  },
  {
   "cell_type": "markdown",
   "metadata": {},
   "source": [
    "## Step 2: Preparing and Processing the data\n",
    "\n",
    "The data we have downloaded is split into various files, each of which contains a single review. It will be much easier going forward if we combine these individual files into two large files, one for training and one for testing."
   ]
  },
  {
   "cell_type": "code",
   "execution_count": 2,
   "metadata": {},
   "outputs": [],
   "source": [
    "import os\n",
    "import glob\n",
    "\n",
    "def read_imdb_data(data_dir='../data/aclImdb'):\n",
    "    data = {}\n",
    "    labels = {}\n",
    "    \n",
    "    for data_type in ['train', 'test']:\n",
    "        data[data_type] = {}\n",
    "        labels[data_type] = {}\n",
    "        \n",
    "        for sentiment in ['pos', 'neg']:\n",
    "            data[data_type][sentiment] = []\n",
    "            labels[data_type][sentiment] = []\n",
    "            \n",
    "            path = os.path.join(data_dir, data_type, sentiment, '*.txt')\n",
    "            files = glob.glob(path)\n",
    "            \n",
    "            for f in files:\n",
    "                with open(f) as review:\n",
    "                    data[data_type][sentiment].append(review.read())\n",
    "                    # Here we represent a positive review by '1' and a negative review by '0'\n",
    "                    labels[data_type][sentiment].append(1 if sentiment == 'pos' else 0)\n",
    "                    \n",
    "            assert len(data[data_type][sentiment]) == len(labels[data_type][sentiment]), \\\n",
    "                    \"{}/{} data size does not match labels size\".format(data_type, sentiment)\n",
    "                \n",
    "    return data, labels"
   ]
  },
  {
   "cell_type": "code",
   "execution_count": 3,
   "metadata": {},
   "outputs": [
    {
     "name": "stdout",
     "output_type": "stream",
     "text": [
      "IMDB reviews: train = 12500 pos / 12500 neg, test = 12500 pos / 12500 neg\n"
     ]
    }
   ],
   "source": [
    "data, labels = read_imdb_data()\n",
    "print(\"IMDB reviews: train = {} pos / {} neg, test = {} pos / {} neg\".format(\n",
    "            len(data['train']['pos']), len(data['train']['neg']),\n",
    "            len(data['test']['pos']), len(data['test']['neg'])))"
   ]
  },
  {
   "cell_type": "code",
   "execution_count": 4,
   "metadata": {},
   "outputs": [],
   "source": [
    "from sklearn.utils import shuffle\n",
    "\n",
    "def prepare_imdb_data(data, labels):\n",
    "    \"\"\"Prepare training and test sets from IMDb movie reviews.\"\"\"\n",
    "    \n",
    "    #Combine positive and negative reviews and labels\n",
    "    data_train = data['train']['pos'] + data['train']['neg']\n",
    "    data_test = data['test']['pos'] + data['test']['neg']\n",
    "    labels_train = labels['train']['pos'] + labels['train']['neg']\n",
    "    labels_test = labels['test']['pos'] + labels['test']['neg']\n",
    "    \n",
    "    #Shuffle reviews and corresponding labels within training and test sets\n",
    "    data_train, labels_train = shuffle(data_train, labels_train)\n",
    "    data_test, labels_test = shuffle(data_test, labels_test)\n",
    "    \n",
    "    # Return a unified training data, test data, training labels, test labets\n",
    "    return data_train, data_test, labels_train, labels_test"
   ]
  },
  {
   "cell_type": "code",
   "execution_count": 5,
   "metadata": {},
   "outputs": [
    {
     "name": "stdout",
     "output_type": "stream",
     "text": [
      "IMDb reviews (combined): train = 25000, test = 25000\n"
     ]
    }
   ],
   "source": [
    "train_X, test_X, train_y, test_y = prepare_imdb_data(data, labels)\n",
    "print(\"IMDb reviews (combined): train = {}, test = {}\".format(len(train_X), len(test_X)))"
   ]
  },
  {
   "cell_type": "code",
   "execution_count": 6,
   "metadata": {},
   "outputs": [
    {
     "data": {
      "text/plain": [
       "\"Alive<br /><br />Alive is a very entertaining SCI-FI movie from Japan. I have noticed a lot of disappointed film geeks who loved Versus this director's debut film or his third film Azumi. I have heard they are blood drenched films with swords and zombies and all kinds of goodies. Frankly I went to the video store to get Versus but I am just fine with Alive.<br /><br />If you are looking for beginning to end wall to wall action then Alive is not your pick. There is plenty of action however it comes as pay-off for a whole hour of character driven build-up. Personally I think it is well done and worth it.<br /><br />Of course some of the plot is silly as with many SCI-Fi action films and I think the subtitles using the term foreign object could have replaced with parasite for greater effect. This film is brutal when it needs to be so faint of heart need not apply.<br /><br />They kept the budget down by for the most part confining all the action to one underground building(taking a cue from the cube) but the film doesn't suffer for it. Another bonus for this film is intense gothic imagines that are done with great artistic flair during the many Flashbacks and dream sequences. <br /><br />Rent this!\""
      ]
     },
     "execution_count": 6,
     "metadata": {},
     "output_type": "execute_result"
    }
   ],
   "source": [
    "train_X[100]"
   ]
  },
  {
   "cell_type": "markdown",
   "metadata": {},
   "source": [
    "## Processing the data\n",
    "\n",
    "Now that we have our training and testing datasets merged and ready to use, we need to start processing the raw data into something that will be useable by our machine learning algorithm. To begin with, we remove any html formatting and any non-alpha numeric characters that may appear in the reviews. We will do this in a very simplistic way using Python's regular expression module. We will discuss the reason for this rather simplistic pre-processing later on."
   ]
  },
  {
   "cell_type": "code",
   "execution_count": 7,
   "metadata": {},
   "outputs": [],
   "source": [
    "import re\n",
    "\n",
    "REPLACE_NO_SPACE = re.compile(\"(\\.)|(\\;)|(\\:)|(\\!)|(\\')|(\\?)|(\\,)|(\\\")|(\\()|(\\))|(\\[)|(\\])\")\n",
    "REPLACE_WITH_SPACE = re.compile(\"(<br\\s*/><br\\s*/>)|(\\-)|(\\/)\")\n",
    "\n",
    "def review_to_words(review):\n",
    "    words = REPLACE_NO_SPACE.sub(\"\", review.lower())\n",
    "    words = REPLACE_WITH_SPACE.sub(\" \", words)\n",
    "    return words"
   ]
  },
  {
   "cell_type": "code",
   "execution_count": 8,
   "metadata": {},
   "outputs": [
    {
     "data": {
      "text/plain": [
       "'alive alive is a very entertaining sci fi movie from japan i have noticed a lot of disappointed film geeks who loved versus this directors debut film or his third film azumi i have heard they are blood drenched films with swords and zombies and all kinds of goodies frankly i went to the video store to get versus but i am just fine with alive if you are looking for beginning to end wall to wall action then alive is not your pick there is plenty of action however it comes as pay off for a whole hour of character driven build up personally i think it is well done and worth it of course some of the plot is silly as with many sci fi action films and i think the subtitles using the term foreign object could have replaced with parasite for greater effect this film is brutal when it needs to be so faint of heart need not apply they kept the budget down by for the most part confining all the action to one underground buildingtaking a cue from the cube but the film doesnt suffer for it another bonus for this film is intense gothic imagines that are done with great artistic flair during the many flashbacks and dream sequences  rent this'"
      ]
     },
     "execution_count": 8,
     "metadata": {},
     "output_type": "execute_result"
    }
   ],
   "source": [
    "review_to_words(train_X[100])"
   ]
  },
  {
   "cell_type": "code",
   "execution_count": 9,
   "metadata": {},
   "outputs": [],
   "source": [
    "import pickle\n",
    "\n",
    "cache_dir = os.path.join(\"../cache\", \"sentiment_web_app\")  # where to store cache files\n",
    "os.makedirs(cache_dir, exist_ok=True)  # ensure cache directory exists\n",
    "\n",
    "def preprocess_data(data_train, data_test, labels_train, labels_test,\n",
    "                    cache_dir=cache_dir, cache_file=\"preprocessed_data.pkl\"):\n",
    "    \"\"\"Convert each review to words; read from cache if available.\"\"\"\n",
    "\n",
    "    # If cache_file is not None, try to read from it first\n",
    "    cache_data = None\n",
    "    if cache_file is not None:\n",
    "        try:\n",
    "            with open(os.path.join(cache_dir, cache_file), \"rb\") as f:\n",
    "                cache_data = pickle.load(f)\n",
    "            print(\"Read preprocessed data from cache file:\", cache_file)\n",
    "        except:\n",
    "            pass  # unable to read from cache, but that's okay\n",
    "    \n",
    "    # If cache is missing, then do the heavy lifting\n",
    "    if cache_data is None:\n",
    "        # Preprocess training and test data to obtain words for each review\n",
    "        #words_train = list(map(review_to_words, data_train))\n",
    "        #words_test = list(map(review_to_words, data_test))\n",
    "        words_train = [review_to_words(review) for review in data_train]\n",
    "        words_test = [review_to_words(review) for review in data_test]\n",
    "        \n",
    "        # Write to cache file for future runs\n",
    "        if cache_file is not None:\n",
    "            cache_data = dict(words_train=words_train, words_test=words_test,\n",
    "                              labels_train=labels_train, labels_test=labels_test)\n",
    "            with open(os.path.join(cache_dir, cache_file), \"wb\") as f:\n",
    "                pickle.dump(cache_data, f)\n",
    "            print(\"Wrote preprocessed data to cache file:\", cache_file)\n",
    "    else:\n",
    "        # Unpack data loaded from cache file\n",
    "        words_train, words_test, labels_train, labels_test = (cache_data['words_train'],\n",
    "                cache_data['words_test'], cache_data['labels_train'], cache_data['labels_test'])\n",
    "    \n",
    "    return words_train, words_test, labels_train, labels_test"
   ]
  },
  {
   "cell_type": "code",
   "execution_count": 10,
   "metadata": {},
   "outputs": [
    {
     "name": "stdout",
     "output_type": "stream",
     "text": [
      "Wrote preprocessed data to cache file: preprocessed_data.pkl\n"
     ]
    }
   ],
   "source": [
    "# Preprocess data\n",
    "train_X, test_X, train_y, test_y = preprocess_data(train_X, test_X, train_y, test_y)"
   ]
  },
  {
   "cell_type": "markdown",
   "metadata": {},
   "source": [
    "### Extract Bag-of-Words features\n",
    "\n",
    "For the model we will be implementing, rather than using the reviews directly, we are going to transform each review into a Bag-of-Words feature representation. Keep in mind that 'in the wild' we will only have access to the training set so our transformer can only use the training set to construct a representation."
   ]
  },
  {
   "cell_type": "code",
   "execution_count": 11,
   "metadata": {},
   "outputs": [
    {
     "name": "stderr",
     "output_type": "stream",
     "text": [
      "/home/ec2-user/anaconda3/envs/python3/lib/python3.6/site-packages/sklearn/externals/joblib/__init__.py:15: FutureWarning: sklearn.externals.joblib is deprecated in 0.21 and will be removed in 0.23. Please import this functionality directly from joblib, which can be installed with: pip install joblib. If this warning is raised when loading pickled models, you may need to re-serialize those models with scikit-learn 0.21+.\n",
      "  warnings.warn(msg, category=FutureWarning)\n"
     ]
    }
   ],
   "source": [
    "import numpy as np\n",
    "from sklearn.feature_extraction.text import CountVectorizer\n",
    "from sklearn.externals import joblib\n",
    "# joblib is an enhanced version of pickle that is more efficient for storing NumPy arrays\n",
    "\n",
    "def extract_BoW_features(words_train, words_test, vocabulary_size=5000,\n",
    "                         cache_dir=cache_dir, cache_file=\"bow_features.pkl\"):\n",
    "    \"\"\"Extract Bag-of-Words for a given set of documents, already preprocessed into words.\"\"\"\n",
    "    \n",
    "    # If cache_file is not None, try to read from it first\n",
    "    cache_data = None\n",
    "    if cache_file is not None:\n",
    "        try:\n",
    "            with open(os.path.join(cache_dir, cache_file), \"rb\") as f:\n",
    "                cache_data = joblib.load(f)\n",
    "            print(\"Read features from cache file:\", cache_file)\n",
    "        except:\n",
    "            pass  # unable to read from cache, but that's okay\n",
    "    \n",
    "    # If cache is missing, then do the heavy lifting\n",
    "    if cache_data is None:\n",
    "        # Fit a vectorizer to training documents and use it to transform them\n",
    "        # NOTE: Training documents have already been preprocessed and tokenized into words;\n",
    "        #       pass in dummy functions to skip those steps, e.g. preprocessor=lambda x: x\n",
    "        vectorizer = CountVectorizer(max_features=vocabulary_size)\n",
    "        features_train = vectorizer.fit_transform(words_train).toarray()\n",
    "\n",
    "        # Apply the same vectorizer to transform the test documents (ignore unknown words)\n",
    "        features_test = vectorizer.transform(words_test).toarray()\n",
    "        \n",
    "        # NOTE: Remember to convert the features using .toarray() for a compact representation\n",
    "        \n",
    "        # Write to cache file for future runs (store vocabulary as well)\n",
    "        if cache_file is not None:\n",
    "            vocabulary = vectorizer.vocabulary_\n",
    "            cache_data = dict(features_train=features_train, features_test=features_test,\n",
    "                             vocabulary=vocabulary)\n",
    "            with open(os.path.join(cache_dir, cache_file), \"wb\") as f:\n",
    "                joblib.dump(cache_data, f)\n",
    "            print(\"Wrote features to cache file:\", cache_file)\n",
    "    else:\n",
    "        # Unpack data loaded from cache file\n",
    "        features_train, features_test, vocabulary = (cache_data['features_train'],\n",
    "                cache_data['features_test'], cache_data['vocabulary'])\n",
    "    \n",
    "    # Return both the extracted features as well as the vocabulary\n",
    "    return features_train, features_test, vocabulary"
   ]
  },
  {
   "cell_type": "code",
   "execution_count": 12,
   "metadata": {},
   "outputs": [
    {
     "name": "stdout",
     "output_type": "stream",
     "text": [
      "Wrote features to cache file: bow_features.pkl\n"
     ]
    }
   ],
   "source": [
    "# Extract Bag of Words features for both training and test datasets\n",
    "train_X, test_X, vocabulary = extract_BoW_features(train_X, test_X)"
   ]
  },
  {
   "cell_type": "code",
   "execution_count": 13,
   "metadata": {},
   "outputs": [
    {
     "data": {
      "text/plain": [
       "5000"
      ]
     },
     "execution_count": 13,
     "metadata": {},
     "output_type": "execute_result"
    }
   ],
   "source": [
    "len(train_X[100])"
   ]
  },
  {
   "cell_type": "markdown",
   "metadata": {},
   "source": [
    "## Step 3: Upload data to S3\n",
    "\n",
    "Now that we have created the feature representation of our training (and testing) data, it is time to start setting up and using the XGBoost classifier provided by SageMaker.\n",
    "\n",
    "### Writing the datasets\n",
    "\n",
    "The XGBoost classifier that we will be using requires the dataset to be written to a file and stored using Amazon S3. To do this, we will start by splitting the training dataset into two parts, the data we will train the model with and a validation set. Then, we will write those datasets to a file locally and then upload the files to S3. In addition, we will write the test set to a file and upload that file to S3. This is so that we can use SageMakers Batch Transform functionality to test our model once we've fit it."
   ]
  },
  {
   "cell_type": "code",
   "execution_count": 14,
   "metadata": {},
   "outputs": [],
   "source": [
    "import pandas as pd\n",
    "\n",
    "# Earlier we shuffled the training dataset so to make things simple we can just assign\n",
    "# the first 10 000 reviews to the validation set and use the remaining reviews for training.\n",
    "val_X = pd.DataFrame(train_X[:10000])\n",
    "train_X = pd.DataFrame(train_X[10000:])\n",
    "\n",
    "val_y = pd.DataFrame(train_y[:10000])\n",
    "train_y = pd.DataFrame(train_y[10000:])"
   ]
  },
  {
   "cell_type": "markdown",
   "metadata": {},
   "source": [
    "The documentation for the XGBoost algorithm in SageMaker requires that the training and validation datasets should contain no headers or index and that the label should occur first for each sample.\n",
    "\n",
    "For more information about this and other algorithms, the SageMaker developer documentation can be found on __[Amazon's website.](https://docs.aws.amazon.com/sagemaker/latest/dg/)__"
   ]
  },
  {
   "cell_type": "code",
   "execution_count": 15,
   "metadata": {},
   "outputs": [],
   "source": [
    "# First we make sure that the local directory in which we'd like to store the training and validation csv files exists.\n",
    "data_dir = '../data/sentiment_web_app'\n",
    "if not os.path.exists(data_dir):\n",
    "    os.makedirs(data_dir)"
   ]
  },
  {
   "cell_type": "code",
   "execution_count": 16,
   "metadata": {},
   "outputs": [],
   "source": [
    "pd.DataFrame(test_X).to_csv(os.path.join(data_dir, 'test.csv'), header=False, index=False)\n",
    "\n",
    "pd.concat([val_y, val_X], axis=1).to_csv(os.path.join(data_dir, 'validation.csv'), header=False, index=False)\n",
    "pd.concat([train_y, train_X], axis=1).to_csv(os.path.join(data_dir, 'train.csv'), header=False, index=False)"
   ]
  },
  {
   "cell_type": "code",
   "execution_count": 17,
   "metadata": {},
   "outputs": [],
   "source": [
    "# To save a bit of memory we can set text_X, train_X, val_X, train_y and val_y to None.\n",
    "\n",
    "test_X = train_X = val_X = train_y = val_y = None"
   ]
  },
  {
   "cell_type": "markdown",
   "metadata": {},
   "source": [
    "### Uploading Training / Validation files to S3\n",
    "\n",
    "Amazon's S3 service allows us to store files that can be accessed by both the built-in training models such as the XGBoost model we will be using as well as custom models such as the one we will see a little later.\n",
    "\n",
    "For this and most other tasks we will be doing using SageMaker, there are two methods we could use. The first is to use the low level functionality of SageMaker which requires knowing each of the objects involved in the SageMaker environment. The second is to use the high level functionality in which certain choices have been made on the user's behalf. The low level approach benefits from allowing the user a great deal of flexibility while the high level approach makes development much quicker. For our purposes we will opt to use the high level approach although using the low-level approach is certainly an option.\n",
    "\n",
    "Recall the method `upload_data()` which is a member of the object representing our current SageMaker session. What this method does is upload the data to the default bucket (which is created if it does not exist) into the path described by the key_prefix variable. To see this for yourself, once you have uploaded the data files, go to the S3 console and look to see where the files have been uploaded.\n",
    "\n",
    "For additional resources, see the __[SageMaker API documentation](http://sagemaker.readthedocs.io/en/latest/)__ and in addition the __[SageMaker Developer Guide.](https://docs.aws.amazon.com/sagemaker/latest/dg/)__"
   ]
  },
  {
   "cell_type": "code",
   "execution_count": 18,
   "metadata": {},
   "outputs": [
    {
     "name": "stderr",
     "output_type": "stream",
     "text": [
      "'upload_data' method will be deprecated in favor of 'S3Uploader' class (https://sagemaker.readthedocs.io/en/stable/s3.html#sagemaker.s3.S3Uploader) in SageMaker Python SDK v2.\n",
      "'upload_data' method will be deprecated in favor of 'S3Uploader' class (https://sagemaker.readthedocs.io/en/stable/s3.html#sagemaker.s3.S3Uploader) in SageMaker Python SDK v2.\n",
      "'upload_data' method will be deprecated in favor of 'S3Uploader' class (https://sagemaker.readthedocs.io/en/stable/s3.html#sagemaker.s3.S3Uploader) in SageMaker Python SDK v2.\n"
     ]
    }
   ],
   "source": [
    "import sagemaker\n",
    "\n",
    "session = sagemaker.Session() # Store the current SageMaker session\n",
    "\n",
    "# S3 prefix (which folder will we use)\n",
    "prefix = 'sentiment-web-app'\n",
    "\n",
    "test_location = session.upload_data(os.path.join(data_dir, 'test.csv'), key_prefix=prefix)\n",
    "val_location = session.upload_data(os.path.join(data_dir, 'validation.csv'), key_prefix=prefix)\n",
    "train_location = session.upload_data(os.path.join(data_dir, 'train.csv'), key_prefix=prefix)"
   ]
  },
  {
   "cell_type": "markdown",
   "metadata": {},
   "source": [
    "## Step 4: Creating the XGBoost model\n",
    "\n",
    "Now that the data has been uploaded it is time to create the XGBoost model. To begin with, we need to do some setup. At this point it is worth discussing what a model is in SageMaker. It is easiest to think of a model of comprising three different objects in the SageMaker ecosystem, which interact with one another.\n",
    "\n",
    "- Model Artifacts\n",
    "- Training Code (Container)\n",
    "- Inference Code (Container)\n",
    "\n",
    "The Model Artifacts are what you might think of as the actual model itself. For example, if you were building a neural network, the model artifacts would be the weights of the various layers. In our case, for an XGBoost model, the artifacts are the actual trees that are created during training.\n",
    "\n",
    "The other two objects, the training code and the inference code are then used to manipulate the training artifacts. More precisely, the training code uses the training data that is provided and creates the model artifacts, while the inference code uses the model artifacts to make predictions on new data.\n",
    "\n",
    "The way that SageMaker runs the training and inference code is by making use of Docker containers. For now, think of a container as being a way of packaging code up so that dependencies aren't an issue."
   ]
  },
  {
   "cell_type": "code",
   "execution_count": 19,
   "metadata": {},
   "outputs": [],
   "source": [
    "from sagemaker import get_execution_role\n",
    "\n",
    "# Our current execution role is required when creating the model as the training\n",
    "# and inference code will need to access the model artifacts.\n",
    "role = get_execution_role()"
   ]
  },
  {
   "cell_type": "code",
   "execution_count": 20,
   "metadata": {},
   "outputs": [
    {
     "name": "stderr",
     "output_type": "stream",
     "text": [
      "'get_image_uri' method will be deprecated in favor of 'ImageURIProvider' class in SageMaker Python SDK v2.\n",
      "WARNING:root:There is a more up to date SageMaker XGBoost image. To use the newer image, please set 'repo_version'='1.0-1'. For example:\n",
      "\tget_image_uri(region, 'xgboost', '1.0-1').\n"
     ]
    }
   ],
   "source": [
    "# We need to retrieve the location of the container which is provided by Amazon for using XGBoost.\n",
    "# As a matter of convenience, the training and inference code both use the same container.\n",
    "from sagemaker.amazon.amazon_estimator import get_image_uri\n",
    "\n",
    "container = get_image_uri(session.boto_region_name, 'xgboost')"
   ]
  },
  {
   "cell_type": "code",
   "execution_count": 21,
   "metadata": {},
   "outputs": [
    {
     "name": "stderr",
     "output_type": "stream",
     "text": [
      "WARNING:root:Parameter image_name will be renamed to image_uri in SageMaker Python SDK v2.\n"
     ]
    }
   ],
   "source": [
    "# First we create a SageMaker estimator object for our model.\n",
    "xgb = sagemaker.estimator.Estimator(container, # The location of the container we wish to use\n",
    "                                    role,                                    # What is our current IAM Role\n",
    "                                    train_instance_count=1,                  # How many compute instances\n",
    "                                    train_instance_type='ml.m4.xlarge',      # What kind of compute instances\n",
    "                                    output_path='s3://{}/{}/output'.format(session.default_bucket(), prefix),\n",
    "                                    sagemaker_session=session)\n",
    "\n",
    "# And then set the algorithm specific parameters.\n",
    "xgb.set_hyperparameters(max_depth=5,\n",
    "                        eta=0.2,\n",
    "                        gamma=4,\n",
    "                        min_child_weight=6,\n",
    "                        subsample=0.8,\n",
    "                        silent=0,\n",
    "                        objective='binary:logistic',\n",
    "                        early_stopping_rounds=10,\n",
    "                        num_round=500)"
   ]
  },
  {
   "cell_type": "markdown",
   "metadata": {},
   "source": [
    "### Fit the XGBoost model\n",
    "\n",
    "Now that our model has been set up we simply need to attach the training and validation datasets and then ask SageMaker to set up the computation."
   ]
  },
  {
   "cell_type": "code",
   "execution_count": 22,
   "metadata": {},
   "outputs": [
    {
     "name": "stderr",
     "output_type": "stream",
     "text": [
      "WARNING:sagemaker:'s3_input' class will be renamed to 'TrainingInput' in SageMaker Python SDK v2.\n",
      "WARNING:sagemaker:'s3_input' class will be renamed to 'TrainingInput' in SageMaker Python SDK v2.\n"
     ]
    }
   ],
   "source": [
    "s3_input_train = sagemaker.s3_input(s3_data=train_location, content_type='csv')\n",
    "s3_input_validation = sagemaker.s3_input(s3_data=val_location, content_type='csv')"
   ]
  },
  {
   "cell_type": "code",
   "execution_count": 23,
   "metadata": {},
   "outputs": [
    {
     "name": "stdout",
     "output_type": "stream",
     "text": [
      "2020-06-18 11:24:19 Starting - Starting the training job...\n",
      "2020-06-18 11:24:21 Starting - Launching requested ML instances.........\n",
      "2020-06-18 11:25:50 Starting - Preparing the instances for training......\n",
      "2020-06-18 11:26:56 Downloading - Downloading input data...\n",
      "2020-06-18 11:27:49 Training - Training image download completed. Training in progress..\u001b[34mArguments: train\u001b[0m\n",
      "\u001b[34m[2020-06-18:11:27:50:INFO] Running standalone xgboost training.\u001b[0m\n",
      "\u001b[34m[2020-06-18:11:27:50:INFO] File size need to be processed in the node: 238.5mb. Available memory size in the node: 8479.75mb\u001b[0m\n",
      "\u001b[34m[2020-06-18:11:27:50:INFO] Determined delimiter of CSV input is ','\u001b[0m\n",
      "\u001b[34m[11:27:50] S3DistributionType set as FullyReplicated\u001b[0m\n",
      "\u001b[34m[11:27:52] 15000x5000 matrix with 75000000 entries loaded from /opt/ml/input/data/train?format=csv&label_column=0&delimiter=,\u001b[0m\n",
      "\u001b[34m[2020-06-18:11:27:52:INFO] Determined delimiter of CSV input is ','\u001b[0m\n",
      "\u001b[34m[11:27:52] S3DistributionType set as FullyReplicated\u001b[0m\n",
      "\u001b[34m[11:27:53] 10000x5000 matrix with 50000000 entries loaded from /opt/ml/input/data/validation?format=csv&label_column=0&delimiter=,\u001b[0m\n",
      "\u001b[34m[11:27:56] src/tree/updater_prune.cc:74: tree pruning end, 1 roots, 44 extra nodes, 6 pruned nodes, max_depth=5\u001b[0m\n",
      "\u001b[34m[0]#011train-error:0.304333#011validation-error:0.315\u001b[0m\n",
      "\u001b[34mMultiple eval metrics have been passed: 'validation-error' will be used for early stopping.\n",
      "\u001b[0m\n",
      "\u001b[34mWill train until validation-error hasn't improved in 10 rounds.\u001b[0m\n",
      "\u001b[34m[11:27:58] src/tree/updater_prune.cc:74: tree pruning end, 1 roots, 36 extra nodes, 6 pruned nodes, max_depth=5\u001b[0m\n",
      "\u001b[34m[1]#011train-error:0.299867#011validation-error:0.3104\u001b[0m\n",
      "\u001b[34m[11:27:59] src/tree/updater_prune.cc:74: tree pruning end, 1 roots, 34 extra nodes, 4 pruned nodes, max_depth=5\u001b[0m\n",
      "\u001b[34m[2]#011train-error:0.280467#011validation-error:0.295\u001b[0m\n",
      "\u001b[34m[11:28:00] src/tree/updater_prune.cc:74: tree pruning end, 1 roots, 30 extra nodes, 4 pruned nodes, max_depth=5\u001b[0m\n",
      "\u001b[34m[3]#011train-error:0.271133#011validation-error:0.2842\u001b[0m\n",
      "\u001b[34m[11:28:02] src/tree/updater_prune.cc:74: tree pruning end, 1 roots, 38 extra nodes, 2 pruned nodes, max_depth=5\u001b[0m\n",
      "\u001b[34m[4]#011train-error:0.264933#011validation-error:0.2842\u001b[0m\n",
      "\u001b[34m[11:28:03] src/tree/updater_prune.cc:74: tree pruning end, 1 roots, 34 extra nodes, 2 pruned nodes, max_depth=5\u001b[0m\n",
      "\u001b[34m[5]#011train-error:0.253467#011validation-error:0.2761\u001b[0m\n",
      "\u001b[34m[11:28:04] src/tree/updater_prune.cc:74: tree pruning end, 1 roots, 34 extra nodes, 12 pruned nodes, max_depth=5\u001b[0m\n",
      "\u001b[34m[6]#011train-error:0.246733#011validation-error:0.267\u001b[0m\n",
      "\u001b[34m[11:28:06] src/tree/updater_prune.cc:74: tree pruning end, 1 roots, 34 extra nodes, 4 pruned nodes, max_depth=5\u001b[0m\n",
      "\u001b[34m[7]#011train-error:0.243333#011validation-error:0.2636\u001b[0m\n",
      "\u001b[34m[11:28:07] src/tree/updater_prune.cc:74: tree pruning end, 1 roots, 26 extra nodes, 10 pruned nodes, max_depth=5\u001b[0m\n",
      "\u001b[34m[8]#011train-error:0.2354#011validation-error:0.2548\u001b[0m\n",
      "\u001b[34m[11:28:08] src/tree/updater_prune.cc:74: tree pruning end, 1 roots, 42 extra nodes, 4 pruned nodes, max_depth=5\u001b[0m\n",
      "\u001b[34m[9]#011train-error:0.228267#011validation-error:0.2497\u001b[0m\n",
      "\u001b[34m[11:28:09] src/tree/updater_prune.cc:74: tree pruning end, 1 roots, 32 extra nodes, 8 pruned nodes, max_depth=5\u001b[0m\n",
      "\u001b[34m[10]#011train-error:0.2232#011validation-error:0.2449\u001b[0m\n",
      "\u001b[34m[11:28:11] src/tree/updater_prune.cc:74: tree pruning end, 1 roots, 42 extra nodes, 4 pruned nodes, max_depth=5\u001b[0m\n",
      "\u001b[34m[11]#011train-error:0.217267#011validation-error:0.2404\u001b[0m\n",
      "\u001b[34m[11:28:12] src/tree/updater_prune.cc:74: tree pruning end, 1 roots, 44 extra nodes, 4 pruned nodes, max_depth=5\u001b[0m\n",
      "\u001b[34m[12]#011train-error:0.2138#011validation-error:0.2361\u001b[0m\n",
      "\u001b[34m[11:28:13] src/tree/updater_prune.cc:74: tree pruning end, 1 roots, 32 extra nodes, 4 pruned nodes, max_depth=5\u001b[0m\n",
      "\u001b[34m[13]#011train-error:0.210133#011validation-error:0.2318\u001b[0m\n",
      "\u001b[34m[11:28:14] src/tree/updater_prune.cc:74: tree pruning end, 1 roots, 22 extra nodes, 10 pruned nodes, max_depth=5\u001b[0m\n",
      "\u001b[34m[14]#011train-error:0.206467#011validation-error:0.2283\u001b[0m\n",
      "\u001b[34m[11:28:16] src/tree/updater_prune.cc:74: tree pruning end, 1 roots, 32 extra nodes, 10 pruned nodes, max_depth=5\u001b[0m\n",
      "\u001b[34m[15]#011train-error:0.203867#011validation-error:0.2254\u001b[0m\n",
      "\u001b[34m[11:28:17] src/tree/updater_prune.cc:74: tree pruning end, 1 roots, 28 extra nodes, 8 pruned nodes, max_depth=5\u001b[0m\n",
      "\u001b[34m[16]#011train-error:0.200467#011validation-error:0.2219\u001b[0m\n",
      "\u001b[34m[11:28:18] src/tree/updater_prune.cc:74: tree pruning end, 1 roots, 28 extra nodes, 6 pruned nodes, max_depth=5\u001b[0m\n",
      "\u001b[34m[17]#011train-error:0.197067#011validation-error:0.2199\u001b[0m\n",
      "\u001b[34m[11:28:19] src/tree/updater_prune.cc:74: tree pruning end, 1 roots, 30 extra nodes, 12 pruned nodes, max_depth=5\u001b[0m\n",
      "\u001b[34m[18]#011train-error:0.195#011validation-error:0.2173\u001b[0m\n",
      "\u001b[34m[11:28:21] src/tree/updater_prune.cc:74: tree pruning end, 1 roots, 28 extra nodes, 8 pruned nodes, max_depth=5\u001b[0m\n",
      "\u001b[34m[19]#011train-error:0.190533#011validation-error:0.2141\u001b[0m\n",
      "\u001b[34m[11:28:22] src/tree/updater_prune.cc:74: tree pruning end, 1 roots, 48 extra nodes, 2 pruned nodes, max_depth=5\u001b[0m\n",
      "\u001b[34m[20]#011train-error:0.1892#011validation-error:0.2108\u001b[0m\n",
      "\u001b[34m[11:28:23] src/tree/updater_prune.cc:74: tree pruning end, 1 roots, 26 extra nodes, 12 pruned nodes, max_depth=5\u001b[0m\n",
      "\u001b[34m[21]#011train-error:0.1868#011validation-error:0.2086\u001b[0m\n",
      "\u001b[34m[11:28:25] src/tree/updater_prune.cc:74: tree pruning end, 1 roots, 24 extra nodes, 4 pruned nodes, max_depth=5\u001b[0m\n",
      "\u001b[34m[22]#011train-error:0.182667#011validation-error:0.2063\u001b[0m\n",
      "\u001b[34m[11:28:26] src/tree/updater_prune.cc:74: tree pruning end, 1 roots, 26 extra nodes, 6 pruned nodes, max_depth=5\u001b[0m\n",
      "\u001b[34m[23]#011train-error:0.180667#011validation-error:0.2081\u001b[0m\n",
      "\u001b[34m[11:28:27] src/tree/updater_prune.cc:74: tree pruning end, 1 roots, 22 extra nodes, 10 pruned nodes, max_depth=5\u001b[0m\n",
      "\u001b[34m[24]#011train-error:0.179733#011validation-error:0.2044\u001b[0m\n",
      "\u001b[34m[11:28:28] src/tree/updater_prune.cc:74: tree pruning end, 1 roots, 22 extra nodes, 8 pruned nodes, max_depth=5\u001b[0m\n",
      "\u001b[34m[25]#011train-error:0.177133#011validation-error:0.202\u001b[0m\n",
      "\u001b[34m[11:28:30] src/tree/updater_prune.cc:74: tree pruning end, 1 roots, 28 extra nodes, 8 pruned nodes, max_depth=5\u001b[0m\n",
      "\u001b[34m[26]#011train-error:0.175067#011validation-error:0.2019\u001b[0m\n",
      "\u001b[34m[11:28:31] src/tree/updater_prune.cc:74: tree pruning end, 1 roots, 32 extra nodes, 4 pruned nodes, max_depth=5\u001b[0m\n",
      "\u001b[34m[27]#011train-error:0.1738#011validation-error:0.1993\u001b[0m\n",
      "\u001b[34m[11:28:32] src/tree/updater_prune.cc:74: tree pruning end, 1 roots, 22 extra nodes, 14 pruned nodes, max_depth=5\u001b[0m\n",
      "\u001b[34m[28]#011train-error:0.1714#011validation-error:0.197\u001b[0m\n",
      "\u001b[34m[11:28:33] src/tree/updater_prune.cc:74: tree pruning end, 1 roots, 24 extra nodes, 8 pruned nodes, max_depth=5\u001b[0m\n",
      "\u001b[34m[29]#011train-error:0.170267#011validation-error:0.1968\u001b[0m\n",
      "\u001b[34m[11:28:35] src/tree/updater_prune.cc:74: tree pruning end, 1 roots, 30 extra nodes, 8 pruned nodes, max_depth=5\u001b[0m\n",
      "\u001b[34m[30]#011train-error:0.168133#011validation-error:0.1948\u001b[0m\n",
      "\u001b[34m[11:28:36] src/tree/updater_prune.cc:74: tree pruning end, 1 roots, 26 extra nodes, 2 pruned nodes, max_depth=5\u001b[0m\n",
      "\u001b[34m[31]#011train-error:0.1652#011validation-error:0.193\u001b[0m\n",
      "\u001b[34m[11:28:37] src/tree/updater_prune.cc:74: tree pruning end, 1 roots, 28 extra nodes, 8 pruned nodes, max_depth=5\u001b[0m\n",
      "\u001b[34m[32]#011train-error:0.164067#011validation-error:0.1914\u001b[0m\n",
      "\u001b[34m[11:28:39] src/tree/updater_prune.cc:74: tree pruning end, 1 roots, 30 extra nodes, 8 pruned nodes, max_depth=5\u001b[0m\n",
      "\u001b[34m[33]#011train-error:0.163933#011validation-error:0.19\u001b[0m\n",
      "\u001b[34m[11:28:40] src/tree/updater_prune.cc:74: tree pruning end, 1 roots, 26 extra nodes, 14 pruned nodes, max_depth=5\u001b[0m\n",
      "\u001b[34m[34]#011train-error:0.162133#011validation-error:0.1886\u001b[0m\n",
      "\u001b[34m[11:28:41] src/tree/updater_prune.cc:74: tree pruning end, 1 roots, 26 extra nodes, 8 pruned nodes, max_depth=5\u001b[0m\n",
      "\u001b[34m[35]#011train-error:0.161267#011validation-error:0.1874\u001b[0m\n",
      "\u001b[34m[11:28:42] src/tree/updater_prune.cc:74: tree pruning end, 1 roots, 14 extra nodes, 10 pruned nodes, max_depth=5\u001b[0m\n",
      "\u001b[34m[36]#011train-error:0.159467#011validation-error:0.187\u001b[0m\n",
      "\u001b[34m[11:28:44] src/tree/updater_prune.cc:74: tree pruning end, 1 roots, 24 extra nodes, 8 pruned nodes, max_depth=5\u001b[0m\n",
      "\u001b[34m[37]#011train-error:0.158133#011validation-error:0.1863\u001b[0m\n",
      "\u001b[34m[11:28:45] src/tree/updater_prune.cc:74: tree pruning end, 1 roots, 16 extra nodes, 8 pruned nodes, max_depth=5\u001b[0m\n",
      "\u001b[34m[38]#011train-error:0.155933#011validation-error:0.1851\u001b[0m\n",
      "\u001b[34m[11:28:46] src/tree/updater_prune.cc:74: tree pruning end, 1 roots, 38 extra nodes, 2 pruned nodes, max_depth=5\u001b[0m\n",
      "\u001b[34m[39]#011train-error:0.153867#011validation-error:0.1836\u001b[0m\n"
     ]
    },
    {
     "name": "stdout",
     "output_type": "stream",
     "text": [
      "\u001b[34m[11:28:47] src/tree/updater_prune.cc:74: tree pruning end, 1 roots, 36 extra nodes, 8 pruned nodes, max_depth=5\u001b[0m\n",
      "\u001b[34m[40]#011train-error:0.151667#011validation-error:0.183\u001b[0m\n",
      "\u001b[34m[11:28:49] src/tree/updater_prune.cc:74: tree pruning end, 1 roots, 24 extra nodes, 2 pruned nodes, max_depth=5\u001b[0m\n",
      "\u001b[34m[41]#011train-error:0.150933#011validation-error:0.1805\u001b[0m\n",
      "\u001b[34m[11:28:50] src/tree/updater_prune.cc:74: tree pruning end, 1 roots, 20 extra nodes, 6 pruned nodes, max_depth=5\u001b[0m\n",
      "\u001b[34m[42]#011train-error:0.150333#011validation-error:0.1805\u001b[0m\n",
      "\u001b[34m[11:28:51] src/tree/updater_prune.cc:74: tree pruning end, 1 roots, 18 extra nodes, 8 pruned nodes, max_depth=5\u001b[0m\n",
      "\u001b[34m[43]#011train-error:0.149467#011validation-error:0.1815\u001b[0m\n",
      "\u001b[34m[11:28:52] src/tree/updater_prune.cc:74: tree pruning end, 1 roots, 14 extra nodes, 12 pruned nodes, max_depth=5\u001b[0m\n",
      "\u001b[34m[44]#011train-error:0.148867#011validation-error:0.182\u001b[0m\n",
      "\u001b[34m[11:28:54] src/tree/updater_prune.cc:74: tree pruning end, 1 roots, 20 extra nodes, 4 pruned nodes, max_depth=5\u001b[0m\n",
      "\u001b[34m[45]#011train-error:0.148067#011validation-error:0.18\u001b[0m\n",
      "\u001b[34m[11:28:55] src/tree/updater_prune.cc:74: tree pruning end, 1 roots, 18 extra nodes, 8 pruned nodes, max_depth=5\u001b[0m\n",
      "\u001b[34m[46]#011train-error:0.147067#011validation-error:0.1783\u001b[0m\n",
      "\u001b[34m[11:28:56] src/tree/updater_prune.cc:74: tree pruning end, 1 roots, 22 extra nodes, 10 pruned nodes, max_depth=5\u001b[0m\n",
      "\u001b[34m[47]#011train-error:0.146667#011validation-error:0.1784\u001b[0m\n",
      "\u001b[34m[11:28:58] src/tree/updater_prune.cc:74: tree pruning end, 1 roots, 20 extra nodes, 8 pruned nodes, max_depth=5\u001b[0m\n",
      "\u001b[34m[48]#011train-error:0.1464#011validation-error:0.1776\u001b[0m\n",
      "\u001b[34m[11:28:59] src/tree/updater_prune.cc:74: tree pruning end, 1 roots, 38 extra nodes, 4 pruned nodes, max_depth=5\u001b[0m\n",
      "\u001b[34m[49]#011train-error:0.145067#011validation-error:0.1785\u001b[0m\n",
      "\u001b[34m[11:29:00] src/tree/updater_prune.cc:74: tree pruning end, 1 roots, 20 extra nodes, 2 pruned nodes, max_depth=5\u001b[0m\n",
      "\u001b[34m[50]#011train-error:0.1444#011validation-error:0.1774\u001b[0m\n",
      "\u001b[34m[11:29:01] src/tree/updater_prune.cc:74: tree pruning end, 1 roots, 48 extra nodes, 4 pruned nodes, max_depth=5\u001b[0m\n",
      "\u001b[34m[51]#011train-error:0.142333#011validation-error:0.1754\u001b[0m\n",
      "\u001b[34m[11:29:03] src/tree/updater_prune.cc:74: tree pruning end, 1 roots, 28 extra nodes, 6 pruned nodes, max_depth=5\u001b[0m\n",
      "\u001b[34m[52]#011train-error:0.140533#011validation-error:0.1755\u001b[0m\n",
      "\u001b[34m[11:29:04] src/tree/updater_prune.cc:74: tree pruning end, 1 roots, 16 extra nodes, 6 pruned nodes, max_depth=5\u001b[0m\n",
      "\u001b[34m[53]#011train-error:0.1396#011validation-error:0.1748\u001b[0m\n",
      "\u001b[34m[11:29:05] src/tree/updater_prune.cc:74: tree pruning end, 1 roots, 24 extra nodes, 10 pruned nodes, max_depth=5\u001b[0m\n",
      "\u001b[34m[54]#011train-error:0.138#011validation-error:0.1744\u001b[0m\n",
      "\u001b[34m[11:29:06] src/tree/updater_prune.cc:74: tree pruning end, 1 roots, 20 extra nodes, 10 pruned nodes, max_depth=5\u001b[0m\n",
      "\u001b[34m[55]#011train-error:0.136933#011validation-error:0.1739\u001b[0m\n",
      "\u001b[34m[11:29:08] src/tree/updater_prune.cc:74: tree pruning end, 1 roots, 26 extra nodes, 10 pruned nodes, max_depth=5\u001b[0m\n",
      "\u001b[34m[56]#011train-error:0.135867#011validation-error:0.1732\u001b[0m\n",
      "\u001b[34m[11:29:09] src/tree/updater_prune.cc:74: tree pruning end, 1 roots, 20 extra nodes, 8 pruned nodes, max_depth=5\u001b[0m\n",
      "\u001b[34m[57]#011train-error:0.1346#011validation-error:0.1724\u001b[0m\n",
      "\u001b[34m[11:29:10] src/tree/updater_prune.cc:74: tree pruning end, 1 roots, 24 extra nodes, 8 pruned nodes, max_depth=5\u001b[0m\n",
      "\u001b[34m[58]#011train-error:0.1336#011validation-error:0.1732\u001b[0m\n",
      "\u001b[34m[11:29:11] src/tree/updater_prune.cc:74: tree pruning end, 1 roots, 16 extra nodes, 8 pruned nodes, max_depth=5\u001b[0m\n",
      "\u001b[34m[59]#011train-error:0.133267#011validation-error:0.1737\u001b[0m\n",
      "\u001b[34m[11:29:13] src/tree/updater_prune.cc:74: tree pruning end, 1 roots, 26 extra nodes, 10 pruned nodes, max_depth=5\u001b[0m\n",
      "\u001b[34m[60]#011train-error:0.131933#011validation-error:0.1721\u001b[0m\n",
      "\u001b[34m[11:29:14] src/tree/updater_prune.cc:74: tree pruning end, 1 roots, 16 extra nodes, 14 pruned nodes, max_depth=5\u001b[0m\n",
      "\u001b[34m[61]#011train-error:0.131933#011validation-error:0.17\u001b[0m\n",
      "\u001b[34m[11:29:15] src/tree/updater_prune.cc:74: tree pruning end, 1 roots, 34 extra nodes, 12 pruned nodes, max_depth=5\u001b[0m\n",
      "\u001b[34m[62]#011train-error:0.1294#011validation-error:0.1691\u001b[0m\n",
      "\u001b[34m[11:29:16] src/tree/updater_prune.cc:74: tree pruning end, 1 roots, 26 extra nodes, 14 pruned nodes, max_depth=5\u001b[0m\n",
      "\u001b[34m[63]#011train-error:0.1268#011validation-error:0.1689\u001b[0m\n",
      "\u001b[34m[11:29:18] src/tree/updater_prune.cc:74: tree pruning end, 1 roots, 22 extra nodes, 6 pruned nodes, max_depth=5\u001b[0m\n",
      "\u001b[34m[64]#011train-error:0.1264#011validation-error:0.1675\u001b[0m\n",
      "\u001b[34m[11:29:19] src/tree/updater_prune.cc:74: tree pruning end, 1 roots, 20 extra nodes, 12 pruned nodes, max_depth=5\u001b[0m\n",
      "\u001b[34m[65]#011train-error:0.124867#011validation-error:0.167\u001b[0m\n",
      "\u001b[34m[11:29:20] src/tree/updater_prune.cc:74: tree pruning end, 1 roots, 14 extra nodes, 4 pruned nodes, max_depth=5\u001b[0m\n",
      "\u001b[34m[66]#011train-error:0.124533#011validation-error:0.1658\u001b[0m\n",
      "\u001b[34m[11:29:22] src/tree/updater_prune.cc:74: tree pruning end, 1 roots, 18 extra nodes, 16 pruned nodes, max_depth=5\u001b[0m\n",
      "\u001b[34m[67]#011train-error:0.123867#011validation-error:0.1649\u001b[0m\n",
      "\u001b[34m[11:29:23] src/tree/updater_prune.cc:74: tree pruning end, 1 roots, 14 extra nodes, 6 pruned nodes, max_depth=5\u001b[0m\n",
      "\u001b[34m[68]#011train-error:0.123867#011validation-error:0.1651\u001b[0m\n",
      "\u001b[34m[11:29:24] src/tree/updater_prune.cc:74: tree pruning end, 1 roots, 28 extra nodes, 6 pruned nodes, max_depth=5\u001b[0m\n",
      "\u001b[34m[69]#011train-error:0.122933#011validation-error:0.1643\u001b[0m\n",
      "\u001b[34m[11:29:25] src/tree/updater_prune.cc:74: tree pruning end, 1 roots, 14 extra nodes, 10 pruned nodes, max_depth=5\u001b[0m\n",
      "\u001b[34m[70]#011train-error:0.121933#011validation-error:0.1632\u001b[0m\n",
      "\u001b[34m[11:29:27] src/tree/updater_prune.cc:74: tree pruning end, 1 roots, 22 extra nodes, 4 pruned nodes, max_depth=5\u001b[0m\n",
      "\u001b[34m[71]#011train-error:0.1208#011validation-error:0.1642\u001b[0m\n",
      "\u001b[34m[11:29:28] src/tree/updater_prune.cc:74: tree pruning end, 1 roots, 18 extra nodes, 10 pruned nodes, max_depth=5\u001b[0m\n",
      "\u001b[34m[72]#011train-error:0.120133#011validation-error:0.1629\u001b[0m\n",
      "\u001b[34m[11:29:29] src/tree/updater_prune.cc:74: tree pruning end, 1 roots, 32 extra nodes, 8 pruned nodes, max_depth=5\u001b[0m\n",
      "\u001b[34m[73]#011train-error:0.120067#011validation-error:0.1629\u001b[0m\n",
      "\u001b[34m[11:29:30] src/tree/updater_prune.cc:74: tree pruning end, 1 roots, 18 extra nodes, 4 pruned nodes, max_depth=5\u001b[0m\n",
      "\u001b[34m[74]#011train-error:0.1188#011validation-error:0.162\u001b[0m\n",
      "\u001b[34m[11:29:32] src/tree/updater_prune.cc:74: tree pruning end, 1 roots, 38 extra nodes, 4 pruned nodes, max_depth=5\u001b[0m\n",
      "\u001b[34m[75]#011train-error:0.117733#011validation-error:0.1615\u001b[0m\n",
      "\u001b[34m[11:29:33] src/tree/updater_prune.cc:74: tree pruning end, 1 roots, 26 extra nodes, 2 pruned nodes, max_depth=5\u001b[0m\n",
      "\u001b[34m[76]#011train-error:0.115933#011validation-error:0.1617\u001b[0m\n",
      "\u001b[34m[11:29:34] src/tree/updater_prune.cc:74: tree pruning end, 1 roots, 20 extra nodes, 4 pruned nodes, max_depth=5\u001b[0m\n",
      "\u001b[34m[77]#011train-error:0.115267#011validation-error:0.1608\u001b[0m\n",
      "\u001b[34m[11:29:35] src/tree/updater_prune.cc:74: tree pruning end, 1 roots, 18 extra nodes, 6 pruned nodes, max_depth=5\u001b[0m\n",
      "\u001b[34m[78]#011train-error:0.115333#011validation-error:0.1605\u001b[0m\n",
      "\u001b[34m[11:29:37] src/tree/updater_prune.cc:74: tree pruning end, 1 roots, 30 extra nodes, 4 pruned nodes, max_depth=5\u001b[0m\n",
      "\u001b[34m[79]#011train-error:0.115867#011validation-error:0.1621\u001b[0m\n",
      "\u001b[34m[11:29:38] src/tree/updater_prune.cc:74: tree pruning end, 1 roots, 16 extra nodes, 2 pruned nodes, max_depth=5\u001b[0m\n",
      "\u001b[34m[80]#011train-error:0.115067#011validation-error:0.1624\u001b[0m\n",
      "\u001b[34m[11:29:39] src/tree/updater_prune.cc:74: tree pruning end, 1 roots, 14 extra nodes, 6 pruned nodes, max_depth=5\u001b[0m\n",
      "\u001b[34m[81]#011train-error:0.114533#011validation-error:0.1621\u001b[0m\n",
      "\u001b[34m[11:29:41] src/tree/updater_prune.cc:74: tree pruning end, 1 roots, 12 extra nodes, 6 pruned nodes, max_depth=5\u001b[0m\n",
      "\u001b[34m[82]#011train-error:0.113733#011validation-error:0.1608\u001b[0m\n",
      "\u001b[34m[11:29:42] src/tree/updater_prune.cc:74: tree pruning end, 1 roots, 20 extra nodes, 2 pruned nodes, max_depth=5\u001b[0m\n",
      "\u001b[34m[83]#011train-error:0.112933#011validation-error:0.1604\u001b[0m\n",
      "\u001b[34m[11:29:43] src/tree/updater_prune.cc:74: tree pruning end, 1 roots, 22 extra nodes, 12 pruned nodes, max_depth=5\u001b[0m\n",
      "\u001b[34m[84]#011train-error:0.112#011validation-error:0.1596\u001b[0m\n",
      "\u001b[34m[11:29:44] src/tree/updater_prune.cc:74: tree pruning end, 1 roots, 12 extra nodes, 14 pruned nodes, max_depth=5\u001b[0m\n",
      "\u001b[34m[85]#011train-error:0.112133#011validation-error:0.1598\u001b[0m\n",
      "\u001b[34m[11:29:46] src/tree/updater_prune.cc:74: tree pruning end, 1 roots, 38 extra nodes, 8 pruned nodes, max_depth=5\u001b[0m\n",
      "\u001b[34m[86]#011train-error:0.111533#011validation-error:0.1606\u001b[0m\n",
      "\u001b[34m[11:29:47] src/tree/updater_prune.cc:74: tree pruning end, 1 roots, 16 extra nodes, 8 pruned nodes, max_depth=5\u001b[0m\n",
      "\u001b[34m[87]#011train-error:0.110533#011validation-error:0.16\u001b[0m\n"
     ]
    },
    {
     "name": "stdout",
     "output_type": "stream",
     "text": [
      "\u001b[34m[11:29:48] src/tree/updater_prune.cc:74: tree pruning end, 1 roots, 24 extra nodes, 8 pruned nodes, max_depth=5\u001b[0m\n",
      "\u001b[34m[88]#011train-error:0.109933#011validation-error:0.1593\u001b[0m\n",
      "\u001b[34m[11:29:49] src/tree/updater_prune.cc:74: tree pruning end, 1 roots, 24 extra nodes, 0 pruned nodes, max_depth=5\u001b[0m\n",
      "\u001b[34m[89]#011train-error:0.108867#011validation-error:0.1568\u001b[0m\n",
      "\u001b[34m[11:29:51] src/tree/updater_prune.cc:74: tree pruning end, 1 roots, 14 extra nodes, 8 pruned nodes, max_depth=5\u001b[0m\n",
      "\u001b[34m[90]#011train-error:0.108667#011validation-error:0.157\u001b[0m\n",
      "\u001b[34m[11:29:52] src/tree/updater_prune.cc:74: tree pruning end, 1 roots, 14 extra nodes, 10 pruned nodes, max_depth=5\u001b[0m\n",
      "\u001b[34m[91]#011train-error:0.108267#011validation-error:0.157\u001b[0m\n",
      "\u001b[34m[11:29:53] src/tree/updater_prune.cc:74: tree pruning end, 1 roots, 28 extra nodes, 4 pruned nodes, max_depth=5\u001b[0m\n",
      "\u001b[34m[92]#011train-error:0.107267#011validation-error:0.1566\u001b[0m\n",
      "\u001b[34m[11:29:54] src/tree/updater_prune.cc:74: tree pruning end, 1 roots, 12 extra nodes, 8 pruned nodes, max_depth=5\u001b[0m\n",
      "\u001b[34m[93]#011train-error:0.106733#011validation-error:0.1566\u001b[0m\n",
      "\u001b[34m[11:29:56] src/tree/updater_prune.cc:74: tree pruning end, 1 roots, 12 extra nodes, 8 pruned nodes, max_depth=5\u001b[0m\n",
      "\u001b[34m[94]#011train-error:0.106#011validation-error:0.1559\u001b[0m\n",
      "\u001b[34m[11:29:57] src/tree/updater_prune.cc:74: tree pruning end, 1 roots, 18 extra nodes, 10 pruned nodes, max_depth=5\u001b[0m\n",
      "\u001b[34m[95]#011train-error:0.1058#011validation-error:0.1557\u001b[0m\n",
      "\u001b[34m[11:29:58] src/tree/updater_prune.cc:74: tree pruning end, 1 roots, 22 extra nodes, 6 pruned nodes, max_depth=5\u001b[0m\n",
      "\u001b[34m[96]#011train-error:0.1062#011validation-error:0.1559\u001b[0m\n",
      "\u001b[34m[11:30:00] src/tree/updater_prune.cc:74: tree pruning end, 1 roots, 30 extra nodes, 10 pruned nodes, max_depth=5\u001b[0m\n",
      "\u001b[34m[97]#011train-error:0.104933#011validation-error:0.1545\u001b[0m\n",
      "\u001b[34m[11:30:01] src/tree/updater_prune.cc:74: tree pruning end, 1 roots, 16 extra nodes, 4 pruned nodes, max_depth=5\u001b[0m\n",
      "\u001b[34m[98]#011train-error:0.105267#011validation-error:0.1537\u001b[0m\n",
      "\u001b[34m[11:30:02] src/tree/updater_prune.cc:74: tree pruning end, 1 roots, 14 extra nodes, 14 pruned nodes, max_depth=5\u001b[0m\n",
      "\u001b[34m[99]#011train-error:0.104333#011validation-error:0.1532\u001b[0m\n",
      "\u001b[34m[11:30:03] src/tree/updater_prune.cc:74: tree pruning end, 1 roots, 12 extra nodes, 10 pruned nodes, max_depth=5\u001b[0m\n",
      "\u001b[34m[100]#011train-error:0.104267#011validation-error:0.1529\u001b[0m\n",
      "\u001b[34m[11:30:05] src/tree/updater_prune.cc:74: tree pruning end, 1 roots, 20 extra nodes, 6 pruned nodes, max_depth=5\u001b[0m\n",
      "\u001b[34m[101]#011train-error:0.103733#011validation-error:0.1523\u001b[0m\n",
      "\u001b[34m[11:30:06] src/tree/updater_prune.cc:74: tree pruning end, 1 roots, 14 extra nodes, 8 pruned nodes, max_depth=5\u001b[0m\n",
      "\u001b[34m[102]#011train-error:0.104133#011validation-error:0.1523\u001b[0m\n",
      "\u001b[34m[11:30:07] src/tree/updater_prune.cc:74: tree pruning end, 1 roots, 22 extra nodes, 8 pruned nodes, max_depth=5\u001b[0m\n",
      "\u001b[34m[103]#011train-error:0.1038#011validation-error:0.1517\u001b[0m\n",
      "\u001b[34m[11:30:09] src/tree/updater_prune.cc:74: tree pruning end, 1 roots, 16 extra nodes, 10 pruned nodes, max_depth=5\u001b[0m\n",
      "\u001b[34m[104]#011train-error:0.103667#011validation-error:0.1509\u001b[0m\n",
      "\u001b[34m[11:30:10] src/tree/updater_prune.cc:74: tree pruning end, 1 roots, 28 extra nodes, 8 pruned nodes, max_depth=5\u001b[0m\n",
      "\u001b[34m[105]#011train-error:0.1026#011validation-error:0.1509\u001b[0m\n",
      "\u001b[34m[11:30:11] src/tree/updater_prune.cc:74: tree pruning end, 1 roots, 16 extra nodes, 14 pruned nodes, max_depth=5\u001b[0m\n",
      "\u001b[34m[106]#011train-error:0.101867#011validation-error:0.1504\u001b[0m\n",
      "\u001b[34m[11:30:12] src/tree/updater_prune.cc:74: tree pruning end, 1 roots, 12 extra nodes, 8 pruned nodes, max_depth=5\u001b[0m\n",
      "\u001b[34m[107]#011train-error:0.101733#011validation-error:0.1502\u001b[0m\n",
      "\u001b[34m[11:30:14] src/tree/updater_prune.cc:74: tree pruning end, 1 roots, 18 extra nodes, 10 pruned nodes, max_depth=5\u001b[0m\n",
      "\u001b[34m[108]#011train-error:0.099667#011validation-error:0.1496\u001b[0m\n",
      "\u001b[34m[11:30:15] src/tree/updater_prune.cc:74: tree pruning end, 1 roots, 12 extra nodes, 4 pruned nodes, max_depth=5\u001b[0m\n",
      "\u001b[34m[109]#011train-error:0.099467#011validation-error:0.1495\u001b[0m\n",
      "\u001b[34m[11:30:16] src/tree/updater_prune.cc:74: tree pruning end, 1 roots, 16 extra nodes, 4 pruned nodes, max_depth=5\u001b[0m\n",
      "\u001b[34m[110]#011train-error:0.0994#011validation-error:0.1499\u001b[0m\n",
      "\u001b[34m[11:30:17] src/tree/updater_prune.cc:74: tree pruning end, 1 roots, 18 extra nodes, 6 pruned nodes, max_depth=5\u001b[0m\n",
      "\u001b[34m[111]#011train-error:0.099467#011validation-error:0.1498\u001b[0m\n",
      "\u001b[34m[11:30:19] src/tree/updater_prune.cc:74: tree pruning end, 1 roots, 14 extra nodes, 10 pruned nodes, max_depth=5\u001b[0m\n",
      "\u001b[34m[112]#011train-error:0.0992#011validation-error:0.1502\u001b[0m\n",
      "\u001b[34m[11:30:20] src/tree/updater_prune.cc:74: tree pruning end, 1 roots, 30 extra nodes, 14 pruned nodes, max_depth=5\u001b[0m\n",
      "\u001b[34m[113]#011train-error:0.0988#011validation-error:0.1502\u001b[0m\n",
      "\u001b[34m[11:30:21] src/tree/updater_prune.cc:74: tree pruning end, 1 roots, 22 extra nodes, 16 pruned nodes, max_depth=5\u001b[0m\n",
      "\u001b[34m[114]#011train-error:0.097667#011validation-error:0.1498\u001b[0m\n",
      "\u001b[34m[11:30:22] src/tree/updater_prune.cc:74: tree pruning end, 1 roots, 18 extra nodes, 8 pruned nodes, max_depth=5\u001b[0m\n",
      "\u001b[34m[115]#011train-error:0.097467#011validation-error:0.1503\u001b[0m\n",
      "\u001b[34m[11:30:24] src/tree/updater_prune.cc:74: tree pruning end, 1 roots, 22 extra nodes, 2 pruned nodes, max_depth=5\u001b[0m\n",
      "\u001b[34m[116]#011train-error:0.096933#011validation-error:0.1506\u001b[0m\n",
      "\u001b[34m[11:30:25] src/tree/updater_prune.cc:74: tree pruning end, 1 roots, 22 extra nodes, 10 pruned nodes, max_depth=5\u001b[0m\n",
      "\u001b[34m[117]#011train-error:0.0966#011validation-error:0.1501\u001b[0m\n",
      "\u001b[34m[11:30:26] src/tree/updater_prune.cc:74: tree pruning end, 1 roots, 12 extra nodes, 6 pruned nodes, max_depth=5\u001b[0m\n",
      "\u001b[34m[118]#011train-error:0.096333#011validation-error:0.1499\u001b[0m\n",
      "\u001b[34m[11:30:28] src/tree/updater_prune.cc:74: tree pruning end, 1 roots, 10 extra nodes, 12 pruned nodes, max_depth=5\u001b[0m\n",
      "\u001b[34m[119]#011train-error:0.095933#011validation-error:0.1499\u001b[0m\n",
      "\u001b[34mStopping. Best iteration:\u001b[0m\n",
      "\u001b[34m[109]#011train-error:0.099467#011validation-error:0.1495\n",
      "\u001b[0m\n",
      "\n",
      "2020-06-18 11:30:38 Uploading - Uploading generated training model\n",
      "2020-06-18 11:30:38 Completed - Training job completed\n",
      "Training seconds: 222\n",
      "Billable seconds: 222\n"
     ]
    }
   ],
   "source": [
    "xgb.fit({'train': s3_input_train, 'validation': s3_input_validation})"
   ]
  },
  {
   "cell_type": "markdown",
   "metadata": {},
   "source": [
    "## Step 5: Testing the model\n",
    "\n",
    "Now that we've fit our XGBoost model, it's time to see how well it performs. To do this we will use SageMakers Batch Transform functionality. Batch Transform is a convenient way to perform inference on a large dataset in a way that is not realtime. That is, we don't necessarily need to use our model's results immediately and instead we can perform inference on a large number of samples. An example of this in industry might be performing an end of month report. This method of inference can also be useful to us as it means that we can perform inference on our entire test set. \n",
    "\n",
    "To perform a Batch Transformation we need to first create a transformer objects from our trained estimator object."
   ]
  },
  {
   "cell_type": "code",
   "execution_count": 24,
   "metadata": {},
   "outputs": [
    {
     "name": "stderr",
     "output_type": "stream",
     "text": [
      "WARNING:sagemaker:Parameter image will be renamed to image_uri in SageMaker Python SDK v2.\n"
     ]
    }
   ],
   "source": [
    "xgb_transformer = xgb.transformer(instance_count = 1, instance_type = 'ml.m4.xlarge')"
   ]
  },
  {
   "cell_type": "markdown",
   "metadata": {},
   "source": [
    "Next we actually perform the transform job. When doing so we need to make sure to specify the type of data we are sending so that it is serialized correctly in the background. In our case we are providing our model with csv data so we specify `text/csv`. Also, if the test data that we have provided is too large to process all at once then we need to specify how the data file should be split up. Since each line is a single entry in our data set we tell SageMaker that it can split the input on each line."
   ]
  },
  {
   "cell_type": "code",
   "execution_count": 25,
   "metadata": {},
   "outputs": [],
   "source": [
    "xgb_transformer.transform(test_location, content_type='text/csv', split_type='Line')"
   ]
  },
  {
   "cell_type": "markdown",
   "metadata": {},
   "source": [
    "Currently the transform job is running but it is doing so in the background. Since we wish to wait until the transform job is done and we would like a bit of feedback we can run the `wait()` method."
   ]
  },
  {
   "cell_type": "code",
   "execution_count": 26,
   "metadata": {},
   "outputs": [
    {
     "name": "stdout",
     "output_type": "stream",
     "text": [
      "....................\u001b[34mArguments: serve\u001b[0m\n",
      "\u001b[34m[2020-06-18 11:34:14 +0000] [1] [INFO] Starting gunicorn 19.7.1\u001b[0m\n",
      "\u001b[34m[2020-06-18 11:34:14 +0000] [1] [INFO] Listening at: http://0.0.0.0:8080 (1)\u001b[0m\n",
      "\u001b[34m[2020-06-18 11:34:14 +0000] [1] [INFO] Using worker: gevent\u001b[0m\n",
      "\u001b[34m[2020-06-18 11:34:14 +0000] [38] [INFO] Booting worker with pid: 38\u001b[0m\n",
      "\u001b[34m[2020-06-18 11:34:14 +0000] [39] [INFO] Booting worker with pid: 39\u001b[0m\n",
      "\u001b[34m[2020-06-18 11:34:14 +0000] [40] [INFO] Booting worker with pid: 40\u001b[0m\n",
      "\u001b[34m[2020-06-18:11:34:15:INFO] Model loaded successfully for worker : 38\u001b[0m\n",
      "\u001b[34m[2020-06-18 11:34:15 +0000] [41] [INFO] Booting worker with pid: 41\u001b[0m\n",
      "\u001b[34m[2020-06-18:11:34:15:INFO] Model loaded successfully for worker : 39\u001b[0m\n",
      "\u001b[34m[2020-06-18:11:34:15:INFO] Model loaded successfully for worker : 40\u001b[0m\n",
      "\u001b[34m[2020-06-18:11:34:15:INFO] Model loaded successfully for worker : 41\u001b[0m\n",
      "\u001b[34m[2020-06-18:11:34:54:INFO] Sniff delimiter as ','\u001b[0m\n",
      "\u001b[34m[2020-06-18:11:34:54:INFO] Determined delimiter of CSV input is ','\u001b[0m\n",
      "\u001b[34m[2020-06-18:11:34:54:INFO] Sniff delimiter as ','\u001b[0m\n",
      "\u001b[34m[2020-06-18:11:34:54:INFO] Determined delimiter of CSV input is ','\u001b[0m\n",
      "\u001b[35m[2020-06-18:11:34:54:INFO] Sniff delimiter as ','\u001b[0m\n",
      "\u001b[35m[2020-06-18:11:34:54:INFO] Determined delimiter of CSV input is ','\u001b[0m\n",
      "\u001b[35m[2020-06-18:11:34:54:INFO] Sniff delimiter as ','\u001b[0m\n",
      "\u001b[35m[2020-06-18:11:34:54:INFO] Determined delimiter of CSV input is ','\u001b[0m\n",
      "\u001b[34m[2020-06-18:11:34:55:INFO] Sniff delimiter as ','\u001b[0m\n",
      "\u001b[34m[2020-06-18:11:34:55:INFO] Determined delimiter of CSV input is ','\u001b[0m\n",
      "\u001b[34m[2020-06-18:11:34:55:INFO] Sniff delimiter as ','\u001b[0m\n",
      "\u001b[34m[2020-06-18:11:34:55:INFO] Determined delimiter of CSV input is ','\u001b[0m\n",
      "\u001b[35m[2020-06-18:11:34:55:INFO] Sniff delimiter as ','\u001b[0m\n",
      "\u001b[35m[2020-06-18:11:34:55:INFO] Determined delimiter of CSV input is ','\u001b[0m\n",
      "\u001b[35m[2020-06-18:11:34:55:INFO] Sniff delimiter as ','\u001b[0m\n",
      "\u001b[35m[2020-06-18:11:34:55:INFO] Determined delimiter of CSV input is ','\u001b[0m\n",
      "\u001b[32m2020-06-18T11:34:51.705:[sagemaker logs]: MaxConcurrentTransforms=4, MaxPayloadInMB=6, BatchStrategy=MULTI_RECORD\u001b[0m\n",
      "\u001b[34m[2020-06-18:11:34:56:INFO] Sniff delimiter as ','\u001b[0m\n",
      "\u001b[34m[2020-06-18:11:34:56:INFO] Determined delimiter of CSV input is ','\u001b[0m\n",
      "\u001b[34m[2020-06-18:11:34:57:INFO] Sniff delimiter as ','\u001b[0m\n",
      "\u001b[35m[2020-06-18:11:34:56:INFO] Sniff delimiter as ','\u001b[0m\n",
      "\u001b[35m[2020-06-18:11:34:56:INFO] Determined delimiter of CSV input is ','\u001b[0m\n",
      "\u001b[35m[2020-06-18:11:34:57:INFO] Sniff delimiter as ','\u001b[0m\n",
      "\u001b[34m[2020-06-18:11:34:57:INFO] Determined delimiter of CSV input is ','\u001b[0m\n",
      "\u001b[35m[2020-06-18:11:34:57:INFO] Determined delimiter of CSV input is ','\u001b[0m\n",
      "\u001b[34m[2020-06-18:11:34:57:INFO] Sniff delimiter as ','\u001b[0m\n",
      "\u001b[34m[2020-06-18:11:34:57:INFO] Determined delimiter of CSV input is ','\u001b[0m\n",
      "\u001b[35m[2020-06-18:11:34:57:INFO] Sniff delimiter as ','\u001b[0m\n",
      "\u001b[35m[2020-06-18:11:34:57:INFO] Determined delimiter of CSV input is ','\u001b[0m\n",
      "\u001b[34m[2020-06-18:11:34:57:INFO] Sniff delimiter as ','\u001b[0m\n",
      "\u001b[34m[2020-06-18:11:34:57:INFO] Determined delimiter of CSV input is ','\u001b[0m\n",
      "\u001b[35m[2020-06-18:11:34:57:INFO] Sniff delimiter as ','\u001b[0m\n",
      "\u001b[35m[2020-06-18:11:34:57:INFO] Determined delimiter of CSV input is ','\u001b[0m\n",
      "\u001b[34m[2020-06-18:11:34:59:INFO] Sniff delimiter as ','\u001b[0m\n",
      "\u001b[34m[2020-06-18:11:34:59:INFO] Determined delimiter of CSV input is ','\u001b[0m\n",
      "\u001b[34m[2020-06-18:11:35:00:INFO] Sniff delimiter as ','\u001b[0m\n",
      "\u001b[34m[2020-06-18:11:35:00:INFO] Determined delimiter of CSV input is ','\u001b[0m\n",
      "\u001b[35m[2020-06-18:11:34:59:INFO] Sniff delimiter as ','\u001b[0m\n",
      "\u001b[35m[2020-06-18:11:34:59:INFO] Determined delimiter of CSV input is ','\u001b[0m\n",
      "\u001b[35m[2020-06-18:11:35:00:INFO] Sniff delimiter as ','\u001b[0m\n",
      "\u001b[35m[2020-06-18:11:35:00:INFO] Determined delimiter of CSV input is ','\u001b[0m\n",
      "\u001b[34m[2020-06-18:11:35:00:INFO] Sniff delimiter as ','\u001b[0m\n",
      "\u001b[34m[2020-06-18:11:35:00:INFO] Determined delimiter of CSV input is ','\u001b[0m\n",
      "\u001b[35m[2020-06-18:11:35:00:INFO] Sniff delimiter as ','\u001b[0m\n",
      "\u001b[35m[2020-06-18:11:35:00:INFO] Determined delimiter of CSV input is ','\u001b[0m\n",
      "\u001b[34m[2020-06-18:11:35:01:INFO] Sniff delimiter as ','\u001b[0m\n",
      "\u001b[34m[2020-06-18:11:35:01:INFO] Determined delimiter of CSV input is ','\u001b[0m\n",
      "\u001b[34m[2020-06-18:11:35:02:INFO] Sniff delimiter as ','\u001b[0m\n",
      "\u001b[34m[2020-06-18:11:35:02:INFO] Determined delimiter of CSV input is ','\u001b[0m\n",
      "\u001b[35m[2020-06-18:11:35:01:INFO] Sniff delimiter as ','\u001b[0m\n",
      "\u001b[35m[2020-06-18:11:35:01:INFO] Determined delimiter of CSV input is ','\u001b[0m\n",
      "\u001b[35m[2020-06-18:11:35:02:INFO] Sniff delimiter as ','\u001b[0m\n",
      "\u001b[35m[2020-06-18:11:35:02:INFO] Determined delimiter of CSV input is ','\u001b[0m\n",
      "\u001b[34m[2020-06-18:11:35:02:INFO] Sniff delimiter as ','\u001b[0m\n",
      "\u001b[34m[2020-06-18:11:35:02:INFO] Determined delimiter of CSV input is ','\u001b[0m\n",
      "\u001b[35m[2020-06-18:11:35:02:INFO] Sniff delimiter as ','\u001b[0m\n",
      "\u001b[35m[2020-06-18:11:35:02:INFO] Determined delimiter of CSV input is ','\u001b[0m\n",
      "\u001b[34m[2020-06-18:11:35:02:INFO] Sniff delimiter as ','\u001b[0m\n",
      "\u001b[34m[2020-06-18:11:35:02:INFO] Determined delimiter of CSV input is ','\u001b[0m\n",
      "\u001b[35m[2020-06-18:11:35:02:INFO] Sniff delimiter as ','\u001b[0m\n",
      "\u001b[35m[2020-06-18:11:35:02:INFO] Determined delimiter of CSV input is ','\u001b[0m\n",
      "\u001b[34m[2020-06-18:11:35:04:INFO] Sniff delimiter as ','\u001b[0m\n",
      "\u001b[34m[2020-06-18:11:35:04:INFO] Determined delimiter of CSV input is ','\u001b[0m\n",
      "\u001b[35m[2020-06-18:11:35:04:INFO] Sniff delimiter as ','\u001b[0m\n",
      "\u001b[35m[2020-06-18:11:35:04:INFO] Determined delimiter of CSV input is ','\u001b[0m\n",
      "\u001b[34m[2020-06-18:11:35:04:INFO] Sniff delimiter as ','\u001b[0m\n",
      "\u001b[34m[2020-06-18:11:35:04:INFO] Determined delimiter of CSV input is ','\u001b[0m\n",
      "\u001b[34m[2020-06-18:11:35:04:INFO] Sniff delimiter as ','\u001b[0m\n",
      "\u001b[34m[2020-06-18:11:35:04:INFO] Determined delimiter of CSV input is ','\u001b[0m\n",
      "\u001b[34m[2020-06-18:11:35:05:INFO] Sniff delimiter as ','\u001b[0m\n",
      "\u001b[34m[2020-06-18:11:35:05:INFO] Determined delimiter of CSV input is ','\u001b[0m\n",
      "\u001b[35m[2020-06-18:11:35:04:INFO] Sniff delimiter as ','\u001b[0m\n",
      "\u001b[35m[2020-06-18:11:35:04:INFO] Determined delimiter of CSV input is ','\u001b[0m\n",
      "\u001b[35m[2020-06-18:11:35:04:INFO] Sniff delimiter as ','\u001b[0m\n",
      "\u001b[35m[2020-06-18:11:35:04:INFO] Determined delimiter of CSV input is ','\u001b[0m\n",
      "\u001b[35m[2020-06-18:11:35:05:INFO] Sniff delimiter as ','\u001b[0m\n",
      "\u001b[35m[2020-06-18:11:35:05:INFO] Determined delimiter of CSV input is ','\u001b[0m\n",
      "\u001b[34m[2020-06-18:11:35:06:INFO] Sniff delimiter as ','\u001b[0m\n",
      "\u001b[34m[2020-06-18:11:35:06:INFO] Determined delimiter of CSV input is ','\u001b[0m\n",
      "\u001b[34m[2020-06-18:11:35:06:INFO] Sniff delimiter as ','\u001b[0m\n",
      "\u001b[34m[2020-06-18:11:35:06:INFO] Determined delimiter of CSV input is ','\u001b[0m\n",
      "\u001b[34m[2020-06-18:11:35:07:INFO] Sniff delimiter as ','\u001b[0m\n",
      "\u001b[35m[2020-06-18:11:35:06:INFO] Sniff delimiter as ','\u001b[0m\n",
      "\u001b[35m[2020-06-18:11:35:06:INFO] Determined delimiter of CSV input is ','\u001b[0m\n",
      "\u001b[35m[2020-06-18:11:35:06:INFO] Sniff delimiter as ','\u001b[0m\n",
      "\u001b[35m[2020-06-18:11:35:06:INFO] Determined delimiter of CSV input is ','\u001b[0m\n",
      "\u001b[35m[2020-06-18:11:35:07:INFO] Sniff delimiter as ','\u001b[0m\n",
      "\u001b[34m[2020-06-18:11:35:07:INFO] Determined delimiter of CSV input is ','\u001b[0m\n",
      "\u001b[35m[2020-06-18:11:35:07:INFO] Determined delimiter of CSV input is ','\u001b[0m\n",
      "\u001b[34m[2020-06-18:11:35:07:INFO] Sniff delimiter as ','\u001b[0m\n",
      "\u001b[34m[2020-06-18:11:35:07:INFO] Determined delimiter of CSV input is ','\u001b[0m\n",
      "\u001b[35m[2020-06-18:11:35:07:INFO] Sniff delimiter as ','\u001b[0m\n",
      "\u001b[35m[2020-06-18:11:35:07:INFO] Determined delimiter of CSV input is ','\u001b[0m\n",
      "\u001b[34m[2020-06-18:11:35:09:INFO] Sniff delimiter as ','\u001b[0m\n",
      "\u001b[34m[2020-06-18:11:35:09:INFO] Determined delimiter of CSV input is ','\u001b[0m\n",
      "\u001b[35m[2020-06-18:11:35:09:INFO] Sniff delimiter as ','\u001b[0m\n",
      "\u001b[35m[2020-06-18:11:35:09:INFO] Determined delimiter of CSV input is ','\u001b[0m\n",
      "\u001b[34m[2020-06-18:11:35:09:INFO] Sniff delimiter as ','\u001b[0m\n",
      "\u001b[34m[2020-06-18:11:35:09:INFO] Determined delimiter of CSV input is ','\u001b[0m\n",
      "\u001b[34m[2020-06-18:11:35:10:INFO] Sniff delimiter as ','\u001b[0m\n",
      "\u001b[34m[2020-06-18:11:35:10:INFO] Determined delimiter of CSV input is ','\u001b[0m\n",
      "\u001b[35m[2020-06-18:11:35:09:INFO] Sniff delimiter as ','\u001b[0m\n",
      "\u001b[35m[2020-06-18:11:35:09:INFO] Determined delimiter of CSV input is ','\u001b[0m\n",
      "\u001b[35m[2020-06-18:11:35:10:INFO] Sniff delimiter as ','\u001b[0m\n",
      "\u001b[35m[2020-06-18:11:35:10:INFO] Determined delimiter of CSV input is ','\u001b[0m\n",
      "\u001b[34m[2020-06-18:11:35:11:INFO] Sniff delimiter as ','\u001b[0m\n",
      "\u001b[34m[2020-06-18:11:35:11:INFO] Determined delimiter of CSV input is ','\u001b[0m\n",
      "\u001b[34m[2020-06-18:11:35:11:INFO] Sniff delimiter as ','\u001b[0m\n",
      "\u001b[34m[2020-06-18:11:35:11:INFO] Determined delimiter of CSV input is ','\u001b[0m\n",
      "\u001b[34m[2020-06-18:11:35:12:INFO] Sniff delimiter as ','\u001b[0m\n",
      "\u001b[34m[2020-06-18:11:35:12:INFO] Determined delimiter of CSV input is ','\u001b[0m\n",
      "\u001b[35m[2020-06-18:11:35:11:INFO] Sniff delimiter as ','\u001b[0m\n",
      "\u001b[35m[2020-06-18:11:35:11:INFO] Determined delimiter of CSV input is ','\u001b[0m\n",
      "\u001b[35m[2020-06-18:11:35:11:INFO] Sniff delimiter as ','\u001b[0m\n",
      "\u001b[35m[2020-06-18:11:35:11:INFO] Determined delimiter of CSV input is ','\u001b[0m\n",
      "\u001b[35m[2020-06-18:11:35:12:INFO] Sniff delimiter as ','\u001b[0m\n",
      "\u001b[35m[2020-06-18:11:35:12:INFO] Determined delimiter of CSV input is ','\u001b[0m\n",
      "\u001b[34m[2020-06-18:11:35:12:INFO] Sniff delimiter as ','\u001b[0m\n",
      "\u001b[35m[2020-06-18:11:35:12:INFO] Sniff delimiter as ','\u001b[0m\n",
      "\u001b[34m[2020-06-18:11:35:12:INFO] Determined delimiter of CSV input is ','\u001b[0m\n",
      "\u001b[35m[2020-06-18:11:35:12:INFO] Determined delimiter of CSV input is ','\u001b[0m\n",
      "\u001b[34m[2020-06-18:11:35:14:INFO] Sniff delimiter as ','\u001b[0m\n",
      "\u001b[34m[2020-06-18:11:35:14:INFO] Determined delimiter of CSV input is ','\u001b[0m\n",
      "\u001b[34m[2020-06-18:11:35:14:INFO] Sniff delimiter as ','\u001b[0m\n",
      "\u001b[34m[2020-06-18:11:35:14:INFO] Determined delimiter of CSV input is ','\u001b[0m\n",
      "\u001b[35m[2020-06-18:11:35:14:INFO] Sniff delimiter as ','\u001b[0m\n",
      "\u001b[35m[2020-06-18:11:35:14:INFO] Determined delimiter of CSV input is ','\u001b[0m\n",
      "\u001b[35m[2020-06-18:11:35:14:INFO] Sniff delimiter as ','\u001b[0m\n",
      "\u001b[35m[2020-06-18:11:35:14:INFO] Determined delimiter of CSV input is ','\u001b[0m\n",
      "\u001b[34m[2020-06-18:11:35:14:INFO] Sniff delimiter as ','\u001b[0m\n",
      "\u001b[35m[2020-06-18:11:35:14:INFO] Sniff delimiter as ','\u001b[0m\n",
      "\u001b[34m[2020-06-18:11:35:14:INFO] Determined delimiter of CSV input is ','\u001b[0m\n",
      "\u001b[34m[2020-06-18:11:35:14:INFO] Sniff delimiter as ','\u001b[0m\n",
      "\u001b[34m[2020-06-18:11:35:14:INFO] Determined delimiter of CSV input is ','\u001b[0m\n",
      "\u001b[35m[2020-06-18:11:35:14:INFO] Determined delimiter of CSV input is ','\u001b[0m\n",
      "\u001b[35m[2020-06-18:11:35:14:INFO] Sniff delimiter as ','\u001b[0m\n",
      "\u001b[35m[2020-06-18:11:35:14:INFO] Determined delimiter of CSV input is ','\u001b[0m\n",
      "\u001b[34m[2020-06-18:11:35:16:INFO] Sniff delimiter as ','\u001b[0m\n",
      "\u001b[34m[2020-06-18:11:35:16:INFO] Determined delimiter of CSV input is ','\u001b[0m\n",
      "\u001b[34m[2020-06-18:11:35:16:INFO] Sniff delimiter as ','\u001b[0m\n",
      "\u001b[34m[2020-06-18:11:35:16:INFO] Determined delimiter of CSV input is ','\u001b[0m\n",
      "\u001b[34m[2020-06-18:11:35:16:INFO] Sniff delimiter as ','\u001b[0m\n",
      "\u001b[34m[2020-06-18:11:35:16:INFO] Determined delimiter of CSV input is ','\u001b[0m\n",
      "\u001b[35m[2020-06-18:11:35:16:INFO] Sniff delimiter as ','\u001b[0m\n",
      "\u001b[35m[2020-06-18:11:35:16:INFO] Determined delimiter of CSV input is ','\u001b[0m\n",
      "\u001b[35m[2020-06-18:11:35:16:INFO] Sniff delimiter as ','\u001b[0m\n",
      "\u001b[35m[2020-06-18:11:35:16:INFO] Determined delimiter of CSV input is ','\u001b[0m\n",
      "\u001b[35m[2020-06-18:11:35:16:INFO] Sniff delimiter as ','\u001b[0m\n",
      "\u001b[35m[2020-06-18:11:35:16:INFO] Determined delimiter of CSV input is ','\u001b[0m\n",
      "\u001b[34m[2020-06-18:11:35:17:INFO] Sniff delimiter as ','\u001b[0m\n",
      "\u001b[34m[2020-06-18:11:35:17:INFO] Determined delimiter of CSV input is ','\u001b[0m\n",
      "\u001b[35m[2020-06-18:11:35:17:INFO] Sniff delimiter as ','\u001b[0m\n",
      "\u001b[35m[2020-06-18:11:35:17:INFO] Determined delimiter of CSV input is ','\u001b[0m\n"
     ]
    },
    {
     "name": "stdout",
     "output_type": "stream",
     "text": [
      "\n"
     ]
    }
   ],
   "source": [
    "xgb_transformer.wait()"
   ]
  },
  {
   "cell_type": "markdown",
   "metadata": {},
   "source": [
    "Now the transform job has executed and the result, the estimated sentiment of each review, has been saved on S3. Since we would rather work on this file locally we can perform a bit of notebook magic to copy the file to the `data_dir`."
   ]
  },
  {
   "cell_type": "code",
   "execution_count": 27,
   "metadata": {},
   "outputs": [
    {
     "name": "stdout",
     "output_type": "stream",
     "text": [
      "Completed 256.0 KiB/368.8 KiB (3.6 MiB/s) with 1 file(s) remaining\r",
      "Completed 368.8 KiB/368.8 KiB (5.0 MiB/s) with 1 file(s) remaining\r",
      "download: s3://sagemaker-us-east-2-152592716204/xgboost-2020-06-18-11-31-03-271/test.csv.out to ../data/sentiment_web_app/test.csv.out\r\n"
     ]
    }
   ],
   "source": [
    "!aws s3 cp --recursive $xgb_transformer.output_path $data_dir"
   ]
  },
  {
   "cell_type": "markdown",
   "metadata": {},
   "source": [
    "The last step is now to read in the output from our model, convert the output to something a little more usable, in this case we want the sentiment to be either `1` (positive) or `0` (negative), and then compare to the ground truth labels."
   ]
  },
  {
   "cell_type": "code",
   "execution_count": 28,
   "metadata": {},
   "outputs": [],
   "source": [
    "predictions = pd.read_csv(os.path.join(data_dir, 'test.csv.out'), header=None)\n",
    "predictions = [round(num) for num in predictions.squeeze().values]"
   ]
  },
  {
   "cell_type": "code",
   "execution_count": 29,
   "metadata": {},
   "outputs": [
    {
     "data": {
      "text/plain": [
       "0.84924"
      ]
     },
     "execution_count": 29,
     "metadata": {},
     "output_type": "execute_result"
    }
   ],
   "source": [
    "from sklearn.metrics import accuracy_score\n",
    "accuracy_score(test_y, predictions)"
   ]
  },
  {
   "cell_type": "markdown",
   "metadata": {},
   "source": [
    "## Step 6: Deploying the model\n",
    "\n",
    "Once we construct and fit our model, SageMaker stores the resulting model artifacts and we can use those to deploy an endpoint (inference code). To see this, look in the SageMaker console and you should see that a model has been created along with a link to the S3 location where the model artifacts have been stored.\n",
    "\n",
    "Deploying an endpoint is a lot like training the model with a few important differences. The first is that a deployed model doesn't change the model artifacts, so as you send it various testing instances the model won't change. Another difference is that since we aren't performing a fixed computation, as we were in the training step or while performing a batch transform, the compute instance that gets started stays running until we tell it to stop. This is important to note as if we forget and leave it running we will be charged the entire time.\n",
    "\n",
    "In other words **If you are no longer using a deployed endpoint, shut it down!**"
   ]
  },
  {
   "cell_type": "code",
   "execution_count": 30,
   "metadata": {},
   "outputs": [
    {
     "name": "stderr",
     "output_type": "stream",
     "text": [
      "WARNING:sagemaker:Parameter image will be renamed to image_uri in SageMaker Python SDK v2.\n",
      "WARNING:sagemaker:Using already existing model: xgboost-2020-06-18-11-24-18-946\n"
     ]
    },
    {
     "name": "stdout",
     "output_type": "stream",
     "text": [
      "-------------!"
     ]
    }
   ],
   "source": [
    "xgb_predictor = xgb.deploy(initial_instance_count = 1, instance_type = 'ml.m4.xlarge')"
   ]
  },
  {
   "cell_type": "markdown",
   "metadata": {},
   "source": [
    "### Testing the model (again)\n",
    "\n",
    "Now that we have deployed our endpoint, we can send the testing data to it and get back the inference results. We already did this earlier using the batch transform functionality of SageMaker, however, we will test our model again using the newly deployed endpoint so that we can make sure that it works properly and to get a bit of a feel for how the endpoint works.\n",
    "\n",
    "When using the created endpoint it is important to know that we are limited in the amount of information we can send in each call so we need to break the testing data up into chunks and then send each chunk. Also, we need to serialize our data before we send it to the endpoint to ensure that our data is transmitted properly. Fortunately, SageMaker can do the serialization part for us provided we tell it the format of our data."
   ]
  },
  {
   "cell_type": "code",
   "execution_count": 31,
   "metadata": {},
   "outputs": [],
   "source": [
    "from sagemaker.predictor import csv_serializer\n",
    "\n",
    "# We need to tell the endpoint what format the data we are sending is in so that SageMaker can perform the serialization.\n",
    "xgb_predictor.content_type = 'text/csv'\n",
    "xgb_predictor.serializer = csv_serializer"
   ]
  },
  {
   "cell_type": "code",
   "execution_count": 32,
   "metadata": {},
   "outputs": [],
   "source": [
    "# We split the data into chunks and send each chunk seperately, accumulating the results.\n",
    "\n",
    "def predict(data, rows=512):\n",
    "    split_array = np.array_split(data, int(data.shape[0] / float(rows) + 1))\n",
    "    predictions = ''\n",
    "    for array in split_array:\n",
    "        predictions = ','.join([predictions, xgb_predictor.predict(array).decode('utf-8')])\n",
    "    \n",
    "    return np.fromstring(predictions[1:], sep=',')"
   ]
  },
  {
   "cell_type": "code",
   "execution_count": 33,
   "metadata": {},
   "outputs": [],
   "source": [
    "test_X = pd.read_csv(os.path.join(data_dir, 'test.csv'), header=None).values\n",
    "\n",
    "predictions = predict(test_X)\n",
    "predictions = [round(num) for num in predictions]"
   ]
  },
  {
   "cell_type": "markdown",
   "metadata": {},
   "source": [
    "Lastly, we check to see what the accuracy of our model is."
   ]
  },
  {
   "cell_type": "code",
   "execution_count": 34,
   "metadata": {},
   "outputs": [
    {
     "data": {
      "text/plain": [
       "0.84924"
      ]
     },
     "execution_count": 34,
     "metadata": {},
     "output_type": "execute_result"
    }
   ],
   "source": [
    "from sklearn.metrics import accuracy_score\n",
    "accuracy_score(test_y, predictions)"
   ]
  },
  {
   "cell_type": "markdown",
   "metadata": {},
   "source": [
    "And the results here should agree with the model testing that we did earlier using the batch transform job.\n",
    "\n",
    "### Cleaning up\n",
    "\n",
    "Now that we've determined that deploying our model works as expected, we are going to shut it down. Remember that the longer the endpoint is left running, the greater the cost and since we have a bit more work to do before we are able to use our endpoint with our simple web app, we should shut everything down."
   ]
  },
  {
   "cell_type": "code",
   "execution_count": 35,
   "metadata": {},
   "outputs": [],
   "source": [
    "xgb_predictor.delete_endpoint()"
   ]
  },
  {
   "cell_type": "markdown",
   "metadata": {},
   "source": [
    "## Step 7: Putting our model to work\n",
    "\n",
    "As we've mentioned a few times now, our goal is to have our model deployed and then access it using a very simple web app. The intent is for this web app to take some user submitted data (a review), send it off to our endpoint (the model) and then display the result.\n",
    "\n",
    "However, there is a small catch. Currently the only way we can access the endpoint to send it data is using the SageMaker API. We can, if we wish, expose the actual URL that our model's endpoint is receiving data from, however, if we just send it data ourselves we will not get anything in return. This is because the endpoint created by SageMaker requires the entity accessing it have the correct permissions. So, we would need to somehow authenticate our web app with AWS.\n",
    "\n",
    "Having a website that authenticates to AWS seems a bit beyond the scope of this lesson so we will opt for an alternative approach. Namely, we will create a new endpoint which does not require authentication and which acts as a proxy for the SageMaker endpoint.\n",
    "\n",
    "As an additional constraint, we will try to avoid doing any data processing in the web app itself. Remember that when we constructed and tested our model we started with a movie review, then we simplified it by removing any html formatting and punctuation, then we constructed a bag of words embedding and the resulting vector is what we sent to our model. All of this needs to be done to our user input as well.\n",
    "\n",
    "Fortunately we can do all of this data processing in the backend, using Amazon's Lambda service.\n",
    "\n",
    "<img src=\"Web App Diagram.svg\">\n",
    "\n",
    "The diagram above gives an overview of how the various services will work together. On the far right is the model which we trained above and which will be deployed using SageMaker. On the far left is our web app that collects a user's movie review, sends it off and expects a positive or negative sentiment in return.\n",
    "\n",
    "In the middle is where some of the magic happens. We will construct a Lambda function, which you can think of as a straightforward Python function that can be executed whenever a specified event occurs. This Python function will do the data processing we need to perform on a user submitted review. In addition, we will give this function permission to send and recieve data from a SageMaker endpoint.\n",
    "\n",
    "Lastly, the method we will use to execute the Lambda function is a new endpoint that we will create using API Gateway. This endpoint will be a url that listens for data to be sent to it. Once it gets some data it will pass that data on to the Lambda function and then return whatever the Lambda function returns. Essentially it will act as an interface that lets our web app communicate with the Lambda function.\n",
    "\n",
    "### Processing a single review\n",
    "\n",
    "For now, suppose we are given a movie review by our user in the form of a string, like so:"
   ]
  },
  {
   "cell_type": "code",
   "execution_count": 36,
   "metadata": {},
   "outputs": [],
   "source": [
    "test_review = \"Nothing but a disgusting materialistic pageant of glistening abed remote control greed zombies, totally devoid of any heart or heat. A romantic comedy that has zero romantic chemestry and zero laughs!\""
   ]
  },
  {
   "cell_type": "markdown",
   "metadata": {},
   "source": [
    "How do we go from this string to the bag of words feature vector that is expected by our model?\n",
    "\n",
    "If we recall at the beginning of this notebook, the first step is to remove any unnecessary characters using the `review_to_words` method. Remember that we intentionally did this in a very simplistic way. This is because we are going to have to copy this method to our (eventual) Lambda function (we will go into more detail later) and this means it needs to be rather simplistic."
   ]
  },
  {
   "cell_type": "code",
   "execution_count": 37,
   "metadata": {},
   "outputs": [
    {
     "name": "stdout",
     "output_type": "stream",
     "text": [
      "nothing but a disgusting materialistic pageant of glistening abed remote control greed zombies totally devoid of any heart or heat a romantic comedy that has zero romantic chemestry and zero laughs\n"
     ]
    }
   ],
   "source": [
    "test_words = review_to_words(test_review)\n",
    "print(test_words)"
   ]
  },
  {
   "cell_type": "markdown",
   "metadata": {},
   "source": [
    "Next, we need to construct a bag of words embedding of the `test_words` string. To do this, remember that a bag of words embedding uses a `vocabulary` consisting of the most frequently appearing words in a set of documents. Then, for each word in the vocabulary we record the number of times that word appears in `test_words`. We constructed the `vocabulary` earlier using the training set for our problem so encoding `test_words` is relatively straightforward."
   ]
  },
  {
   "cell_type": "code",
   "execution_count": 38,
   "metadata": {},
   "outputs": [],
   "source": [
    "def bow_encoding(words, vocabulary):\n",
    "    bow = [0] * len(vocabulary) # Start by setting the count for each word in the vocabulary to zero.\n",
    "    for word in words.split():  # For each word in the string\n",
    "        if word in vocabulary:  # If the word is one that occurs in the vocabulary, increase its count.\n",
    "            bow[vocabulary[word]] += 1\n",
    "    return bow"
   ]
  },
  {
   "cell_type": "code",
   "execution_count": 39,
   "metadata": {},
   "outputs": [
    {
     "name": "stdout",
     "output_type": "stream",
     "text": [
      "[0, 0, 0, 0, 0, 0, 0, 0, 0, 0, 0, 0, 0, 0, 0, 0, 0, 0, 0, 0, 0, 0, 0, 0, 0, 0, 0, 0, 0, 0, 0, 0, 0, 0, 0, 0, 0, 0, 0, 0, 0, 0, 0, 0, 0, 0, 0, 0, 0, 0, 0, 0, 0, 0, 0, 0, 0, 0, 0, 0, 0, 0, 0, 0, 0, 0, 0, 0, 0, 0, 0, 0, 0, 0, 0, 0, 0, 0, 0, 0, 0, 0, 0, 0, 0, 0, 0, 0, 0, 0, 0, 0, 0, 0, 0, 0, 0, 0, 0, 0, 0, 0, 0, 0, 0, 0, 0, 0, 0, 0, 0, 0, 0, 0, 0, 0, 0, 0, 0, 0, 0, 0, 0, 0, 0, 0, 0, 0, 0, 0, 0, 0, 0, 0, 0, 0, 0, 0, 0, 0, 0, 0, 0, 0, 0, 0, 0, 0, 0, 0, 0, 0, 0, 0, 0, 0, 0, 0, 0, 0, 0, 0, 0, 0, 0, 0, 0, 0, 0, 0, 0, 0, 0, 0, 0, 0, 0, 0, 0, 0, 0, 0, 0, 0, 0, 0, 0, 0, 0, 0, 0, 0, 0, 0, 0, 0, 0, 0, 0, 0, 0, 0, 0, 0, 0, 0, 0, 0, 0, 0, 0, 0, 0, 0, 0, 0, 0, 0, 0, 0, 0, 0, 0, 0, 0, 0, 1, 0, 0, 0, 0, 0, 0, 0, 0, 0, 0, 0, 0, 0, 0, 0, 0, 0, 0, 0, 0, 0, 0, 0, 0, 0, 0, 0, 0, 0, 1, 0, 0, 0, 0, 0, 0, 0, 0, 0, 0, 0, 0, 0, 0, 0, 0, 0, 0, 0, 0, 0, 0, 0, 0, 0, 0, 0, 0, 0, 0, 0, 0, 0, 0, 0, 0, 0, 0, 0, 0, 0, 0, 0, 0, 0, 0, 0, 0, 0, 0, 0, 0, 0, 0, 0, 0, 0, 0, 0, 0, 0, 0, 0, 0, 0, 0, 0, 0, 0, 0, 0, 0, 0, 0, 0, 0, 0, 0, 0, 0, 0, 0, 0, 0, 0, 0, 0, 0, 0, 0, 0, 0, 0, 0, 0, 0, 0, 0, 0, 0, 0, 0, 0, 0, 0, 0, 0, 0, 0, 0, 0, 0, 0, 0, 0, 0, 0, 0, 0, 0, 0, 0, 0, 0, 0, 0, 0, 0, 0, 0, 0, 0, 0, 0, 0, 0, 0, 0, 0, 0, 0, 0, 0, 0, 0, 0, 0, 0, 0, 0, 0, 0, 0, 0, 0, 0, 0, 0, 0, 0, 0, 0, 0, 0, 0, 0, 0, 0, 0, 0, 0, 0, 0, 0, 0, 0, 0, 0, 0, 0, 0, 0, 0, 0, 0, 0, 0, 0, 0, 0, 0, 0, 0, 0, 0, 0, 0, 0, 0, 0, 0, 0, 0, 0, 0, 0, 0, 0, 0, 0, 0, 0, 0, 0, 0, 0, 0, 0, 0, 0, 0, 0, 0, 0, 0, 0, 0, 0, 0, 0, 0, 0, 0, 0, 0, 0, 0, 0, 0, 0, 0, 0, 0, 0, 0, 0, 0, 0, 0, 0, 0, 0, 0, 0, 0, 0, 0, 0, 0, 0, 0, 0, 0, 0, 0, 0, 0, 0, 0, 0, 0, 0, 0, 0, 0, 0, 0, 0, 0, 0, 0, 0, 0, 0, 0, 0, 0, 0, 0, 0, 0, 0, 0, 0, 0, 0, 0, 0, 0, 0, 0, 0, 0, 0, 0, 0, 0, 0, 0, 0, 0, 0, 0, 0, 0, 0, 0, 0, 0, 0, 0, 0, 0, 0, 0, 0, 0, 0, 0, 0, 0, 0, 0, 0, 0, 0, 0, 0, 0, 0, 0, 0, 0, 0, 0, 0, 0, 0, 0, 0, 0, 0, 0, 0, 0, 0, 0, 0, 0, 0, 0, 0, 0, 0, 0, 0, 0, 0, 0, 0, 0, 0, 0, 0, 0, 0, 0, 0, 0, 1, 0, 0, 0, 0, 0, 0, 0, 0, 0, 0, 0, 0, 0, 0, 0, 0, 0, 0, 0, 0, 0, 0, 0, 0, 0, 0, 0, 0, 0, 0, 0, 0, 0, 0, 0, 0, 0, 0, 0, 0, 0, 0, 0, 0, 0, 0, 0, 0, 0, 0, 0, 0, 0, 0, 0, 0, 0, 0, 0, 0, 0, 0, 0, 0, 0, 0, 0, 0, 0, 0, 0, 0, 0, 0, 0, 0, 0, 0, 0, 0, 0, 0, 0, 0, 0, 0, 0, 0, 0, 0, 0, 0, 0, 0, 0, 0, 0, 0, 0, 0, 0, 0, 0, 0, 0, 0, 0, 0, 0, 0, 0, 0, 0, 0, 0, 0, 0, 0, 0, 0, 0, 0, 0, 0, 0, 0, 0, 0, 0, 0, 0, 0, 0, 0, 0, 0, 0, 0, 0, 0, 0, 0, 0, 0, 0, 0, 0, 0, 0, 0, 0, 0, 0, 0, 0, 0, 0, 0, 0, 0, 0, 0, 0, 0, 0, 0, 0, 0, 0, 0, 0, 0, 0, 0, 0, 0, 0, 0, 0, 0, 0, 0, 0, 0, 0, 0, 0, 0, 0, 0, 0, 0, 0, 0, 0, 0, 0, 0, 0, 0, 0, 0, 0, 0, 0, 0, 0, 0, 0, 0, 0, 0, 0, 0, 0, 0, 0, 0, 0, 0, 0, 0, 0, 0, 0, 0, 0, 0, 0, 0, 0, 0, 0, 0, 0, 0, 0, 0, 0, 0, 0, 0, 0, 0, 0, 0, 0, 0, 0, 0, 0, 0, 0, 1, 0, 0, 0, 0, 0, 0, 0, 0, 0, 0, 0, 0, 0, 0, 0, 0, 0, 0, 0, 0, 0, 0, 0, 0, 0, 0, 0, 0, 0, 0, 0, 0, 0, 0, 0, 0, 0, 0, 0, 0, 0, 0, 0, 0, 0, 0, 0, 0, 0, 0, 0, 0, 0, 0, 0, 0, 0, 0, 0, 0, 0, 0, 0, 0, 0, 0, 0, 0, 0, 0, 0, 0, 0, 0, 0, 0, 0, 0, 0, 0, 0, 0, 0, 0, 0, 0, 1, 0, 0, 0, 0, 0, 0, 0, 0, 0, 0, 0, 0, 0, 0, 0, 0, 0, 0, 0, 0, 0, 0, 0, 0, 0, 0, 0, 0, 0, 0, 0, 0, 0, 0, 0, 0, 0, 0, 0, 0, 0, 0, 0, 0, 0, 0, 0, 0, 0, 0, 0, 0, 0, 0, 0, 0, 0, 0, 0, 0, 0, 0, 0, 0, 0, 0, 0, 0, 0, 0, 0, 0, 0, 0, 0, 0, 0, 0, 0, 0, 0, 0, 0, 0, 0, 0, 0, 0, 0, 0, 0, 0, 0, 0, 0, 0, 0, 0, 0, 0, 0, 0, 0, 0, 0, 0, 0, 0, 0, 0, 0, 0, 0, 0, 0, 0, 0, 0, 0, 0, 0, 0, 0, 0, 0, 0, 0, 0, 0, 0, 0, 0, 0, 0, 0, 0, 0, 0, 0, 0, 0, 0, 0, 0, 0, 0, 0, 0, 0, 0, 0, 0, 0, 0, 0, 0, 0, 0, 0, 0, 0, 0, 0, 0, 0, 0, 0, 0, 0, 0, 0, 0, 0, 0, 0, 0, 0, 0, 0, 0, 0, 0, 0, 0, 0, 0, 0, 0, 0, 0, 0, 0, 0, 0, 0, 0, 0, 0, 0, 0, 0, 0, 0, 0, 0, 0, 0, 0, 0, 0, 0, 0, 0, 0, 0, 0, 0, 0, 0, 0, 0, 0, 0, 0, 0, 0, 0, 0, 0, 0, 0, 0, 0, 0, 0, 0, 0, 0, 0, 0, 0, 0, 0, 0, 0, 0, 0, 0, 0, 0, 0, 0, 1, 0, 0, 0, 0, 0, 0, 0, 0, 0, 0, 0, 0, 0, 0, 0, 0, 0, 0, 0, 0, 0, 0, 0, 0, 0, 0, 0, 0, 0, 0, 0, 0, 0, 0, 0, 0, 0, 0, 0, 0, 0, 0, 0, 0, 0, 0, 0, 0, 0, 0, 0, 0, 0, 0, 0, 1, 0, 0, 0, 0, 0, 0, 0, 0, 0, 0, 0, 0, 0, 0, 0, 0, 0, 0, 0, 0, 0, 0, 0, 0, 0, 0, 0, 0, 0, 0, 0, 0, 0, 0, 0, 0, 0, 0, 0, 0, 0, 0, 0, 0, 0, 0, 0, 0, 0, 0, 0, 0, 0, 0, 0, 0, 0, 0, 0, 0, 0, 0, 0, 0, 0, 0, 0, 0, 0, 0, 0, 0, 0, 0, 0, 0, 0, 0, 0, 0, 0, 0, 0, 0, 0, 0, 0, 0, 0, 0, 0, 0, 0, 0, 0, 0, 0, 0, 0, 0, 0, 0, 0, 0, 0, 0, 0, 0, 0, 0, 0, 0, 0, 0, 0, 0, 0, 0, 0, 0, 0, 0, 0, 0, 0, 0, 0, 0, 0, 0, 0, 0, 0, 0, 0, 0, 0, 0, 0, 0, 0, 0, 0, 0, 0, 0, 0, 0, 0, 0, 0, 0, 0, 0, 0, 0, 0, 0, 0, 0, 0, 0, 0, 0, 0, 0, 0, 0, 0, 0, 0, 0, 0, 0, 0, 0, 0, 0, 0, 0, 0, 0, 0, 0, 0, 0, 0, 0, 0, 0, 0, 0, 0, 0, 0, 0, 0, 0, 0, 0, 0, 0, 0, 0, 0, 0, 0, 0, 0, 0, 0, 0, 0, 0, 0, 0, 0, 0, 0, 0, 0, 0, 0, 0, 0, 0, 0, 0, 0, 0, 0, 0, 0, 0, 0, 0, 0, 0, 0, 0, 0, 0, 0, 0, 0, 0, 0, 0, 0, 0, 0, 0, 0, 0, 0, 0, 0, 0, 0, 0, 0, 0, 0, 0, 0, 0, 0, 0, 0, 0, 0, 0, 0, 0, 0, 0, 0, 0, 0, 0, 0, 0, 0, 0, 0, 0, 0, 0, 0, 0, 0, 0, 0, 0, 0, 0, 0, 0, 0, 0, 0, 0, 0, 0, 0, 0, 0, 0, 0, 0, 0, 0, 0, 0, 0, 0, 0, 0, 0, 0, 0, 0, 0, 0, 0, 0, 0, 0, 0, 0, 0, 0, 0, 0, 0, 0, 0, 0, 0, 0, 0, 0, 0, 0, 0, 0, 0, 0, 0, 0, 0, 0, 0, 0, 0, 0, 0, 0, 0, 0, 0, 0, 0, 0, 0, 0, 0, 0, 0, 0, 0, 0, 0, 0, 0, 0, 0, 0, 0, 0, 0, 0, 0, 0, 0, 0, 0, 0, 0, 0, 0, 0, 0, 0, 0, 0, 0, 0, 0, 0, 0, 0, 0, 0, 0, 0, 0, 0, 0, 0, 0, 0, 0, 0, 0, 0, 0, 0, 0, 0, 0, 0, 0, 0, 0, 0, 0, 0, 0, 0, 0, 0, 0, 0, 0, 0, 0, 0, 0, 0, 0, 0, 0, 0, 0, 0, 0, 0, 0, 0, 0, 0, 0, 0, 0, 0, 0, 0, 0, 0, 0, 0, 0, 0, 0, 0, 0, 0, 0, 0, 0, 0, 0, 0, 0, 0, 0, 0, 0, 0, 0, 0, 0, 0, 0, 0, 0, 0, 0, 0, 0, 0, 0, 0, 0, 0, 0, 0, 0, 0, 0, 0, 0, 0, 0, 0, 0, 0, 0, 0, 0, 0, 0, 0, 0, 0, 0, 0, 0, 0, 0, 0, 0, 0, 0, 0, 0, 0, 0, 0, 0, 0, 0, 0, 0, 0, 0, 0, 0, 0, 0, 0, 0, 0, 0, 0, 0, 0, 0, 0, 0, 0, 0, 0, 0, 0, 0, 0, 0, 0, 0, 0, 0, 0, 0, 0, 0, 0, 0, 0, 0, 0, 0, 0, 0, 0, 0, 0, 0, 0, 0, 0, 0, 0, 0, 0, 0, 0, 0, 0, 0, 0, 0, 0, 0, 0, 0, 0, 0, 0, 0, 0, 0, 0, 0, 0, 0, 0, 0, 0, 0, 0, 0, 0, 0, 0, 0, 0, 0, 0, 0, 0, 0, 0, 0, 0, 0, 0, 0, 0, 0, 0, 0, 0, 0, 0, 0, 0, 0, 0, 0, 0, 0, 0, 0, 0, 0, 0, 0, 0, 0, 0, 0, 0, 0, 0, 0, 0, 0, 0, 0, 0, 0, 0, 0, 0, 0, 0, 0, 0, 0, 0, 0, 0, 0, 0, 0, 0, 0, 0, 0, 1, 0, 0, 0, 0, 0, 0, 0, 0, 0, 0, 0, 0, 0, 0, 0, 0, 0, 0, 0, 0, 0, 0, 0, 0, 0, 0, 0, 0, 0, 0, 0, 0, 0, 0, 0, 0, 0, 0, 0, 0, 0, 0, 0, 0, 0, 0, 0, 0, 0, 0, 0, 0, 0, 0, 0, 0, 0, 0, 0, 0, 0, 0, 0, 0, 0, 0, 0, 0, 0, 0, 0, 0, 0, 0, 1, 0, 0, 0, 0, 0, 0, 0, 0, 0, 0, 0, 0, 0, 0, 0, 0, 0, 0, 0, 0, 1, 0, 0, 1, 0, 0, 0, 0, 0, 0, 0, 0, 0, 0, 0, 0, 0, 0, 0, 0, 0, 0, 0, 0, 0, 0, 0, 0, 0, 0, 0, 0, 0, 0, 0, 0, 0, 0, 0, 0, 0, 0, 0, 0, 0, 0, 0, 0, 0, 0, 0, 0, 0, 0, 0, 0, 0, 0, 0, 0, 0, 0, 0, 0, 0, 0, 0, 0, 0, 0, 0, 0, 0, 0, 0, 0, 0, 0, 0, 0, 0, 0, 0, 0, 0, 0, 0, 0, 0, 0, 0, 0, 0, 0, 0, 0, 0, 0, 0, 0, 0, 0, 0, 0, 0, 0, 0, 0, 0, 0, 0, 0, 0, 0, 0, 0, 0, 0, 0, 0, 0, 0, 0, 0, 0, 0, 0, 0, 0, 0, 0, 0, 0, 0, 0, 0, 0, 0, 0, 0, 0, 0, 0, 0, 0, 0, 0, 0, 0, 0, 0, 0, 0, 0, 0, 0, 0, 0, 0, 0, 0, 0, 0, 0, 0, 0, 0, 0, 0, 0, 0, 0, 0, 0, 0, 0, 0, 0, 0, 0, 0, 0, 0, 0, 0, 0, 0, 0, 0, 0, 0, 0, 0, 0, 0, 0, 0, 0, 0, 0, 0, 0, 0, 0, 0, 0, 0, 0, 0, 0, 0, 0, 0, 0, 0, 0, 0, 0, 0, 0, 0, 0, 0, 0, 0, 0, 0, 0, 0, 0, 0, 0, 0, 0, 0, 0, 0, 0, 0, 0, 0, 0, 0, 0, 0, 0, 0, 0, 0, 0, 0, 0, 0, 0, 0, 0, 0, 0, 0, 0, 0, 0, 0, 0, 0, 0, 0, 0, 0, 0, 0, 0, 0, 0, 0, 0, 0, 0, 0, 0, 0, 0, 0, 0, 0, 0, 0, 0, 0, 0, 0, 0, 0, 0, 0, 0, 0, 0, 0, 0, 0, 0, 0, 0, 0, 0, 0, 0, 0, 0, 0, 0, 0, 0, 0, 0, 0, 0, 0, 0, 0, 0, 0, 0, 0, 0, 0, 0, 0, 0, 0, 0, 0, 0, 0, 0, 0, 0, 0, 0, 0, 0, 0, 0, 0, 0, 0, 0, 0, 0, 0, 0, 0, 0, 0, 0, 0, 0, 0, 0, 0, 0, 0, 0, 0, 0, 0, 0, 0, 0, 0, 0, 0, 0, 0, 0, 0, 0, 0, 0, 0, 0, 0, 0, 0, 0, 0, 0, 0, 0, 0, 0, 0, 0, 0, 0, 0, 0, 0, 0, 0, 0, 0, 0, 0, 0, 0, 0, 0, 0, 0, 0, 0, 0, 0, 0, 0, 0, 0, 0, 0, 0, 0, 0, 0, 0, 0, 0, 0, 0, 0, 0, 0, 0, 0, 0, 0, 0, 0, 0, 0, 0, 0, 0, 0, 0, 0, 0, 0, 0, 0, 0, 0, 0, 0, 0, 0, 0, 0, 0, 0, 0, 0, 0, 0, 0, 0, 0, 0, 0, 1, 0, 0, 0, 0, 0, 0, 0, 0, 0, 0, 0, 0, 0, 0, 0, 0, 0, 0, 0, 0, 0, 0, 0, 0, 0, 0, 0, 0, 0, 0, 0, 0, 0, 0, 0, 0, 0, 0, 0, 0, 0, 0, 0, 0, 0, 0, 0, 0, 0, 0, 0, 0, 0, 0, 0, 0, 0, 0, 0, 0, 0, 0, 0, 0, 0, 0, 0, 0, 0, 0, 0, 0, 0, 0, 0, 0, 0, 0, 0, 0, 0, 0, 0, 0, 0, 0, 0, 0, 0, 0, 0, 0, 0, 0, 0, 0, 0, 0, 0, 0, 0, 0, 0, 0, 0, 0, 0, 0, 0, 0, 0, 0, 0, 0, 0, 0, 0, 0, 0, 0, 0, 0, 0, 0, 0, 0, 0, 0, 0, 0, 0, 0, 0, 0, 0, 0, 0, 0, 0, 0, 0, 0, 0, 0, 0, 0, 0, 0, 0, 0, 0, 0, 0, 0, 0, 0, 0, 0, 0, 0, 0, 0, 0, 0, 0, 0, 0, 0, 0, 0, 0, 0, 0, 0, 0, 0, 0, 0, 0, 0, 0, 0, 0, 0, 0, 0, 0, 0, 0, 0, 0, 0, 0, 0, 0, 0, 0, 0, 0, 0, 0, 0, 0, 0, 0, 0, 0, 0, 0, 0, 0, 0, 0, 0, 0, 0, 0, 0, 0, 0, 0, 0, 0, 0, 0, 0, 0, 0, 0, 0, 0, 0, 0, 0, 0, 0, 0, 0, 0, 0, 0, 0, 0, 0, 0, 0, 0, 0, 0, 0, 0, 0, 0, 0, 0, 0, 0, 0, 0, 0, 0, 0, 0, 0, 0, 0, 0, 0, 0, 0, 0, 0, 0, 0, 0, 0, 0, 0, 0, 0, 0, 0, 0, 0, 0, 0, 0, 0, 0, 0, 0, 0, 0, 0, 0, 0, 0, 0, 0, 0, 0, 0, 0, 0, 0, 0, 0, 0, 0, 0, 0, 0, 0, 0, 0, 0, 0, 0, 0, 0, 0, 0, 0, 0, 0, 0, 0, 0, 0, 0, 0, 0, 0, 0, 0, 0, 0, 0, 0, 0, 0, 0, 0, 0, 0, 0, 0, 0, 0, 0, 0, 0, 0, 0, 0, 0, 0, 0, 0, 0, 0, 0, 0, 0, 0, 0, 0, 0, 0, 0, 0, 0, 0, 0, 0, 0, 0, 0, 0, 0, 0, 0, 0, 0, 0, 0, 0, 0, 0, 0, 0, 0, 0, 0, 0, 0, 0, 0, 0, 0, 0, 0, 0, 0, 0, 0, 0, 0, 0, 0, 0, 0, 0, 0, 0, 0, 0, 0, 0, 0, 0, 0, 0, 0, 0, 0, 0, 0, 0, 0, 0, 0, 0, 0, 0, 0, 0, 0, 0, 0, 0, 0, 0, 0, 0, 0, 0, 0, 0, 0, 0, 0, 0, 0, 0, 0, 0, 0, 0, 0, 0, 0, 0, 0, 0, 0, 0, 0, 0, 0, 0, 0, 0, 0, 0, 0, 0, 0, 0, 0, 0, 0, 0, 0, 0, 0, 0, 0, 0, 0, 0, 0, 0, 0, 0, 0, 0, 0, 0, 0, 0, 0, 0, 0, 0, 0, 0, 0, 0, 0, 0, 0, 1, 0, 0, 0, 0, 0, 0, 0, 0, 0, 0, 0, 0, 0, 0, 0, 0, 0, 0, 0, 0, 0, 0, 0, 0, 0, 0, 0, 0, 0, 0, 0, 0, 0, 0, 0, 2, 0, 0, 0, 0, 0, 0, 0, 0, 0, 0, 0, 0, 0, 0, 0, 0, 0, 0, 0, 0, 0, 0, 0, 0, 0, 0, 0, 0, 0, 0, 0, 0, 0, 0, 0, 0, 0, 0, 0, 0, 1, 0, 0, 0, 0, 0, 0, 0, 0, 0, 0, 0, 0, 0, 0, 0, 0, 0, 0, 0, 0, 0, 0, 0, 0, 0, 0, 0, 0, 0, 0, 0, 0, 0, 0, 0, 0, 0, 0, 0, 0, 0, 0, 0, 0, 0, 0, 0, 0, 0, 0, 0, 0, 0, 0, 0, 0, 0, 0, 0, 0, 0, 0, 0, 0, 0, 0, 0, 0, 0, 0, 0, 0, 0, 0, 0, 0, 0, 0, 0, 0, 0, 0, 0, 0, 0, 0, 0, 0, 0, 0, 0, 0, 0, 0, 0, 0, 0, 0, 0, 0, 0, 0, 0, 0, 0, 0, 0, 0, 0, 0, 0, 0, 0, 0, 0, 0, 0, 0, 0, 0, 0, 0, 0, 0, 0, 0, 0, 0, 0, 0, 0, 0, 0, 0, 0, 0, 0, 0, 0, 0, 0, 0, 0, 0, 0, 0, 0, 0, 0, 0, 0, 0, 0, 0, 0, 0, 0, 0, 0, 0, 0, 0, 0, 0, 0, 0, 0, 0, 0, 0, 0, 0, 0, 0, 0, 0, 0, 0, 0, 0, 0, 0, 0, 0, 0, 0, 0, 0, 0, 0, 0, 0, 0, 0, 0, 0, 0, 0, 0, 0, 0, 0, 0, 0, 0, 0, 0, 0, 0, 0, 0, 0, 0, 0, 0, 0, 0, 0, 0, 0, 0, 0, 0, 0, 0, 0, 0, 0, 0, 0, 0, 0, 0, 0, 0, 0, 0, 0, 0, 0, 0, 0, 0, 0, 0, 0, 0, 0, 0, 0, 0, 0, 0, 0, 0, 0, 0, 0, 0, 0, 0, 0, 0, 0, 0, 0, 0, 0, 0, 0, 0, 0, 0, 0, 0, 0, 0, 0, 0, 0, 0, 0, 0, 0, 0, 0, 0, 0, 0, 0, 0, 0, 0, 0, 0, 0, 0, 0, 0, 0, 0, 0, 0, 0, 0, 0, 0, 0, 0, 0, 0, 0, 0, 0, 0, 0, 0, 0, 0, 0, 0, 0, 0, 0, 0, 0, 0, 0, 0, 0, 0, 0, 0, 0, 0, 0, 0, 0, 0, 0, 0, 0, 0, 0, 0, 0, 0, 0, 0, 0, 0, 0, 0, 0, 0, 0, 0, 0, 0, 0, 0, 0, 0, 0, 0, 0, 0, 0, 0, 0, 0, 0, 0, 0, 0, 0, 0, 0, 0, 0, 0, 0, 0, 0, 0, 0, 0, 0, 0, 0, 0, 0, 0, 0, 0, 0, 0, 0, 0, 0, 0, 0, 0, 0, 0, 0, 0, 0, 0, 0, 0, 0, 0, 0, 0, 0, 0, 0, 0, 0, 0, 0, 0, 0, 0, 0, 0, 0, 0, 0, 0, 0, 0, 0, 0, 0, 0, 0, 0, 0, 0, 0, 0, 0, 0, 0, 0, 0, 0, 0, 0, 0, 0, 0, 0, 0, 0, 0, 0, 0, 0, 0, 0, 0, 0, 0, 0, 0, 0, 0, 0, 0, 0, 0, 0, 0, 0, 0, 0, 0, 0, 0, 0, 0, 0, 0, 0, 0, 0, 0, 0, 0, 0, 0, 0, 0, 0, 1, 0, 0, 0, 0, 0, 0, 0, 0, 0, 0, 0, 0, 0, 0, 0, 0, 0, 0, 0, 0, 0, 0, 0, 0, 0, 0, 0, 0, 0, 0, 0, 0, 0, 0, 0, 0, 0, 0, 0, 0, 0, 0, 0, 0, 0, 0, 0, 0, 0, 0, 0, 0, 0, 0, 0, 0, 0, 0, 0, 0, 0, 0, 0, 0, 0, 0, 0, 0, 0, 0, 0, 0, 0, 0, 0, 0, 0, 0, 0, 0, 0, 0, 0, 0, 0, 0, 0, 0, 0, 0, 0, 0, 0, 0, 0, 0, 0, 0, 0, 0, 0, 0, 0, 0, 0, 0, 0, 0, 0, 0, 2, 0, 0, 0, 0, 0, 0, 0, 0, 0, 0, 0, 0, 0, 0, 0, 0, 0, 0, 0, 0, 0, 0, 0, 0, 0, 0, 0, 0, 0, 0, 0, 0, 0, 0, 0, 0, 0, 0, 0, 0, 0, 0, 0, 0, 0, 0, 0, 0, 0, 0, 0, 0, 0, 0, 0, 0, 0, 0, 0, 0, 0, 0, 0, 0, 0, 0, 0, 0, 0, 0, 0, 0, 0, 0, 0, 0, 0, 0, 0, 0, 0, 0, 0, 0, 0, 0, 0, 0, 0, 0, 0, 0, 0, 0, 0, 0, 0, 0, 0, 0, 0, 0, 0, 0, 0, 0, 0, 0, 0, 0, 0, 0, 0, 0, 0, 0, 0, 0, 0, 0, 0, 0, 0, 0, 0, 0, 0, 0, 0, 0, 0, 0, 0, 0, 0, 0, 0, 0, 0, 0, 0, 0, 0, 0, 0, 0, 0, 0, 0, 0, 0, 0, 0, 0, 0, 0, 0, 0, 0, 0, 0, 0, 0, 0, 0, 0, 0, 0, 0, 0, 0, 0, 0, 0, 0, 0, 0, 0, 0, 0, 0, 0, 0, 0, 0, 0, 0, 0, 0, 0, 0, 0, 0, 0, 0, 0, 0, 0, 0, 0, 0, 0, 0, 0, 0, 0, 0, 0, 0, 0, 0, 0, 0, 0, 0, 0, 0, 0, 0, 0, 0, 0, 0, 0, 0, 0, 0, 0, 0, 0, 0, 0, 0, 0, 0, 0, 0, 0, 0, 0, 0, 0, 0, 0, 0, 0, 0, 0, 0, 0, 0, 0, 0, 0, 0, 0, 0, 0, 0, 0, 0, 0, 0, 0, 0, 0, 0, 0, 0, 0, 0, 0, 0, 0, 0, 0, 0, 0, 0, 0, 0, 0, 0, 0, 0, 0, 0, 0, 0, 0, 0, 0, 0, 0, 0, 0, 0, 0, 0, 0, 0, 0, 0, 0, 0, 0, 0, 0, 0, 0, 0, 0, 0, 0, 0, 0, 0, 0, 0, 0, 0, 0, 0, 0, 0, 0, 0, 0, 0, 0, 0, 0, 0, 0, 0, 0, 0, 0, 0, 0, 0, 0, 0, 0, 0, 0, 0, 0, 0, 0, 0, 0, 0, 0, 0, 0, 0, 0, 0, 0, 0, 0, 0, 0, 0, 0, 0, 0, 0, 0, 0, 0, 0, 0, 0, 0, 0, 0, 0, 0, 0, 0, 0, 0, 0, 0, 0, 0, 0, 0, 0, 0, 0, 0, 0, 0, 0, 0, 0, 0, 0, 0, 0, 0, 0, 0, 0, 0, 0, 0, 0, 0, 0, 0, 0, 0, 0, 0, 0, 0, 0, 0, 0, 0, 0, 0, 0, 0, 0, 0, 0, 0, 0, 0, 0, 0, 0, 0, 0, 0, 0, 0, 0, 0, 0, 0, 0, 0, 0, 0, 0, 0, 0, 0, 0, 0, 0, 0, 0, 0, 0, 0, 0, 0, 0, 0, 0, 0, 0, 0, 0, 0, 0, 0, 0, 0, 0, 0, 0, 0, 0, 0, 0, 0, 0, 0, 0, 0, 0, 0, 0, 0, 0, 0, 0, 0, 0, 0, 0, 0, 0, 0, 0, 0, 0, 0, 0, 0, 0, 0, 0, 0, 0, 0, 0, 0, 0, 0, 0, 0, 0, 0, 0, 0, 0, 0, 0, 0, 0, 0, 0, 0, 0, 0, 0, 0, 0, 0, 0, 0, 0, 0, 0, 0, 0, 0, 0, 0, 0, 0, 0, 0, 0, 0, 0, 0, 0, 0, 0, 0, 0, 0, 0, 0, 0, 0, 0, 0, 0, 0, 0, 0, 0, 0, 0, 0, 0, 0, 0, 0, 0, 0, 0, 0, 0, 0, 0, 0, 0, 0, 0, 0, 0, 0, 0, 0, 0, 0, 0, 0, 0, 0, 0, 0, 0, 0, 0, 0, 0, 0, 0, 0, 0, 0, 0, 0, 0, 0, 0, 0, 0, 0, 0, 0, 0, 0, 0, 0, 0, 0, 0, 0, 0, 0, 0, 0, 0, 0, 0, 0, 0, 0, 0, 0, 0, 0, 0, 0, 0, 0, 0, 0, 0, 0, 0, 0, 0, 0, 0, 0, 0, 0, 0, 0, 0, 0, 0, 0, 0, 0, 0, 0, 0, 0, 0, 0, 0, 0, 0, 0, 0, 0, 0, 0, 0, 0, 0, 0, 0, 0, 1, 0, 0, 0, 0, 0, 0, 0, 0, 0, 0, 0, 0, 0, 0, 0, 0, 0, 0, 0, 0, 0, 0, 0, 0, 0, 0, 0, 0, 0, 0, 0, 0, 0, 0, 0, 0, 0, 0, 0, 0, 0, 0, 0, 0, 0, 0, 0, 0, 0, 0, 0, 0, 0, 0, 0, 0, 0, 0, 0, 0, 0, 0, 0, 0, 0, 0, 0, 0, 0, 0, 0, 0, 0, 0, 0, 0, 0, 0, 0, 0, 0, 0, 0, 0, 0, 0, 0, 0, 0, 0, 0, 0, 0, 0, 0, 0, 0, 0, 0, 0, 0, 0, 0, 0, 0, 0, 0, 1, 0, 0, 0, 0, 0, 0, 0, 0, 0, 0, 0, 0, 0, 0, 0, 0, 0, 0, 0, 0, 0, 0, 0, 0, 0, 0, 0, 0, 0, 0, 0, 0, 0, 0, 0, 0, 0, 0, 0, 0, 0, 0, 0, 0, 0, 0, 0, 0, 0, 0, 0, 0, 0, 0, 0, 0, 0, 0, 0, 0, 0, 0, 0, 0, 0, 0, 0, 0, 0, 0, 0, 0, 0, 0, 0, 0, 0, 0, 0, 0, 0, 0, 0, 0, 0, 0, 0, 0, 0, 0, 0, 0, 0, 0, 0, 0, 0, 0, 0, 0, 0, 0, 0, 0, 0, 0, 0, 0, 0, 0, 0, 0, 0, 0, 0, 0, 0, 0, 0, 0, 0, 0, 0, 0, 0, 0, 0, 0, 0, 0, 0, 0, 0, 0, 0, 0, 0, 0, 0, 0, 0, 0, 0, 0, 0, 0, 0, 0, 0, 0, 0, 0, 0, 0, 0, 0, 0, 0, 0, 0, 0, 0, 0, 0, 0, 0, 0, 0, 0, 0, 0, 0, 0, 0, 0, 0, 0, 0, 0, 0, 0, 0, 0, 0, 0, 0, 0, 0, 0, 0, 0, 0, 0, 0, 0, 0, 0, 0, 0, 0, 0, 0, 0, 0, 0, 0, 0, 0, 0, 0, 0, 0, 0, 0, 0, 0, 0, 0, 0, 0, 0, 0, 0, 0, 0, 0, 0, 0, 0, 0, 0, 0, 0, 0, 0, 0, 0, 0, 0, 0, 0, 0, 0, 0, 0, 0, 0, 0, 0, 0, 0, 0, 0, 0, 0, 0, 0, 0, 0, 0, 0, 0, 0, 0, 0, 0, 0, 0, 0, 0, 0, 0, 0, 0, 0, 0, 0, 0, 0, 0, 0, 0, 0, 0, 0, 0, 0, 0, 0, 0, 0, 0, 0, 0, 0, 0, 0, 0, 0, 0, 0, 0, 0, 0, 0, 0, 0, 0, 0, 0, 0, 0, 0, 0, 0, 0, 0, 0, 0, 0, 0, 0, 0, 0, 0, 0, 0, 0, 0, 0, 0, 0, 0, 0, 0, 0, 0, 0, 0, 0, 0, 0, 0, 0, 0, 0, 0, 0, 0, 0, 0, 0, 0, 0, 0, 0, 0, 0, 0, 0, 0, 0, 0, 0, 0, 0, 0, 0, 0, 0, 0, 0, 0, 0, 0, 0, 0, 0, 0, 0, 0, 0, 0, 0, 0, 0, 0, 0, 0, 0, 0, 0, 0, 0, 0, 0, 0, 0, 0, 0, 0, 0, 0, 0, 0, 0, 0, 0, 0, 0, 0, 0, 0, 0, 0, 0, 0, 0, 0, 0, 0, 0, 0, 0, 0, 0, 0, 0, 0, 0, 0, 0, 0, 0, 0, 0, 0, 0, 0, 0, 0, 0, 0, 0, 0, 0, 0, 0, 0, 0, 0, 0, 0, 0, 0, 0, 0, 0, 0, 0, 0, 0, 0, 2, 0, 1, 0]\n"
     ]
    }
   ],
   "source": [
    "test_bow = bow_encoding(test_words, vocabulary)\n",
    "print(test_bow)"
   ]
  },
  {
   "cell_type": "code",
   "execution_count": 40,
   "metadata": {},
   "outputs": [
    {
     "data": {
      "text/plain": [
       "5000"
      ]
     },
     "execution_count": 40,
     "metadata": {},
     "output_type": "execute_result"
    }
   ],
   "source": [
    "len(test_bow)"
   ]
  },
  {
   "cell_type": "markdown",
   "metadata": {},
   "source": [
    "So now we know how to construct a bag of words encoding of a user provided review, how to we send it to our endpoint? First, we need to start the endpoint back up."
   ]
  },
  {
   "cell_type": "code",
   "execution_count": 41,
   "metadata": {},
   "outputs": [
    {
     "name": "stderr",
     "output_type": "stream",
     "text": [
      "WARNING:sagemaker:Parameter image will be renamed to image_uri in SageMaker Python SDK v2.\n",
      "WARNING:sagemaker:Using already existing model: xgboost-2020-06-18-11-24-18-946\n"
     ]
    },
    {
     "name": "stdout",
     "output_type": "stream",
     "text": [
      "-------------!"
     ]
    }
   ],
   "source": [
    "xgb_predictor = xgb.deploy(initial_instance_count = 1, instance_type = 'ml.m4.xlarge')"
   ]
  },
  {
   "cell_type": "markdown",
   "metadata": {},
   "source": [
    "At this point we could just do the same thing that we did earlier when we tested our deployed model and send `test_bow` to our endpoint using the `xgb_predictor` object. However, when we eventually construct our Lambda function we won't have access to this object, so how do we call a SageMaker endpoint?\n",
    "\n",
    "It turns out that Python functions that are used in Lambda have access to another Amazon library called `boto3`. This library provides an API for working with Amazon services, including SageMaker. To start with, we need to get a handle to the SageMaker runtime."
   ]
  },
  {
   "cell_type": "code",
   "execution_count": 42,
   "metadata": {},
   "outputs": [],
   "source": [
    "import boto3\n",
    "\n",
    "runtime = boto3.Session().client('sagemaker-runtime')"
   ]
  },
  {
   "cell_type": "markdown",
   "metadata": {},
   "source": [
    "And now that we have access to the SageMaker runtime, we can ask it to make use of (invoke) an endpoint that has already been created. However, we need to provide SageMaker with the name of the deployed endpoint. To find this out we can print it out using the `xgb_predictor` object."
   ]
  },
  {
   "cell_type": "code",
   "execution_count": 43,
   "metadata": {},
   "outputs": [
    {
     "data": {
      "text/plain": [
       "'xgboost-2020-06-18-11-24-18-946'"
      ]
     },
     "execution_count": 43,
     "metadata": {},
     "output_type": "execute_result"
    }
   ],
   "source": [
    "xgb_predictor.endpoint"
   ]
  },
  {
   "cell_type": "markdown",
   "metadata": {},
   "source": [
    "Using the SageMaker runtime and the name of our endpoint, we can invoke the endpoint and send it the `test_bow` data."
   ]
  },
  {
   "cell_type": "code",
   "execution_count": 44,
   "metadata": {},
   "outputs": [
    {
     "ename": "ParamValidationError",
     "evalue": "Parameter validation failed:\nInvalid type for parameter Body, value: [0, 0, 0, 0, 0, 0, 0, 0, 0, 0, 0, 0, 0, 0, 0, 0, 0, 0, 0, 0, 0, 0, 0, 0, 0, 0, 0, 0, 0, 0, 0, 0, 0, 0, 0, 0, 0, 0, 0, 0, 0, 0, 0, 0, 0, 0, 0, 0, 0, 0, 0, 0, 0, 0, 0, 0, 0, 0, 0, 0, 0, 0, 0, 0, 0, 0, 0, 0, 0, 0, 0, 0, 0, 0, 0, 0, 0, 0, 0, 0, 0, 0, 0, 0, 0, 0, 0, 0, 0, 0, 0, 0, 0, 0, 0, 0, 0, 0, 0, 0, 0, 0, 0, 0, 0, 0, 0, 0, 0, 0, 0, 0, 0, 0, 0, 0, 0, 0, 0, 0, 0, 0, 0, 0, 0, 0, 0, 0, 0, 0, 0, 0, 0, 0, 0, 0, 0, 0, 0, 0, 0, 0, 0, 0, 0, 0, 0, 0, 0, 0, 0, 0, 0, 0, 0, 0, 0, 0, 0, 0, 0, 0, 0, 0, 0, 0, 0, 0, 0, 0, 0, 0, 0, 0, 0, 0, 0, 0, 0, 0, 0, 0, 0, 0, 0, 0, 0, 0, 0, 0, 0, 0, 0, 0, 0, 0, 0, 0, 0, 0, 0, 0, 0, 0, 0, 0, 0, 0, 0, 0, 0, 0, 0, 0, 0, 0, 0, 0, 0, 0, 0, 0, 0, 0, 0, 0, 1, 0, 0, 0, 0, 0, 0, 0, 0, 0, 0, 0, 0, 0, 0, 0, 0, 0, 0, 0, 0, 0, 0, 0, 0, 0, 0, 0, 0, 0, 1, 0, 0, 0, 0, 0, 0, 0, 0, 0, 0, 0, 0, 0, 0, 0, 0, 0, 0, 0, 0, 0, 0, 0, 0, 0, 0, 0, 0, 0, 0, 0, 0, 0, 0, 0, 0, 0, 0, 0, 0, 0, 0, 0, 0, 0, 0, 0, 0, 0, 0, 0, 0, 0, 0, 0, 0, 0, 0, 0, 0, 0, 0, 0, 0, 0, 0, 0, 0, 0, 0, 0, 0, 0, 0, 0, 0, 0, 0, 0, 0, 0, 0, 0, 0, 0, 0, 0, 0, 0, 0, 0, 0, 0, 0, 0, 0, 0, 0, 0, 0, 0, 0, 0, 0, 0, 0, 0, 0, 0, 0, 0, 0, 0, 0, 0, 0, 0, 0, 0, 0, 0, 0, 0, 0, 0, 0, 0, 0, 0, 0, 0, 0, 0, 0, 0, 0, 0, 0, 0, 0, 0, 0, 0, 0, 0, 0, 0, 0, 0, 0, 0, 0, 0, 0, 0, 0, 0, 0, 0, 0, 0, 0, 0, 0, 0, 0, 0, 0, 0, 0, 0, 0, 0, 0, 0, 0, 0, 0, 0, 0, 0, 0, 0, 0, 0, 0, 0, 0, 0, 0, 0, 0, 0, 0, 0, 0, 0, 0, 0, 0, 0, 0, 0, 0, 0, 0, 0, 0, 0, 0, 0, 0, 0, 0, 0, 0, 0, 0, 0, 0, 0, 0, 0, 0, 0, 0, 0, 0, 0, 0, 0, 0, 0, 0, 0, 0, 0, 0, 0, 0, 0, 0, 0, 0, 0, 0, 0, 0, 0, 0, 0, 0, 0, 0, 0, 0, 0, 0, 0, 0, 0, 0, 0, 0, 0, 0, 0, 0, 0, 0, 0, 0, 0, 0, 0, 0, 0, 0, 0, 0, 0, 0, 0, 0, 0, 0, 0, 0, 0, 0, 0, 0, 0, 0, 0, 0, 0, 0, 0, 0, 0, 0, 0, 0, 0, 0, 0, 0, 0, 0, 0, 0, 0, 0, 0, 0, 0, 0, 0, 0, 0, 0, 0, 0, 0, 0, 0, 0, 0, 0, 0, 0, 0, 0, 0, 0, 0, 0, 0, 0, 0, 0, 0, 0, 0, 0, 0, 0, 0, 0, 0, 0, 0, 0, 0, 0, 0, 0, 0, 0, 0, 0, 0, 0, 0, 0, 0, 0, 0, 0, 0, 0, 0, 0, 0, 0, 0, 0, 0, 1, 0, 0, 0, 0, 0, 0, 0, 0, 0, 0, 0, 0, 0, 0, 0, 0, 0, 0, 0, 0, 0, 0, 0, 0, 0, 0, 0, 0, 0, 0, 0, 0, 0, 0, 0, 0, 0, 0, 0, 0, 0, 0, 0, 0, 0, 0, 0, 0, 0, 0, 0, 0, 0, 0, 0, 0, 0, 0, 0, 0, 0, 0, 0, 0, 0, 0, 0, 0, 0, 0, 0, 0, 0, 0, 0, 0, 0, 0, 0, 0, 0, 0, 0, 0, 0, 0, 0, 0, 0, 0, 0, 0, 0, 0, 0, 0, 0, 0, 0, 0, 0, 0, 0, 0, 0, 0, 0, 0, 0, 0, 0, 0, 0, 0, 0, 0, 0, 0, 0, 0, 0, 0, 0, 0, 0, 0, 0, 0, 0, 0, 0, 0, 0, 0, 0, 0, 0, 0, 0, 0, 0, 0, 0, 0, 0, 0, 0, 0, 0, 0, 0, 0, 0, 0, 0, 0, 0, 0, 0, 0, 0, 0, 0, 0, 0, 0, 0, 0, 0, 0, 0, 0, 0, 0, 0, 0, 0, 0, 0, 0, 0, 0, 0, 0, 0, 0, 0, 0, 0, 0, 0, 0, 0, 0, 0, 0, 0, 0, 0, 0, 0, 0, 0, 0, 0, 0, 0, 0, 0, 0, 0, 0, 0, 0, 0, 0, 0, 0, 0, 0, 0, 0, 0, 0, 0, 0, 0, 0, 0, 0, 0, 0, 0, 0, 0, 0, 0, 0, 0, 0, 0, 0, 0, 0, 0, 0, 0, 0, 0, 0, 0, 0, 0, 1, 0, 0, 0, 0, 0, 0, 0, 0, 0, 0, 0, 0, 0, 0, 0, 0, 0, 0, 0, 0, 0, 0, 0, 0, 0, 0, 0, 0, 0, 0, 0, 0, 0, 0, 0, 0, 0, 0, 0, 0, 0, 0, 0, 0, 0, 0, 0, 0, 0, 0, 0, 0, 0, 0, 0, 0, 0, 0, 0, 0, 0, 0, 0, 0, 0, 0, 0, 0, 0, 0, 0, 0, 0, 0, 0, 0, 0, 0, 0, 0, 0, 0, 0, 0, 0, 0, 1, 0, 0, 0, 0, 0, 0, 0, 0, 0, 0, 0, 0, 0, 0, 0, 0, 0, 0, 0, 0, 0, 0, 0, 0, 0, 0, 0, 0, 0, 0, 0, 0, 0, 0, 0, 0, 0, 0, 0, 0, 0, 0, 0, 0, 0, 0, 0, 0, 0, 0, 0, 0, 0, 0, 0, 0, 0, 0, 0, 0, 0, 0, 0, 0, 0, 0, 0, 0, 0, 0, 0, 0, 0, 0, 0, 0, 0, 0, 0, 0, 0, 0, 0, 0, 0, 0, 0, 0, 0, 0, 0, 0, 0, 0, 0, 0, 0, 0, 0, 0, 0, 0, 0, 0, 0, 0, 0, 0, 0, 0, 0, 0, 0, 0, 0, 0, 0, 0, 0, 0, 0, 0, 0, 0, 0, 0, 0, 0, 0, 0, 0, 0, 0, 0, 0, 0, 0, 0, 0, 0, 0, 0, 0, 0, 0, 0, 0, 0, 0, 0, 0, 0, 0, 0, 0, 0, 0, 0, 0, 0, 0, 0, 0, 0, 0, 0, 0, 0, 0, 0, 0, 0, 0, 0, 0, 0, 0, 0, 0, 0, 0, 0, 0, 0, 0, 0, 0, 0, 0, 0, 0, 0, 0, 0, 0, 0, 0, 0, 0, 0, 0, 0, 0, 0, 0, 0, 0, 0, 0, 0, 0, 0, 0, 0, 0, 0, 0, 0, 0, 0, 0, 0, 0, 0, 0, 0, 0, 0, 0, 0, 0, 0, 0, 0, 0, 0, 0, 0, 0, 0, 0, 0, 0, 0, 0, 0, 0, 0, 0, 0, 0, 0, 1, 0, 0, 0, 0, 0, 0, 0, 0, 0, 0, 0, 0, 0, 0, 0, 0, 0, 0, 0, 0, 0, 0, 0, 0, 0, 0, 0, 0, 0, 0, 0, 0, 0, 0, 0, 0, 0, 0, 0, 0, 0, 0, 0, 0, 0, 0, 0, 0, 0, 0, 0, 0, 0, 0, 0, 1, 0, 0, 0, 0, 0, 0, 0, 0, 0, 0, 0, 0, 0, 0, 0, 0, 0, 0, 0, 0, 0, 0, 0, 0, 0, 0, 0, 0, 0, 0, 0, 0, 0, 0, 0, 0, 0, 0, 0, 0, 0, 0, 0, 0, 0, 0, 0, 0, 0, 0, 0, 0, 0, 0, 0, 0, 0, 0, 0, 0, 0, 0, 0, 0, 0, 0, 0, 0, 0, 0, 0, 0, 0, 0, 0, 0, 0, 0, 0, 0, 0, 0, 0, 0, 0, 0, 0, 0, 0, 0, 0, 0, 0, 0, 0, 0, 0, 0, 0, 0, 0, 0, 0, 0, 0, 0, 0, 0, 0, 0, 0, 0, 0, 0, 0, 0, 0, 0, 0, 0, 0, 0, 0, 0, 0, 0, 0, 0, 0, 0, 0, 0, 0, 0, 0, 0, 0, 0, 0, 0, 0, 0, 0, 0, 0, 0, 0, 0, 0, 0, 0, 0, 0, 0, 0, 0, 0, 0, 0, 0, 0, 0, 0, 0, 0, 0, 0, 0, 0, 0, 0, 0, 0, 0, 0, 0, 0, 0, 0, 0, 0, 0, 0, 0, 0, 0, 0, 0, 0, 0, 0, 0, 0, 0, 0, 0, 0, 0, 0, 0, 0, 0, 0, 0, 0, 0, 0, 0, 0, 0, 0, 0, 0, 0, 0, 0, 0, 0, 0, 0, 0, 0, 0, 0, 0, 0, 0, 0, 0, 0, 0, 0, 0, 0, 0, 0, 0, 0, 0, 0, 0, 0, 0, 0, 0, 0, 0, 0, 0, 0, 0, 0, 0, 0, 0, 0, 0, 0, 0, 0, 0, 0, 0, 0, 0, 0, 0, 0, 0, 0, 0, 0, 0, 0, 0, 0, 0, 0, 0, 0, 0, 0, 0, 0, 0, 0, 0, 0, 0, 0, 0, 0, 0, 0, 0, 0, 0, 0, 0, 0, 0, 0, 0, 0, 0, 0, 0, 0, 0, 0, 0, 0, 0, 0, 0, 0, 0, 0, 0, 0, 0, 0, 0, 0, 0, 0, 0, 0, 0, 0, 0, 0, 0, 0, 0, 0, 0, 0, 0, 0, 0, 0, 0, 0, 0, 0, 0, 0, 0, 0, 0, 0, 0, 0, 0, 0, 0, 0, 0, 0, 0, 0, 0, 0, 0, 0, 0, 0, 0, 0, 0, 0, 0, 0, 0, 0, 0, 0, 0, 0, 0, 0, 0, 0, 0, 0, 0, 0, 0, 0, 0, 0, 0, 0, 0, 0, 0, 0, 0, 0, 0, 0, 0, 0, 0, 0, 0, 0, 0, 0, 0, 0, 0, 0, 0, 0, 0, 0, 0, 0, 0, 0, 0, 0, 0, 0, 0, 0, 0, 0, 0, 0, 0, 0, 0, 0, 0, 0, 0, 0, 0, 0, 0, 0, 0, 0, 0, 0, 0, 0, 0, 0, 0, 0, 0, 0, 0, 0, 0, 0, 0, 0, 0, 0, 0, 0, 0, 0, 0, 0, 0, 0, 0, 0, 0, 0, 0, 0, 0, 0, 0, 0, 0, 0, 0, 0, 0, 0, 0, 0, 0, 0, 0, 0, 0, 0, 0, 0, 0, 0, 0, 0, 0, 0, 0, 0, 0, 0, 0, 0, 0, 0, 0, 0, 0, 0, 0, 0, 0, 0, 0, 0, 0, 0, 0, 0, 0, 0, 0, 0, 0, 0, 0, 0, 0, 0, 0, 0, 0, 0, 0, 0, 0, 0, 0, 0, 0, 0, 0, 0, 0, 0, 0, 0, 0, 0, 0, 0, 0, 0, 0, 0, 0, 0, 0, 0, 0, 0, 0, 0, 0, 0, 0, 0, 0, 0, 0, 0, 0, 0, 0, 0, 0, 0, 0, 0, 0, 0, 0, 0, 0, 0, 0, 0, 0, 0, 0, 0, 0, 0, 0, 0, 0, 0, 0, 0, 0, 0, 0, 0, 0, 0, 0, 0, 0, 0, 0, 0, 0, 0, 0, 0, 0, 0, 0, 0, 0, 0, 0, 0, 0, 0, 0, 0, 0, 0, 0, 0, 0, 0, 0, 0, 0, 0, 0, 0, 0, 0, 0, 0, 0, 0, 0, 0, 0, 0, 0, 0, 0, 0, 0, 0, 0, 0, 0, 0, 0, 0, 0, 0, 0, 0, 0, 0, 0, 0, 0, 0, 0, 0, 0, 1, 0, 0, 0, 0, 0, 0, 0, 0, 0, 0, 0, 0, 0, 0, 0, 0, 0, 0, 0, 0, 0, 0, 0, 0, 0, 0, 0, 0, 0, 0, 0, 0, 0, 0, 0, 0, 0, 0, 0, 0, 0, 0, 0, 0, 0, 0, 0, 0, 0, 0, 0, 0, 0, 0, 0, 0, 0, 0, 0, 0, 0, 0, 0, 0, 0, 0, 0, 0, 0, 0, 0, 0, 0, 0, 1, 0, 0, 0, 0, 0, 0, 0, 0, 0, 0, 0, 0, 0, 0, 0, 0, 0, 0, 0, 0, 1, 0, 0, 1, 0, 0, 0, 0, 0, 0, 0, 0, 0, 0, 0, 0, 0, 0, 0, 0, 0, 0, 0, 0, 0, 0, 0, 0, 0, 0, 0, 0, 0, 0, 0, 0, 0, 0, 0, 0, 0, 0, 0, 0, 0, 0, 0, 0, 0, 0, 0, 0, 0, 0, 0, 0, 0, 0, 0, 0, 0, 0, 0, 0, 0, 0, 0, 0, 0, 0, 0, 0, 0, 0, 0, 0, 0, 0, 0, 0, 0, 0, 0, 0, 0, 0, 0, 0, 0, 0, 0, 0, 0, 0, 0, 0, 0, 0, 0, 0, 0, 0, 0, 0, 0, 0, 0, 0, 0, 0, 0, 0, 0, 0, 0, 0, 0, 0, 0, 0, 0, 0, 0, 0, 0, 0, 0, 0, 0, 0, 0, 0, 0, 0, 0, 0, 0, 0, 0, 0, 0, 0, 0, 0, 0, 0, 0, 0, 0, 0, 0, 0, 0, 0, 0, 0, 0, 0, 0, 0, 0, 0, 0, 0, 0, 0, 0, 0, 0, 0, 0, 0, 0, 0, 0, 0, 0, 0, 0, 0, 0, 0, 0, 0, 0, 0, 0, 0, 0, 0, 0, 0, 0, 0, 0, 0, 0, 0, 0, 0, 0, 0, 0, 0, 0, 0, 0, 0, 0, 0, 0, 0, 0, 0, 0, 0, 0, 0, 0, 0, 0, 0, 0, 0, 0, 0, 0, 0, 0, 0, 0, 0, 0, 0, 0, 0, 0, 0, 0, 0, 0, 0, 0, 0, 0, 0, 0, 0, 0, 0, 0, 0, 0, 0, 0, 0, 0, 0, 0, 0, 0, 0, 0, 0, 0, 0, 0, 0, 0, 0, 0, 0, 0, 0, 0, 0, 0, 0, 0, 0, 0, 0, 0, 0, 0, 0, 0, 0, 0, 0, 0, 0, 0, 0, 0, 0, 0, 0, 0, 0, 0, 0, 0, 0, 0, 0, 0, 0, 0, 0, 0, 0, 0, 0, 0, 0, 0, 0, 0, 0, 0, 0, 0, 0, 0, 0, 0, 0, 0, 0, 0, 0, 0, 0, 0, 0, 0, 0, 0, 0, 0, 0, 0, 0, 0, 0, 0, 0, 0, 0, 0, 0, 0, 0, 0, 0, 0, 0, 0, 0, 0, 0, 0, 0, 0, 0, 0, 0, 0, 0, 0, 0, 0, 0, 0, 0, 0, 0, 0, 0, 0, 0, 0, 0, 0, 0, 0, 0, 0, 0, 0, 0, 0, 0, 0, 0, 0, 0, 0, 0, 0, 0, 0, 0, 0, 0, 0, 0, 0, 0, 0, 0, 0, 0, 0, 0, 0, 0, 0, 0, 0, 0, 0, 0, 0, 0, 0, 0, 0, 0, 0, 0, 0, 0, 0, 0, 0, 0, 0, 0, 0, 0, 0, 0, 0, 0, 0, 0, 0, 0, 0, 0, 0, 0, 0, 0, 0, 0, 0, 0, 0, 0, 0, 0, 0, 0, 0, 0, 0, 0, 1, 0, 0, 0, 0, 0, 0, 0, 0, 0, 0, 0, 0, 0, 0, 0, 0, 0, 0, 0, 0, 0, 0, 0, 0, 0, 0, 0, 0, 0, 0, 0, 0, 0, 0, 0, 0, 0, 0, 0, 0, 0, 0, 0, 0, 0, 0, 0, 0, 0, 0, 0, 0, 0, 0, 0, 0, 0, 0, 0, 0, 0, 0, 0, 0, 0, 0, 0, 0, 0, 0, 0, 0, 0, 0, 0, 0, 0, 0, 0, 0, 0, 0, 0, 0, 0, 0, 0, 0, 0, 0, 0, 0, 0, 0, 0, 0, 0, 0, 0, 0, 0, 0, 0, 0, 0, 0, 0, 0, 0, 0, 0, 0, 0, 0, 0, 0, 0, 0, 0, 0, 0, 0, 0, 0, 0, 0, 0, 0, 0, 0, 0, 0, 0, 0, 0, 0, 0, 0, 0, 0, 0, 0, 0, 0, 0, 0, 0, 0, 0, 0, 0, 0, 0, 0, 0, 0, 0, 0, 0, 0, 0, 0, 0, 0, 0, 0, 0, 0, 0, 0, 0, 0, 0, 0, 0, 0, 0, 0, 0, 0, 0, 0, 0, 0, 0, 0, 0, 0, 0, 0, 0, 0, 0, 0, 0, 0, 0, 0, 0, 0, 0, 0, 0, 0, 0, 0, 0, 0, 0, 0, 0, 0, 0, 0, 0, 0, 0, 0, 0, 0, 0, 0, 0, 0, 0, 0, 0, 0, 0, 0, 0, 0, 0, 0, 0, 0, 0, 0, 0, 0, 0, 0, 0, 0, 0, 0, 0, 0, 0, 0, 0, 0, 0, 0, 0, 0, 0, 0, 0, 0, 0, 0, 0, 0, 0, 0, 0, 0, 0, 0, 0, 0, 0, 0, 0, 0, 0, 0, 0, 0, 0, 0, 0, 0, 0, 0, 0, 0, 0, 0, 0, 0, 0, 0, 0, 0, 0, 0, 0, 0, 0, 0, 0, 0, 0, 0, 0, 0, 0, 0, 0, 0, 0, 0, 0, 0, 0, 0, 0, 0, 0, 0, 0, 0, 0, 0, 0, 0, 0, 0, 0, 0, 0, 0, 0, 0, 0, 0, 0, 0, 0, 0, 0, 0, 0, 0, 0, 0, 0, 0, 0, 0, 0, 0, 0, 0, 0, 0, 0, 0, 0, 0, 0, 0, 0, 0, 0, 0, 0, 0, 0, 0, 0, 0, 0, 0, 0, 0, 0, 0, 0, 0, 0, 0, 0, 0, 0, 0, 0, 0, 0, 0, 0, 0, 0, 0, 0, 0, 0, 0, 0, 0, 0, 0, 0, 0, 0, 0, 0, 0, 0, 0, 0, 0, 0, 0, 0, 0, 0, 0, 0, 0, 0, 0, 0, 0, 0, 0, 0, 0, 0, 0, 0, 0, 0, 0, 0, 0, 0, 0, 0, 0, 0, 0, 0, 0, 0, 0, 0, 0, 0, 0, 0, 0, 0, 0, 0, 0, 0, 0, 0, 0, 0, 0, 0, 0, 0, 0, 0, 0, 0, 0, 0, 0, 0, 0, 0, 0, 0, 0, 0, 0, 0, 0, 0, 0, 0, 0, 0, 0, 0, 0, 0, 0, 0, 0, 0, 0, 0, 0, 0, 0, 0, 0, 0, 0, 0, 0, 0, 0, 0, 0, 1, 0, 0, 0, 0, 0, 0, 0, 0, 0, 0, 0, 0, 0, 0, 0, 0, 0, 0, 0, 0, 0, 0, 0, 0, 0, 0, 0, 0, 0, 0, 0, 0, 0, 0, 0, 2, 0, 0, 0, 0, 0, 0, 0, 0, 0, 0, 0, 0, 0, 0, 0, 0, 0, 0, 0, 0, 0, 0, 0, 0, 0, 0, 0, 0, 0, 0, 0, 0, 0, 0, 0, 0, 0, 0, 0, 0, 1, 0, 0, 0, 0, 0, 0, 0, 0, 0, 0, 0, 0, 0, 0, 0, 0, 0, 0, 0, 0, 0, 0, 0, 0, 0, 0, 0, 0, 0, 0, 0, 0, 0, 0, 0, 0, 0, 0, 0, 0, 0, 0, 0, 0, 0, 0, 0, 0, 0, 0, 0, 0, 0, 0, 0, 0, 0, 0, 0, 0, 0, 0, 0, 0, 0, 0, 0, 0, 0, 0, 0, 0, 0, 0, 0, 0, 0, 0, 0, 0, 0, 0, 0, 0, 0, 0, 0, 0, 0, 0, 0, 0, 0, 0, 0, 0, 0, 0, 0, 0, 0, 0, 0, 0, 0, 0, 0, 0, 0, 0, 0, 0, 0, 0, 0, 0, 0, 0, 0, 0, 0, 0, 0, 0, 0, 0, 0, 0, 0, 0, 0, 0, 0, 0, 0, 0, 0, 0, 0, 0, 0, 0, 0, 0, 0, 0, 0, 0, 0, 0, 0, 0, 0, 0, 0, 0, 0, 0, 0, 0, 0, 0, 0, 0, 0, 0, 0, 0, 0, 0, 0, 0, 0, 0, 0, 0, 0, 0, 0, 0, 0, 0, 0, 0, 0, 0, 0, 0, 0, 0, 0, 0, 0, 0, 0, 0, 0, 0, 0, 0, 0, 0, 0, 0, 0, 0, 0, 0, 0, 0, 0, 0, 0, 0, 0, 0, 0, 0, 0, 0, 0, 0, 0, 0, 0, 0, 0, 0, 0, 0, 0, 0, 0, 0, 0, 0, 0, 0, 0, 0, 0, 0, 0, 0, 0, 0, 0, 0, 0, 0, 0, 0, 0, 0, 0, 0, 0, 0, 0, 0, 0, 0, 0, 0, 0, 0, 0, 0, 0, 0, 0, 0, 0, 0, 0, 0, 0, 0, 0, 0, 0, 0, 0, 0, 0, 0, 0, 0, 0, 0, 0, 0, 0, 0, 0, 0, 0, 0, 0, 0, 0, 0, 0, 0, 0, 0, 0, 0, 0, 0, 0, 0, 0, 0, 0, 0, 0, 0, 0, 0, 0, 0, 0, 0, 0, 0, 0, 0, 0, 0, 0, 0, 0, 0, 0, 0, 0, 0, 0, 0, 0, 0, 0, 0, 0, 0, 0, 0, 0, 0, 0, 0, 0, 0, 0, 0, 0, 0, 0, 0, 0, 0, 0, 0, 0, 0, 0, 0, 0, 0, 0, 0, 0, 0, 0, 0, 0, 0, 0, 0, 0, 0, 0, 0, 0, 0, 0, 0, 0, 0, 0, 0, 0, 0, 0, 0, 0, 0, 0, 0, 0, 0, 0, 0, 0, 0, 0, 0, 0, 0, 0, 0, 0, 0, 0, 0, 0, 0, 0, 0, 0, 0, 0, 0, 0, 0, 0, 0, 0, 0, 0, 0, 0, 0, 0, 0, 0, 0, 0, 0, 0, 0, 0, 0, 0, 0, 0, 0, 0, 0, 0, 0, 0, 0, 0, 0, 0, 0, 0, 0, 0, 0, 0, 0, 0, 0, 0, 0, 0, 0, 0, 0, 0, 0, 0, 0, 0, 0, 0, 0, 0, 0, 0, 0, 0, 0, 0, 0, 0, 0, 0, 0, 0, 0, 0, 0, 0, 1, 0, 0, 0, 0, 0, 0, 0, 0, 0, 0, 0, 0, 0, 0, 0, 0, 0, 0, 0, 0, 0, 0, 0, 0, 0, 0, 0, 0, 0, 0, 0, 0, 0, 0, 0, 0, 0, 0, 0, 0, 0, 0, 0, 0, 0, 0, 0, 0, 0, 0, 0, 0, 0, 0, 0, 0, 0, 0, 0, 0, 0, 0, 0, 0, 0, 0, 0, 0, 0, 0, 0, 0, 0, 0, 0, 0, 0, 0, 0, 0, 0, 0, 0, 0, 0, 0, 0, 0, 0, 0, 0, 0, 0, 0, 0, 0, 0, 0, 0, 0, 0, 0, 0, 0, 0, 0, 0, 0, 0, 0, 2, 0, 0, 0, 0, 0, 0, 0, 0, 0, 0, 0, 0, 0, 0, 0, 0, 0, 0, 0, 0, 0, 0, 0, 0, 0, 0, 0, 0, 0, 0, 0, 0, 0, 0, 0, 0, 0, 0, 0, 0, 0, 0, 0, 0, 0, 0, 0, 0, 0, 0, 0, 0, 0, 0, 0, 0, 0, 0, 0, 0, 0, 0, 0, 0, 0, 0, 0, 0, 0, 0, 0, 0, 0, 0, 0, 0, 0, 0, 0, 0, 0, 0, 0, 0, 0, 0, 0, 0, 0, 0, 0, 0, 0, 0, 0, 0, 0, 0, 0, 0, 0, 0, 0, 0, 0, 0, 0, 0, 0, 0, 0, 0, 0, 0, 0, 0, 0, 0, 0, 0, 0, 0, 0, 0, 0, 0, 0, 0, 0, 0, 0, 0, 0, 0, 0, 0, 0, 0, 0, 0, 0, 0, 0, 0, 0, 0, 0, 0, 0, 0, 0, 0, 0, 0, 0, 0, 0, 0, 0, 0, 0, 0, 0, 0, 0, 0, 0, 0, 0, 0, 0, 0, 0, 0, 0, 0, 0, 0, 0, 0, 0, 0, 0, 0, 0, 0, 0, 0, 0, 0, 0, 0, 0, 0, 0, 0, 0, 0, 0, 0, 0, 0, 0, 0, 0, 0, 0, 0, 0, 0, 0, 0, 0, 0, 0, 0, 0, 0, 0, 0, 0, 0, 0, 0, 0, 0, 0, 0, 0, 0, 0, 0, 0, 0, 0, 0, 0, 0, 0, 0, 0, 0, 0, 0, 0, 0, 0, 0, 0, 0, 0, 0, 0, 0, 0, 0, 0, 0, 0, 0, 0, 0, 0, 0, 0, 0, 0, 0, 0, 0, 0, 0, 0, 0, 0, 0, 0, 0, 0, 0, 0, 0, 0, 0, 0, 0, 0, 0, 0, 0, 0, 0, 0, 0, 0, 0, 0, 0, 0, 0, 0, 0, 0, 0, 0, 0, 0, 0, 0, 0, 0, 0, 0, 0, 0, 0, 0, 0, 0, 0, 0, 0, 0, 0, 0, 0, 0, 0, 0, 0, 0, 0, 0, 0, 0, 0, 0, 0, 0, 0, 0, 0, 0, 0, 0, 0, 0, 0, 0, 0, 0, 0, 0, 0, 0, 0, 0, 0, 0, 0, 0, 0, 0, 0, 0, 0, 0, 0, 0, 0, 0, 0, 0, 0, 0, 0, 0, 0, 0, 0, 0, 0, 0, 0, 0, 0, 0, 0, 0, 0, 0, 0, 0, 0, 0, 0, 0, 0, 0, 0, 0, 0, 0, 0, 0, 0, 0, 0, 0, 0, 0, 0, 0, 0, 0, 0, 0, 0, 0, 0, 0, 0, 0, 0, 0, 0, 0, 0, 0, 0, 0, 0, 0, 0, 0, 0, 0, 0, 0, 0, 0, 0, 0, 0, 0, 0, 0, 0, 0, 0, 0, 0, 0, 0, 0, 0, 0, 0, 0, 0, 0, 0, 0, 0, 0, 0, 0, 0, 0, 0, 0, 0, 0, 0, 0, 0, 0, 0, 0, 0, 0, 0, 0, 0, 0, 0, 0, 0, 0, 0, 0, 0, 0, 0, 0, 0, 0, 0, 0, 0, 0, 0, 0, 0, 0, 0, 0, 0, 0, 0, 0, 0, 0, 0, 0, 0, 0, 0, 0, 0, 0, 0, 0, 0, 0, 0, 0, 0, 0, 0, 0, 0, 0, 0, 0, 0, 0, 0, 0, 0, 0, 0, 0, 0, 0, 0, 0, 0, 0, 0, 0, 0, 0, 0, 0, 0, 0, 0, 0, 0, 0, 0, 0, 0, 0, 0, 0, 0, 0, 0, 0, 0, 0, 0, 0, 0, 0, 0, 0, 0, 0, 0, 0, 0, 0, 0, 0, 0, 0, 0, 0, 0, 0, 0, 0, 0, 0, 0, 0, 0, 0, 0, 0, 0, 0, 0, 0, 0, 0, 0, 0, 0, 0, 0, 0, 0, 0, 0, 0, 0, 0, 0, 0, 0, 0, 0, 0, 0, 0, 0, 0, 0, 0, 0, 0, 0, 0, 0, 0, 0, 0, 0, 0, 0, 0, 0, 0, 0, 0, 0, 0, 0, 0, 0, 0, 0, 0, 0, 0, 0, 0, 0, 0, 0, 0, 0, 0, 0, 0, 0, 0, 0, 0, 0, 0, 0, 0, 0, 0, 0, 0, 0, 0, 0, 0, 0, 0, 0, 0, 0, 1, 0, 0, 0, 0, 0, 0, 0, 0, 0, 0, 0, 0, 0, 0, 0, 0, 0, 0, 0, 0, 0, 0, 0, 0, 0, 0, 0, 0, 0, 0, 0, 0, 0, 0, 0, 0, 0, 0, 0, 0, 0, 0, 0, 0, 0, 0, 0, 0, 0, 0, 0, 0, 0, 0, 0, 0, 0, 0, 0, 0, 0, 0, 0, 0, 0, 0, 0, 0, 0, 0, 0, 0, 0, 0, 0, 0, 0, 0, 0, 0, 0, 0, 0, 0, 0, 0, 0, 0, 0, 0, 0, 0, 0, 0, 0, 0, 0, 0, 0, 0, 0, 0, 0, 0, 0, 0, 0, 1, 0, 0, 0, 0, 0, 0, 0, 0, 0, 0, 0, 0, 0, 0, 0, 0, 0, 0, 0, 0, 0, 0, 0, 0, 0, 0, 0, 0, 0, 0, 0, 0, 0, 0, 0, 0, 0, 0, 0, 0, 0, 0, 0, 0, 0, 0, 0, 0, 0, 0, 0, 0, 0, 0, 0, 0, 0, 0, 0, 0, 0, 0, 0, 0, 0, 0, 0, 0, 0, 0, 0, 0, 0, 0, 0, 0, 0, 0, 0, 0, 0, 0, 0, 0, 0, 0, 0, 0, 0, 0, 0, 0, 0, 0, 0, 0, 0, 0, 0, 0, 0, 0, 0, 0, 0, 0, 0, 0, 0, 0, 0, 0, 0, 0, 0, 0, 0, 0, 0, 0, 0, 0, 0, 0, 0, 0, 0, 0, 0, 0, 0, 0, 0, 0, 0, 0, 0, 0, 0, 0, 0, 0, 0, 0, 0, 0, 0, 0, 0, 0, 0, 0, 0, 0, 0, 0, 0, 0, 0, 0, 0, 0, 0, 0, 0, 0, 0, 0, 0, 0, 0, 0, 0, 0, 0, 0, 0, 0, 0, 0, 0, 0, 0, 0, 0, 0, 0, 0, 0, 0, 0, 0, 0, 0, 0, 0, 0, 0, 0, 0, 0, 0, 0, 0, 0, 0, 0, 0, 0, 0, 0, 0, 0, 0, 0, 0, 0, 0, 0, 0, 0, 0, 0, 0, 0, 0, 0, 0, 0, 0, 0, 0, 0, 0, 0, 0, 0, 0, 0, 0, 0, 0, 0, 0, 0, 0, 0, 0, 0, 0, 0, 0, 0, 0, 0, 0, 0, 0, 0, 0, 0, 0, 0, 0, 0, 0, 0, 0, 0, 0, 0, 0, 0, 0, 0, 0, 0, 0, 0, 0, 0, 0, 0, 0, 0, 0, 0, 0, 0, 0, 0, 0, 0, 0, 0, 0, 0, 0, 0, 0, 0, 0, 0, 0, 0, 0, 0, 0, 0, 0, 0, 0, 0, 0, 0, 0, 0, 0, 0, 0, 0, 0, 0, 0, 0, 0, 0, 0, 0, 0, 0, 0, 0, 0, 0, 0, 0, 0, 0, 0, 0, 0, 0, 0, 0, 0, 0, 0, 0, 0, 0, 0, 0, 0, 0, 0, 0, 0, 0, 0, 0, 0, 0, 0, 0, 0, 0, 0, 0, 0, 0, 0, 0, 0, 0, 0, 0, 0, 0, 0, 0, 0, 0, 0, 0, 0, 0, 0, 0, 0, 0, 0, 0, 0, 0, 0, 0, 0, 0, 0, 0, 0, 0, 0, 0, 0, 0, 0, 0, 0, 0, 0, 0, 0, 0, 0, 0, 0, 0, 0, 0, 0, 0, 0, 0, 0, 0, 0, 0, 0, 0, 0, 0, 0, 0, 0, 0, 0, 0, 0, 0, 0, 0, 0, 0, 0, 0, 0, 0, 0, 0, 0, 0, 0, 0, 0, 0, 0, 0, 0, 0, 0, 0, 2, 0, 1, 0], type: <class 'list'>, valid types: <class 'bytes'>, <class 'bytearray'>, file-like object",
     "output_type": "error",
     "traceback": [
      "\u001b[0;31m---------------------------------------------------------------------------\u001b[0m",
      "\u001b[0;31mParamValidationError\u001b[0m                      Traceback (most recent call last)",
      "\u001b[0;32m<ipython-input-44-c9ab54ae3a48>\u001b[0m in \u001b[0;36m<module>\u001b[0;34m\u001b[0m\n\u001b[1;32m      1\u001b[0m response = runtime.invoke_endpoint(EndpointName = xgb_predictor.endpoint, # The name of the endpoint we created\n\u001b[1;32m      2\u001b[0m                                        \u001b[0mContentType\u001b[0m \u001b[0;34m=\u001b[0m \u001b[0;34m'text/csv'\u001b[0m\u001b[0;34m,\u001b[0m                     \u001b[0;31m# The data format that is expected\u001b[0m\u001b[0;34m\u001b[0m\u001b[0;34m\u001b[0m\u001b[0m\n\u001b[0;32m----> 3\u001b[0;31m                                        Body = test_bow)\n\u001b[0m",
      "\u001b[0;32m~/anaconda3/envs/python3/lib/python3.6/site-packages/botocore/client.py\u001b[0m in \u001b[0;36m_api_call\u001b[0;34m(self, *args, **kwargs)\u001b[0m\n\u001b[1;32m    314\u001b[0m                     \"%s() only accepts keyword arguments.\" % py_operation_name)\n\u001b[1;32m    315\u001b[0m             \u001b[0;31m# The \"self\" in this scope is referring to the BaseClient.\u001b[0m\u001b[0;34m\u001b[0m\u001b[0;34m\u001b[0m\u001b[0;34m\u001b[0m\u001b[0m\n\u001b[0;32m--> 316\u001b[0;31m             \u001b[0;32mreturn\u001b[0m \u001b[0mself\u001b[0m\u001b[0;34m.\u001b[0m\u001b[0m_make_api_call\u001b[0m\u001b[0;34m(\u001b[0m\u001b[0moperation_name\u001b[0m\u001b[0;34m,\u001b[0m \u001b[0mkwargs\u001b[0m\u001b[0;34m)\u001b[0m\u001b[0;34m\u001b[0m\u001b[0;34m\u001b[0m\u001b[0m\n\u001b[0m\u001b[1;32m    317\u001b[0m \u001b[0;34m\u001b[0m\u001b[0m\n\u001b[1;32m    318\u001b[0m         \u001b[0m_api_call\u001b[0m\u001b[0;34m.\u001b[0m\u001b[0m__name__\u001b[0m \u001b[0;34m=\u001b[0m \u001b[0mstr\u001b[0m\u001b[0;34m(\u001b[0m\u001b[0mpy_operation_name\u001b[0m\u001b[0;34m)\u001b[0m\u001b[0;34m\u001b[0m\u001b[0;34m\u001b[0m\u001b[0m\n",
      "\u001b[0;32m~/anaconda3/envs/python3/lib/python3.6/site-packages/botocore/client.py\u001b[0m in \u001b[0;36m_make_api_call\u001b[0;34m(self, operation_name, api_params)\u001b[0m\n\u001b[1;32m    606\u001b[0m         }\n\u001b[1;32m    607\u001b[0m         request_dict = self._convert_to_request_dict(\n\u001b[0;32m--> 608\u001b[0;31m             api_params, operation_model, context=request_context)\n\u001b[0m\u001b[1;32m    609\u001b[0m \u001b[0;34m\u001b[0m\u001b[0m\n\u001b[1;32m    610\u001b[0m         \u001b[0mservice_id\u001b[0m \u001b[0;34m=\u001b[0m \u001b[0mself\u001b[0m\u001b[0;34m.\u001b[0m\u001b[0m_service_model\u001b[0m\u001b[0;34m.\u001b[0m\u001b[0mservice_id\u001b[0m\u001b[0;34m.\u001b[0m\u001b[0mhyphenize\u001b[0m\u001b[0;34m(\u001b[0m\u001b[0;34m)\u001b[0m\u001b[0;34m\u001b[0m\u001b[0;34m\u001b[0m\u001b[0m\n",
      "\u001b[0;32m~/anaconda3/envs/python3/lib/python3.6/site-packages/botocore/client.py\u001b[0m in \u001b[0;36m_convert_to_request_dict\u001b[0;34m(self, api_params, operation_model, context)\u001b[0m\n\u001b[1;32m    654\u001b[0m             api_params, operation_model, context)\n\u001b[1;32m    655\u001b[0m         request_dict = self._serializer.serialize_to_request(\n\u001b[0;32m--> 656\u001b[0;31m             api_params, operation_model)\n\u001b[0m\u001b[1;32m    657\u001b[0m         \u001b[0;32mif\u001b[0m \u001b[0;32mnot\u001b[0m \u001b[0mself\u001b[0m\u001b[0;34m.\u001b[0m\u001b[0m_client_config\u001b[0m\u001b[0;34m.\u001b[0m\u001b[0minject_host_prefix\u001b[0m\u001b[0;34m:\u001b[0m\u001b[0;34m\u001b[0m\u001b[0;34m\u001b[0m\u001b[0m\n\u001b[1;32m    658\u001b[0m             \u001b[0mrequest_dict\u001b[0m\u001b[0;34m.\u001b[0m\u001b[0mpop\u001b[0m\u001b[0;34m(\u001b[0m\u001b[0;34m'host_prefix'\u001b[0m\u001b[0;34m,\u001b[0m \u001b[0;32mNone\u001b[0m\u001b[0;34m)\u001b[0m\u001b[0;34m\u001b[0m\u001b[0;34m\u001b[0m\u001b[0m\n",
      "\u001b[0;32m~/anaconda3/envs/python3/lib/python3.6/site-packages/botocore/validate.py\u001b[0m in \u001b[0;36mserialize_to_request\u001b[0;34m(self, parameters, operation_model)\u001b[0m\n\u001b[1;32m    295\u001b[0m                                                     operation_model.input_shape)\n\u001b[1;32m    296\u001b[0m             \u001b[0;32mif\u001b[0m \u001b[0mreport\u001b[0m\u001b[0;34m.\u001b[0m\u001b[0mhas_errors\u001b[0m\u001b[0;34m(\u001b[0m\u001b[0;34m)\u001b[0m\u001b[0;34m:\u001b[0m\u001b[0;34m\u001b[0m\u001b[0;34m\u001b[0m\u001b[0m\n\u001b[0;32m--> 297\u001b[0;31m                 \u001b[0;32mraise\u001b[0m \u001b[0mParamValidationError\u001b[0m\u001b[0;34m(\u001b[0m\u001b[0mreport\u001b[0m\u001b[0;34m=\u001b[0m\u001b[0mreport\u001b[0m\u001b[0;34m.\u001b[0m\u001b[0mgenerate_report\u001b[0m\u001b[0;34m(\u001b[0m\u001b[0;34m)\u001b[0m\u001b[0;34m)\u001b[0m\u001b[0;34m\u001b[0m\u001b[0;34m\u001b[0m\u001b[0m\n\u001b[0m\u001b[1;32m    298\u001b[0m         return self._serializer.serialize_to_request(parameters,\n\u001b[1;32m    299\u001b[0m                                                      operation_model)\n",
      "\u001b[0;31mParamValidationError\u001b[0m: Parameter validation failed:\nInvalid type for parameter Body, value: [0, 0, 0, 0, 0, 0, 0, 0, 0, 0, 0, 0, 0, 0, 0, 0, 0, 0, 0, 0, 0, 0, 0, 0, 0, 0, 0, 0, 0, 0, 0, 0, 0, 0, 0, 0, 0, 0, 0, 0, 0, 0, 0, 0, 0, 0, 0, 0, 0, 0, 0, 0, 0, 0, 0, 0, 0, 0, 0, 0, 0, 0, 0, 0, 0, 0, 0, 0, 0, 0, 0, 0, 0, 0, 0, 0, 0, 0, 0, 0, 0, 0, 0, 0, 0, 0, 0, 0, 0, 0, 0, 0, 0, 0, 0, 0, 0, 0, 0, 0, 0, 0, 0, 0, 0, 0, 0, 0, 0, 0, 0, 0, 0, 0, 0, 0, 0, 0, 0, 0, 0, 0, 0, 0, 0, 0, 0, 0, 0, 0, 0, 0, 0, 0, 0, 0, 0, 0, 0, 0, 0, 0, 0, 0, 0, 0, 0, 0, 0, 0, 0, 0, 0, 0, 0, 0, 0, 0, 0, 0, 0, 0, 0, 0, 0, 0, 0, 0, 0, 0, 0, 0, 0, 0, 0, 0, 0, 0, 0, 0, 0, 0, 0, 0, 0, 0, 0, 0, 0, 0, 0, 0, 0, 0, 0, 0, 0, 0, 0, 0, 0, 0, 0, 0, 0, 0, 0, 0, 0, 0, 0, 0, 0, 0, 0, 0, 0, 0, 0, 0, 0, 0, 0, 0, 0, 0, 1, 0, 0, 0, 0, 0, 0, 0, 0, 0, 0, 0, 0, 0, 0, 0, 0, 0, 0, 0, 0, 0, 0, 0, 0, 0, 0, 0, 0, 0, 1, 0, 0, 0, 0, 0, 0, 0, 0, 0, 0, 0, 0, 0, 0, 0, 0, 0, 0, 0, 0, 0, 0, 0, 0, 0, 0, 0, 0, 0, 0, 0, 0, 0, 0, 0, 0, 0, 0, 0, 0, 0, 0, 0, 0, 0, 0, 0, 0, 0, 0, 0, 0, 0, 0, 0, 0, 0, 0, 0, 0, 0, 0, 0, 0, 0, 0, 0, 0, 0, 0, 0, 0, 0, 0, 0, 0, 0, 0, 0, 0, 0, 0, 0, 0, 0, 0, 0, 0, 0, 0, 0, 0, 0, 0, 0, 0, 0, 0, 0, 0, 0, 0, 0, 0, 0, 0, 0, 0, 0, 0, 0, 0, 0, 0, 0, 0, 0, 0, 0, 0, 0, 0, 0, 0, 0, 0, 0, 0, 0, 0, 0, 0, 0, 0, 0, 0, 0, 0, 0, 0, 0, 0, 0, 0, 0, 0, 0, 0, 0, 0, 0, 0, 0, 0, 0, 0, 0, 0, 0, 0, 0, 0, 0, 0, 0, 0, 0, 0, 0, 0, 0, 0, 0, 0, 0, 0, 0, 0, 0, 0, 0, 0, 0, 0, 0, 0, 0, 0, 0, 0, 0, 0, 0, 0, 0, 0, 0, 0, 0, 0, 0, 0, 0, 0, 0, 0, 0, 0, 0, 0, 0, 0, 0, 0, 0, 0, 0, 0, 0, 0, 0, 0, 0, 0, 0, 0, 0, 0, 0, 0, 0, 0, 0, 0, 0, 0, 0, 0, 0, 0, 0, 0, 0, 0, 0, 0, 0, 0, 0, 0, 0, 0, 0, 0, 0, 0, 0, 0, 0, 0, 0, 0, 0, 0, 0, 0, 0, 0, 0, 0, 0, 0, 0, 0, 0, 0, 0, 0, 0, 0, 0, 0, 0, 0, 0, 0, 0, 0, 0, 0, 0, 0, 0, 0, 0, 0, 0, 0, 0, 0, 0, 0, 0, 0, 0, 0, 0, 0, 0, 0, 0, 0, 0, 0, 0, 0, 0, 0, 0, 0, 0, 0, 0, 0, 0, 0, 0, 0, 0, 0, 0, 0, 0, 0, 0, 0, 0, 0, 0, 0, 0, 0, 0, 0, 0, 0, 0, 0, 0, 0, 0, 0, 0, 0, 0, 0, 0, 0, 0, 0, 0, 0, 0, 0, 0, 0, 0, 0, 0, 0, 0, 0, 0, 0, 0, 0, 0, 0, 0, 1, 0, 0, 0, 0, 0, 0, 0, 0, 0, 0, 0, 0, 0, 0, 0, 0, 0, 0, 0, 0, 0, 0, 0, 0, 0, 0, 0, 0, 0, 0, 0, 0, 0, 0, 0, 0, 0, 0, 0, 0, 0, 0, 0, 0, 0, 0, 0, 0, 0, 0, 0, 0, 0, 0, 0, 0, 0, 0, 0, 0, 0, 0, 0, 0, 0, 0, 0, 0, 0, 0, 0, 0, 0, 0, 0, 0, 0, 0, 0, 0, 0, 0, 0, 0, 0, 0, 0, 0, 0, 0, 0, 0, 0, 0, 0, 0, 0, 0, 0, 0, 0, 0, 0, 0, 0, 0, 0, 0, 0, 0, 0, 0, 0, 0, 0, 0, 0, 0, 0, 0, 0, 0, 0, 0, 0, 0, 0, 0, 0, 0, 0, 0, 0, 0, 0, 0, 0, 0, 0, 0, 0, 0, 0, 0, 0, 0, 0, 0, 0, 0, 0, 0, 0, 0, 0, 0, 0, 0, 0, 0, 0, 0, 0, 0, 0, 0, 0, 0, 0, 0, 0, 0, 0, 0, 0, 0, 0, 0, 0, 0, 0, 0, 0, 0, 0, 0, 0, 0, 0, 0, 0, 0, 0, 0, 0, 0, 0, 0, 0, 0, 0, 0, 0, 0, 0, 0, 0, 0, 0, 0, 0, 0, 0, 0, 0, 0, 0, 0, 0, 0, 0, 0, 0, 0, 0, 0, 0, 0, 0, 0, 0, 0, 0, 0, 0, 0, 0, 0, 0, 0, 0, 0, 0, 0, 0, 0, 0, 0, 0, 0, 0, 0, 0, 1, 0, 0, 0, 0, 0, 0, 0, 0, 0, 0, 0, 0, 0, 0, 0, 0, 0, 0, 0, 0, 0, 0, 0, 0, 0, 0, 0, 0, 0, 0, 0, 0, 0, 0, 0, 0, 0, 0, 0, 0, 0, 0, 0, 0, 0, 0, 0, 0, 0, 0, 0, 0, 0, 0, 0, 0, 0, 0, 0, 0, 0, 0, 0, 0, 0, 0, 0, 0, 0, 0, 0, 0, 0, 0, 0, 0, 0, 0, 0, 0, 0, 0, 0, 0, 0, 0, 1, 0, 0, 0, 0, 0, 0, 0, 0, 0, 0, 0, 0, 0, 0, 0, 0, 0, 0, 0, 0, 0, 0, 0, 0, 0, 0, 0, 0, 0, 0, 0, 0, 0, 0, 0, 0, 0, 0, 0, 0, 0, 0, 0, 0, 0, 0, 0, 0, 0, 0, 0, 0, 0, 0, 0, 0, 0, 0, 0, 0, 0, 0, 0, 0, 0, 0, 0, 0, 0, 0, 0, 0, 0, 0, 0, 0, 0, 0, 0, 0, 0, 0, 0, 0, 0, 0, 0, 0, 0, 0, 0, 0, 0, 0, 0, 0, 0, 0, 0, 0, 0, 0, 0, 0, 0, 0, 0, 0, 0, 0, 0, 0, 0, 0, 0, 0, 0, 0, 0, 0, 0, 0, 0, 0, 0, 0, 0, 0, 0, 0, 0, 0, 0, 0, 0, 0, 0, 0, 0, 0, 0, 0, 0, 0, 0, 0, 0, 0, 0, 0, 0, 0, 0, 0, 0, 0, 0, 0, 0, 0, 0, 0, 0, 0, 0, 0, 0, 0, 0, 0, 0, 0, 0, 0, 0, 0, 0, 0, 0, 0, 0, 0, 0, 0, 0, 0, 0, 0, 0, 0, 0, 0, 0, 0, 0, 0, 0, 0, 0, 0, 0, 0, 0, 0, 0, 0, 0, 0, 0, 0, 0, 0, 0, 0, 0, 0, 0, 0, 0, 0, 0, 0, 0, 0, 0, 0, 0, 0, 0, 0, 0, 0, 0, 0, 0, 0, 0, 0, 0, 0, 0, 0, 0, 0, 0, 0, 0, 0, 0, 0, 0, 0, 1, 0, 0, 0, 0, 0, 0, 0, 0, 0, 0, 0, 0, 0, 0, 0, 0, 0, 0, 0, 0, 0, 0, 0, 0, 0, 0, 0, 0, 0, 0, 0, 0, 0, 0, 0, 0, 0, 0, 0, 0, 0, 0, 0, 0, 0, 0, 0, 0, 0, 0, 0, 0, 0, 0, 0, 1, 0, 0, 0, 0, 0, 0, 0, 0, 0, 0, 0, 0, 0, 0, 0, 0, 0, 0, 0, 0, 0, 0, 0, 0, 0, 0, 0, 0, 0, 0, 0, 0, 0, 0, 0, 0, 0, 0, 0, 0, 0, 0, 0, 0, 0, 0, 0, 0, 0, 0, 0, 0, 0, 0, 0, 0, 0, 0, 0, 0, 0, 0, 0, 0, 0, 0, 0, 0, 0, 0, 0, 0, 0, 0, 0, 0, 0, 0, 0, 0, 0, 0, 0, 0, 0, 0, 0, 0, 0, 0, 0, 0, 0, 0, 0, 0, 0, 0, 0, 0, 0, 0, 0, 0, 0, 0, 0, 0, 0, 0, 0, 0, 0, 0, 0, 0, 0, 0, 0, 0, 0, 0, 0, 0, 0, 0, 0, 0, 0, 0, 0, 0, 0, 0, 0, 0, 0, 0, 0, 0, 0, 0, 0, 0, 0, 0, 0, 0, 0, 0, 0, 0, 0, 0, 0, 0, 0, 0, 0, 0, 0, 0, 0, 0, 0, 0, 0, 0, 0, 0, 0, 0, 0, 0, 0, 0, 0, 0, 0, 0, 0, 0, 0, 0, 0, 0, 0, 0, 0, 0, 0, 0, 0, 0, 0, 0, 0, 0, 0, 0, 0, 0, 0, 0, 0, 0, 0, 0, 0, 0, 0, 0, 0, 0, 0, 0, 0, 0, 0, 0, 0, 0, 0, 0, 0, 0, 0, 0, 0, 0, 0, 0, 0, 0, 0, 0, 0, 0, 0, 0, 0, 0, 0, 0, 0, 0, 0, 0, 0, 0, 0, 0, 0, 0, 0, 0, 0, 0, 0, 0, 0, 0, 0, 0, 0, 0, 0, 0, 0, 0, 0, 0, 0, 0, 0, 0, 0, 0, 0, 0, 0, 0, 0, 0, 0, 0, 0, 0, 0, 0, 0, 0, 0, 0, 0, 0, 0, 0, 0, 0, 0, 0, 0, 0, 0, 0, 0, 0, 0, 0, 0, 0, 0, 0, 0, 0, 0, 0, 0, 0, 0, 0, 0, 0, 0, 0, 0, 0, 0, 0, 0, 0, 0, 0, 0, 0, 0, 0, 0, 0, 0, 0, 0, 0, 0, 0, 0, 0, 0, 0, 0, 0, 0, 0, 0, 0, 0, 0, 0, 0, 0, 0, 0, 0, 0, 0, 0, 0, 0, 0, 0, 0, 0, 0, 0, 0, 0, 0, 0, 0, 0, 0, 0, 0, 0, 0, 0, 0, 0, 0, 0, 0, 0, 0, 0, 0, 0, 0, 0, 0, 0, 0, 0, 0, 0, 0, 0, 0, 0, 0, 0, 0, 0, 0, 0, 0, 0, 0, 0, 0, 0, 0, 0, 0, 0, 0, 0, 0, 0, 0, 0, 0, 0, 0, 0, 0, 0, 0, 0, 0, 0, 0, 0, 0, 0, 0, 0, 0, 0, 0, 0, 0, 0, 0, 0, 0, 0, 0, 0, 0, 0, 0, 0, 0, 0, 0, 0, 0, 0, 0, 0, 0, 0, 0, 0, 0, 0, 0, 0, 0, 0, 0, 0, 0, 0, 0, 0, 0, 0, 0, 0, 0, 0, 0, 0, 0, 0, 0, 0, 0, 0, 0, 0, 0, 0, 0, 0, 0, 0, 0, 0, 0, 0, 0, 0, 0, 0, 0, 0, 0, 0, 0, 0, 0, 0, 0, 0, 0, 0, 0, 0, 0, 0, 0, 0, 0, 0, 0, 0, 0, 0, 0, 0, 0, 0, 0, 0, 0, 0, 0, 0, 0, 0, 0, 0, 0, 0, 0, 0, 0, 0, 0, 0, 0, 0, 0, 0, 0, 0, 0, 0, 0, 0, 0, 0, 0, 0, 0, 0, 0, 0, 0, 0, 0, 0, 0, 0, 0, 0, 0, 0, 0, 0, 0, 0, 0, 0, 0, 0, 0, 0, 0, 0, 0, 0, 0, 0, 0, 0, 0, 0, 0, 0, 0, 0, 0, 0, 0, 0, 0, 0, 0, 0, 0, 0, 0, 0, 0, 0, 0, 0, 0, 0, 0, 0, 0, 0, 0, 0, 0, 0, 0, 0, 0, 0, 0, 0, 0, 0, 0, 0, 0, 0, 0, 0, 0, 0, 0, 0, 0, 0, 0, 0, 0, 0, 0, 0, 0, 0, 0, 0, 0, 0, 0, 0, 0, 0, 0, 0, 0, 0, 1, 0, 0, 0, 0, 0, 0, 0, 0, 0, 0, 0, 0, 0, 0, 0, 0, 0, 0, 0, 0, 0, 0, 0, 0, 0, 0, 0, 0, 0, 0, 0, 0, 0, 0, 0, 0, 0, 0, 0, 0, 0, 0, 0, 0, 0, 0, 0, 0, 0, 0, 0, 0, 0, 0, 0, 0, 0, 0, 0, 0, 0, 0, 0, 0, 0, 0, 0, 0, 0, 0, 0, 0, 0, 0, 1, 0, 0, 0, 0, 0, 0, 0, 0, 0, 0, 0, 0, 0, 0, 0, 0, 0, 0, 0, 0, 1, 0, 0, 1, 0, 0, 0, 0, 0, 0, 0, 0, 0, 0, 0, 0, 0, 0, 0, 0, 0, 0, 0, 0, 0, 0, 0, 0, 0, 0, 0, 0, 0, 0, 0, 0, 0, 0, 0, 0, 0, 0, 0, 0, 0, 0, 0, 0, 0, 0, 0, 0, 0, 0, 0, 0, 0, 0, 0, 0, 0, 0, 0, 0, 0, 0, 0, 0, 0, 0, 0, 0, 0, 0, 0, 0, 0, 0, 0, 0, 0, 0, 0, 0, 0, 0, 0, 0, 0, 0, 0, 0, 0, 0, 0, 0, 0, 0, 0, 0, 0, 0, 0, 0, 0, 0, 0, 0, 0, 0, 0, 0, 0, 0, 0, 0, 0, 0, 0, 0, 0, 0, 0, 0, 0, 0, 0, 0, 0, 0, 0, 0, 0, 0, 0, 0, 0, 0, 0, 0, 0, 0, 0, 0, 0, 0, 0, 0, 0, 0, 0, 0, 0, 0, 0, 0, 0, 0, 0, 0, 0, 0, 0, 0, 0, 0, 0, 0, 0, 0, 0, 0, 0, 0, 0, 0, 0, 0, 0, 0, 0, 0, 0, 0, 0, 0, 0, 0, 0, 0, 0, 0, 0, 0, 0, 0, 0, 0, 0, 0, 0, 0, 0, 0, 0, 0, 0, 0, 0, 0, 0, 0, 0, 0, 0, 0, 0, 0, 0, 0, 0, 0, 0, 0, 0, 0, 0, 0, 0, 0, 0, 0, 0, 0, 0, 0, 0, 0, 0, 0, 0, 0, 0, 0, 0, 0, 0, 0, 0, 0, 0, 0, 0, 0, 0, 0, 0, 0, 0, 0, 0, 0, 0, 0, 0, 0, 0, 0, 0, 0, 0, 0, 0, 0, 0, 0, 0, 0, 0, 0, 0, 0, 0, 0, 0, 0, 0, 0, 0, 0, 0, 0, 0, 0, 0, 0, 0, 0, 0, 0, 0, 0, 0, 0, 0, 0, 0, 0, 0, 0, 0, 0, 0, 0, 0, 0, 0, 0, 0, 0, 0, 0, 0, 0, 0, 0, 0, 0, 0, 0, 0, 0, 0, 0, 0, 0, 0, 0, 0, 0, 0, 0, 0, 0, 0, 0, 0, 0, 0, 0, 0, 0, 0, 0, 0, 0, 0, 0, 0, 0, 0, 0, 0, 0, 0, 0, 0, 0, 0, 0, 0, 0, 0, 0, 0, 0, 0, 0, 0, 0, 0, 0, 0, 0, 0, 0, 0, 0, 0, 0, 0, 0, 0, 0, 0, 0, 0, 0, 0, 0, 0, 0, 0, 0, 0, 0, 0, 0, 0, 0, 0, 0, 0, 0, 0, 0, 0, 0, 0, 0, 0, 0, 0, 0, 0, 0, 0, 0, 0, 0, 0, 0, 0, 0, 0, 0, 0, 0, 0, 0, 0, 0, 0, 0, 0, 0, 0, 0, 0, 0, 0, 0, 0, 0, 0, 0, 0, 0, 0, 0, 0, 0, 0, 0, 0, 0, 0, 0, 0, 0, 1, 0, 0, 0, 0, 0, 0, 0, 0, 0, 0, 0, 0, 0, 0, 0, 0, 0, 0, 0, 0, 0, 0, 0, 0, 0, 0, 0, 0, 0, 0, 0, 0, 0, 0, 0, 0, 0, 0, 0, 0, 0, 0, 0, 0, 0, 0, 0, 0, 0, 0, 0, 0, 0, 0, 0, 0, 0, 0, 0, 0, 0, 0, 0, 0, 0, 0, 0, 0, 0, 0, 0, 0, 0, 0, 0, 0, 0, 0, 0, 0, 0, 0, 0, 0, 0, 0, 0, 0, 0, 0, 0, 0, 0, 0, 0, 0, 0, 0, 0, 0, 0, 0, 0, 0, 0, 0, 0, 0, 0, 0, 0, 0, 0, 0, 0, 0, 0, 0, 0, 0, 0, 0, 0, 0, 0, 0, 0, 0, 0, 0, 0, 0, 0, 0, 0, 0, 0, 0, 0, 0, 0, 0, 0, 0, 0, 0, 0, 0, 0, 0, 0, 0, 0, 0, 0, 0, 0, 0, 0, 0, 0, 0, 0, 0, 0, 0, 0, 0, 0, 0, 0, 0, 0, 0, 0, 0, 0, 0, 0, 0, 0, 0, 0, 0, 0, 0, 0, 0, 0, 0, 0, 0, 0, 0, 0, 0, 0, 0, 0, 0, 0, 0, 0, 0, 0, 0, 0, 0, 0, 0, 0, 0, 0, 0, 0, 0, 0, 0, 0, 0, 0, 0, 0, 0, 0, 0, 0, 0, 0, 0, 0, 0, 0, 0, 0, 0, 0, 0, 0, 0, 0, 0, 0, 0, 0, 0, 0, 0, 0, 0, 0, 0, 0, 0, 0, 0, 0, 0, 0, 0, 0, 0, 0, 0, 0, 0, 0, 0, 0, 0, 0, 0, 0, 0, 0, 0, 0, 0, 0, 0, 0, 0, 0, 0, 0, 0, 0, 0, 0, 0, 0, 0, 0, 0, 0, 0, 0, 0, 0, 0, 0, 0, 0, 0, 0, 0, 0, 0, 0, 0, 0, 0, 0, 0, 0, 0, 0, 0, 0, 0, 0, 0, 0, 0, 0, 0, 0, 0, 0, 0, 0, 0, 0, 0, 0, 0, 0, 0, 0, 0, 0, 0, 0, 0, 0, 0, 0, 0, 0, 0, 0, 0, 0, 0, 0, 0, 0, 0, 0, 0, 0, 0, 0, 0, 0, 0, 0, 0, 0, 0, 0, 0, 0, 0, 0, 0, 0, 0, 0, 0, 0, 0, 0, 0, 0, 0, 0, 0, 0, 0, 0, 0, 0, 0, 0, 0, 0, 0, 0, 0, 0, 0, 0, 0, 0, 0, 0, 0, 0, 0, 0, 0, 0, 0, 0, 0, 0, 0, 0, 0, 0, 0, 0, 0, 0, 0, 0, 0, 0, 0, 0, 0, 0, 0, 0, 0, 0, 0, 0, 0, 0, 0, 0, 0, 0, 0, 0, 0, 0, 0, 0, 0, 0, 0, 0, 0, 0, 0, 0, 0, 0, 0, 0, 0, 0, 0, 0, 0, 0, 0, 0, 0, 0, 0, 0, 0, 0, 0, 0, 0, 0, 0, 0, 0, 0, 0, 0, 0, 0, 0, 0, 0, 0, 0, 0, 0, 0, 0, 0, 0, 0, 0, 0, 0, 0, 0, 0, 0, 0, 0, 0, 0, 1, 0, 0, 0, 0, 0, 0, 0, 0, 0, 0, 0, 0, 0, 0, 0, 0, 0, 0, 0, 0, 0, 0, 0, 0, 0, 0, 0, 0, 0, 0, 0, 0, 0, 0, 0, 2, 0, 0, 0, 0, 0, 0, 0, 0, 0, 0, 0, 0, 0, 0, 0, 0, 0, 0, 0, 0, 0, 0, 0, 0, 0, 0, 0, 0, 0, 0, 0, 0, 0, 0, 0, 0, 0, 0, 0, 0, 1, 0, 0, 0, 0, 0, 0, 0, 0, 0, 0, 0, 0, 0, 0, 0, 0, 0, 0, 0, 0, 0, 0, 0, 0, 0, 0, 0, 0, 0, 0, 0, 0, 0, 0, 0, 0, 0, 0, 0, 0, 0, 0, 0, 0, 0, 0, 0, 0, 0, 0, 0, 0, 0, 0, 0, 0, 0, 0, 0, 0, 0, 0, 0, 0, 0, 0, 0, 0, 0, 0, 0, 0, 0, 0, 0, 0, 0, 0, 0, 0, 0, 0, 0, 0, 0, 0, 0, 0, 0, 0, 0, 0, 0, 0, 0, 0, 0, 0, 0, 0, 0, 0, 0, 0, 0, 0, 0, 0, 0, 0, 0, 0, 0, 0, 0, 0, 0, 0, 0, 0, 0, 0, 0, 0, 0, 0, 0, 0, 0, 0, 0, 0, 0, 0, 0, 0, 0, 0, 0, 0, 0, 0, 0, 0, 0, 0, 0, 0, 0, 0, 0, 0, 0, 0, 0, 0, 0, 0, 0, 0, 0, 0, 0, 0, 0, 0, 0, 0, 0, 0, 0, 0, 0, 0, 0, 0, 0, 0, 0, 0, 0, 0, 0, 0, 0, 0, 0, 0, 0, 0, 0, 0, 0, 0, 0, 0, 0, 0, 0, 0, 0, 0, 0, 0, 0, 0, 0, 0, 0, 0, 0, 0, 0, 0, 0, 0, 0, 0, 0, 0, 0, 0, 0, 0, 0, 0, 0, 0, 0, 0, 0, 0, 0, 0, 0, 0, 0, 0, 0, 0, 0, 0, 0, 0, 0, 0, 0, 0, 0, 0, 0, 0, 0, 0, 0, 0, 0, 0, 0, 0, 0, 0, 0, 0, 0, 0, 0, 0, 0, 0, 0, 0, 0, 0, 0, 0, 0, 0, 0, 0, 0, 0, 0, 0, 0, 0, 0, 0, 0, 0, 0, 0, 0, 0, 0, 0, 0, 0, 0, 0, 0, 0, 0, 0, 0, 0, 0, 0, 0, 0, 0, 0, 0, 0, 0, 0, 0, 0, 0, 0, 0, 0, 0, 0, 0, 0, 0, 0, 0, 0, 0, 0, 0, 0, 0, 0, 0, 0, 0, 0, 0, 0, 0, 0, 0, 0, 0, 0, 0, 0, 0, 0, 0, 0, 0, 0, 0, 0, 0, 0, 0, 0, 0, 0, 0, 0, 0, 0, 0, 0, 0, 0, 0, 0, 0, 0, 0, 0, 0, 0, 0, 0, 0, 0, 0, 0, 0, 0, 0, 0, 0, 0, 0, 0, 0, 0, 0, 0, 0, 0, 0, 0, 0, 0, 0, 0, 0, 0, 0, 0, 0, 0, 0, 0, 0, 0, 0, 0, 0, 0, 0, 0, 0, 0, 0, 0, 0, 0, 0, 0, 0, 0, 0, 0, 0, 0, 0, 0, 0, 0, 0, 0, 0, 0, 0, 0, 0, 0, 0, 0, 0, 0, 0, 0, 0, 0, 0, 0, 0, 0, 0, 0, 0, 0, 0, 0, 0, 0, 0, 0, 0, 0, 0, 0, 0, 0, 0, 0, 0, 0, 0, 0, 0, 0, 0, 0, 0, 0, 0, 0, 0, 0, 0, 0, 0, 0, 0, 1, 0, 0, 0, 0, 0, 0, 0, 0, 0, 0, 0, 0, 0, 0, 0, 0, 0, 0, 0, 0, 0, 0, 0, 0, 0, 0, 0, 0, 0, 0, 0, 0, 0, 0, 0, 0, 0, 0, 0, 0, 0, 0, 0, 0, 0, 0, 0, 0, 0, 0, 0, 0, 0, 0, 0, 0, 0, 0, 0, 0, 0, 0, 0, 0, 0, 0, 0, 0, 0, 0, 0, 0, 0, 0, 0, 0, 0, 0, 0, 0, 0, 0, 0, 0, 0, 0, 0, 0, 0, 0, 0, 0, 0, 0, 0, 0, 0, 0, 0, 0, 0, 0, 0, 0, 0, 0, 0, 0, 0, 0, 2, 0, 0, 0, 0, 0, 0, 0, 0, 0, 0, 0, 0, 0, 0, 0, 0, 0, 0, 0, 0, 0, 0, 0, 0, 0, 0, 0, 0, 0, 0, 0, 0, 0, 0, 0, 0, 0, 0, 0, 0, 0, 0, 0, 0, 0, 0, 0, 0, 0, 0, 0, 0, 0, 0, 0, 0, 0, 0, 0, 0, 0, 0, 0, 0, 0, 0, 0, 0, 0, 0, 0, 0, 0, 0, 0, 0, 0, 0, 0, 0, 0, 0, 0, 0, 0, 0, 0, 0, 0, 0, 0, 0, 0, 0, 0, 0, 0, 0, 0, 0, 0, 0, 0, 0, 0, 0, 0, 0, 0, 0, 0, 0, 0, 0, 0, 0, 0, 0, 0, 0, 0, 0, 0, 0, 0, 0, 0, 0, 0, 0, 0, 0, 0, 0, 0, 0, 0, 0, 0, 0, 0, 0, 0, 0, 0, 0, 0, 0, 0, 0, 0, 0, 0, 0, 0, 0, 0, 0, 0, 0, 0, 0, 0, 0, 0, 0, 0, 0, 0, 0, 0, 0, 0, 0, 0, 0, 0, 0, 0, 0, 0, 0, 0, 0, 0, 0, 0, 0, 0, 0, 0, 0, 0, 0, 0, 0, 0, 0, 0, 0, 0, 0, 0, 0, 0, 0, 0, 0, 0, 0, 0, 0, 0, 0, 0, 0, 0, 0, 0, 0, 0, 0, 0, 0, 0, 0, 0, 0, 0, 0, 0, 0, 0, 0, 0, 0, 0, 0, 0, 0, 0, 0, 0, 0, 0, 0, 0, 0, 0, 0, 0, 0, 0, 0, 0, 0, 0, 0, 0, 0, 0, 0, 0, 0, 0, 0, 0, 0, 0, 0, 0, 0, 0, 0, 0, 0, 0, 0, 0, 0, 0, 0, 0, 0, 0, 0, 0, 0, 0, 0, 0, 0, 0, 0, 0, 0, 0, 0, 0, 0, 0, 0, 0, 0, 0, 0, 0, 0, 0, 0, 0, 0, 0, 0, 0, 0, 0, 0, 0, 0, 0, 0, 0, 0, 0, 0, 0, 0, 0, 0, 0, 0, 0, 0, 0, 0, 0, 0, 0, 0, 0, 0, 0, 0, 0, 0, 0, 0, 0, 0, 0, 0, 0, 0, 0, 0, 0, 0, 0, 0, 0, 0, 0, 0, 0, 0, 0, 0, 0, 0, 0, 0, 0, 0, 0, 0, 0, 0, 0, 0, 0, 0, 0, 0, 0, 0, 0, 0, 0, 0, 0, 0, 0, 0, 0, 0, 0, 0, 0, 0, 0, 0, 0, 0, 0, 0, 0, 0, 0, 0, 0, 0, 0, 0, 0, 0, 0, 0, 0, 0, 0, 0, 0, 0, 0, 0, 0, 0, 0, 0, 0, 0, 0, 0, 0, 0, 0, 0, 0, 0, 0, 0, 0, 0, 0, 0, 0, 0, 0, 0, 0, 0, 0, 0, 0, 0, 0, 0, 0, 0, 0, 0, 0, 0, 0, 0, 0, 0, 0, 0, 0, 0, 0, 0, 0, 0, 0, 0, 0, 0, 0, 0, 0, 0, 0, 0, 0, 0, 0, 0, 0, 0, 0, 0, 0, 0, 0, 0, 0, 0, 0, 0, 0, 0, 0, 0, 0, 0, 0, 0, 0, 0, 0, 0, 0, 0, 0, 0, 0, 0, 0, 0, 0, 0, 0, 0, 0, 0, 0, 0, 0, 0, 0, 0, 0, 0, 0, 0, 0, 0, 0, 0, 0, 0, 0, 0, 0, 0, 0, 0, 0, 0, 0, 0, 0, 0, 0, 0, 0, 0, 0, 0, 0, 0, 0, 0, 0, 0, 0, 0, 0, 0, 0, 0, 0, 0, 0, 0, 0, 0, 0, 0, 0, 0, 0, 0, 0, 0, 0, 0, 0, 0, 0, 0, 0, 0, 0, 0, 0, 0, 0, 0, 0, 0, 0, 0, 0, 0, 0, 0, 0, 0, 0, 0, 0, 0, 0, 0, 0, 0, 0, 0, 0, 0, 0, 0, 0, 0, 0, 0, 0, 0, 0, 0, 0, 0, 0, 0, 0, 0, 0, 0, 0, 0, 0, 0, 0, 0, 0, 0, 0, 0, 0, 0, 0, 0, 0, 0, 0, 0, 0, 0, 0, 0, 0, 0, 0, 0, 0, 0, 0, 0, 0, 0, 0, 0, 0, 0, 0, 0, 0, 0, 0, 0, 0, 0, 0, 0, 0, 0, 1, 0, 0, 0, 0, 0, 0, 0, 0, 0, 0, 0, 0, 0, 0, 0, 0, 0, 0, 0, 0, 0, 0, 0, 0, 0, 0, 0, 0, 0, 0, 0, 0, 0, 0, 0, 0, 0, 0, 0, 0, 0, 0, 0, 0, 0, 0, 0, 0, 0, 0, 0, 0, 0, 0, 0, 0, 0, 0, 0, 0, 0, 0, 0, 0, 0, 0, 0, 0, 0, 0, 0, 0, 0, 0, 0, 0, 0, 0, 0, 0, 0, 0, 0, 0, 0, 0, 0, 0, 0, 0, 0, 0, 0, 0, 0, 0, 0, 0, 0, 0, 0, 0, 0, 0, 0, 0, 0, 1, 0, 0, 0, 0, 0, 0, 0, 0, 0, 0, 0, 0, 0, 0, 0, 0, 0, 0, 0, 0, 0, 0, 0, 0, 0, 0, 0, 0, 0, 0, 0, 0, 0, 0, 0, 0, 0, 0, 0, 0, 0, 0, 0, 0, 0, 0, 0, 0, 0, 0, 0, 0, 0, 0, 0, 0, 0, 0, 0, 0, 0, 0, 0, 0, 0, 0, 0, 0, 0, 0, 0, 0, 0, 0, 0, 0, 0, 0, 0, 0, 0, 0, 0, 0, 0, 0, 0, 0, 0, 0, 0, 0, 0, 0, 0, 0, 0, 0, 0, 0, 0, 0, 0, 0, 0, 0, 0, 0, 0, 0, 0, 0, 0, 0, 0, 0, 0, 0, 0, 0, 0, 0, 0, 0, 0, 0, 0, 0, 0, 0, 0, 0, 0, 0, 0, 0, 0, 0, 0, 0, 0, 0, 0, 0, 0, 0, 0, 0, 0, 0, 0, 0, 0, 0, 0, 0, 0, 0, 0, 0, 0, 0, 0, 0, 0, 0, 0, 0, 0, 0, 0, 0, 0, 0, 0, 0, 0, 0, 0, 0, 0, 0, 0, 0, 0, 0, 0, 0, 0, 0, 0, 0, 0, 0, 0, 0, 0, 0, 0, 0, 0, 0, 0, 0, 0, 0, 0, 0, 0, 0, 0, 0, 0, 0, 0, 0, 0, 0, 0, 0, 0, 0, 0, 0, 0, 0, 0, 0, 0, 0, 0, 0, 0, 0, 0, 0, 0, 0, 0, 0, 0, 0, 0, 0, 0, 0, 0, 0, 0, 0, 0, 0, 0, 0, 0, 0, 0, 0, 0, 0, 0, 0, 0, 0, 0, 0, 0, 0, 0, 0, 0, 0, 0, 0, 0, 0, 0, 0, 0, 0, 0, 0, 0, 0, 0, 0, 0, 0, 0, 0, 0, 0, 0, 0, 0, 0, 0, 0, 0, 0, 0, 0, 0, 0, 0, 0, 0, 0, 0, 0, 0, 0, 0, 0, 0, 0, 0, 0, 0, 0, 0, 0, 0, 0, 0, 0, 0, 0, 0, 0, 0, 0, 0, 0, 0, 0, 0, 0, 0, 0, 0, 0, 0, 0, 0, 0, 0, 0, 0, 0, 0, 0, 0, 0, 0, 0, 0, 0, 0, 0, 0, 0, 0, 0, 0, 0, 0, 0, 0, 0, 0, 0, 0, 0, 0, 0, 0, 0, 0, 0, 0, 0, 0, 0, 0, 0, 0, 0, 0, 0, 0, 0, 0, 0, 0, 0, 0, 0, 0, 0, 0, 0, 0, 0, 0, 0, 0, 0, 0, 0, 0, 0, 0, 0, 0, 0, 0, 0, 0, 0, 0, 0, 0, 0, 0, 0, 0, 0, 0, 0, 0, 0, 0, 0, 0, 0, 0, 0, 0, 0, 0, 0, 0, 0, 0, 0, 0, 0, 0, 0, 0, 0, 0, 0, 0, 0, 0, 0, 0, 0, 0, 0, 0, 2, 0, 1, 0], type: <class 'list'>, valid types: <class 'bytes'>, <class 'bytearray'>, file-like object"
     ]
    }
   ],
   "source": [
    "response = runtime.invoke_endpoint(EndpointName = xgb_predictor.endpoint, # The name of the endpoint we created\n",
    "                                       ContentType = 'text/csv',                     # The data format that is expected\n",
    "                                       Body = test_bow)"
   ]
  },
  {
   "cell_type": "markdown",
   "metadata": {},
   "source": [
    "So why did we get an error?\n",
    "\n",
    "Because we tried to send the endpoint a list of integers but it expected us to send data of type `text/csv`. So, we need to convert it."
   ]
  },
  {
   "cell_type": "code",
   "execution_count": 45,
   "metadata": {},
   "outputs": [],
   "source": [
    "response = runtime.invoke_endpoint(EndpointName = xgb_predictor.endpoint, # The name of the endpoint we created\n",
    "                                       ContentType = 'text/csv',                     # The data format that is expected\n",
    "                                       Body = ','.join([str(val) for val in test_bow]).encode('utf-8'))"
   ]
  },
  {
   "cell_type": "code",
   "execution_count": 46,
   "metadata": {},
   "outputs": [
    {
     "name": "stdout",
     "output_type": "stream",
     "text": [
      "{'ResponseMetadata': {'RequestId': '442ca2e3-8c9b-411b-b4c2-cd10124bfc48', 'HTTPStatusCode': 200, 'HTTPHeaders': {'x-amzn-requestid': '442ca2e3-8c9b-411b-b4c2-cd10124bfc48', 'x-amzn-invoked-production-variant': 'AllTraffic', 'date': 'Thu, 18 Jun 2020 12:01:21 GMT', 'content-type': 'text/csv; charset=utf-8', 'content-length': '14'}, 'RetryAttempts': 0}, 'ContentType': 'text/csv; charset=utf-8', 'InvokedProductionVariant': 'AllTraffic', 'Body': <botocore.response.StreamingBody object at 0x7fda140c7a20>}\n"
     ]
    }
   ],
   "source": [
    "print(response)"
   ]
  },
  {
   "cell_type": "markdown",
   "metadata": {},
   "source": [
    "As we can see, the response from our model is a somewhat complicated looking dict that contains a bunch of information. The bit that we are most interested in is `'Body'` object which is a streaming object that we need to `read` in order to make use of."
   ]
  },
  {
   "cell_type": "code",
   "execution_count": 47,
   "metadata": {},
   "outputs": [
    {
     "name": "stdout",
     "output_type": "stream",
     "text": [
      "0.515921056271\n"
     ]
    }
   ],
   "source": [
    "response = response['Body'].read().decode('utf-8')\n",
    "print(response)"
   ]
  },
  {
   "cell_type": "markdown",
   "metadata": {},
   "source": [
    "Now that we know how to process the incoming user data we can start setting up the infrastructure to make our simple web app work. To do this we will make use of two different services. Amazon's Lambda and API Gateway services.\n",
    "\n",
    "Lambda is a service which allows someone to write some relatively simple code and have it executed whenever a chosen trigger occurs. For example, you may want to update a database whenever new data is uploaded to a folder stored on S3.\n",
    "\n",
    "API Gateway is a service that allows you to create HTTP endpoints (url addresses) which are connected to other AWS services. One of the benefits to this is that you get to decide what credentials, if any, are required to access these endpoints.\n",
    "\n",
    "In our case we are going to set up an HTTP endpoint through API Gateway which is open to the public. Then, whenever anyone sends data to our public endpoint we will trigger a Lambda function which will send the input (in our case a review) to our model's endpoint and then return the result."
   ]
  },
  {
   "cell_type": "markdown",
   "metadata": {},
   "source": [
    "### Setting up a Lambda function\n",
    "\n",
    "The first thing we are going to do is set up a Lambda function. This Lambda function will be executed whenever our public API has data sent to it. When it is executed it will receive the data, perform any sort of processing that is required, send the data (the review) to the SageMaker endpoint we've created and then return the result.\n",
    "\n",
    "#### Part A: Create an IAM Role for the Lambda function\n",
    "\n",
    "Since we want the Lambda function to call a SageMaker endpoint, we need to make sure that it has permission to do so. To do this, we will construct a role that we can later give the Lambda function.\n",
    "\n",
    "Using the AWS Console, navigate to the **IAM** page and click on **Roles**. Then, click on **Create role**. Make sure that the **AWS service** is the type of trusted entity selected and choose **Lambda** as the service that will use this role, then click **Next: Permissions**.\n",
    "\n",
    "In the search box type `sagemaker` and select the check box next to the **AmazonSageMakerFullAccess** policy. Then, click on **Next: Review**.\n",
    "\n",
    "Lastly, give this role a name. Make sure you use a name that you will remember later on, for example `LambdaSageMakerRole`. Then, click on **Create role**."
   ]
  },
  {
   "cell_type": "markdown",
   "metadata": {},
   "source": [
    "#### Part B: Create a Lambda function\n",
    "\n",
    "Now it is time to actually create the Lambda function. Remember from earlier that in order to process the user provided input and send it to our endpoint we need to gather two pieces of information:\n",
    "\n",
    " - The name of the endpoint, and\n",
    " - the vocabulary object.\n",
    "\n",
    "We will copy these pieces of information to our Lambda function after we create it.\n",
    "\n",
    "To start, using the AWS Console, navigate to the AWS Lambda page and click on **Create a function**. When you get to the next page, make sure that **Author from scratch** is selected. Now, name your Lambda function, using a name that you will remember later on, for example `sentiment_analysis_xgboost_func`. Make sure that the **Python 3.6** runtime is selected and then choose the role that you created in the previous part. Then, click on **Create Function**.\n",
    "\n",
    "On the next page you will see some information about the Lambda function you've just created. If you scroll down you should see an editor in which you can write the code that will be executed when your Lambda function is triggered. Collecting the code we wrote above to process a single review and adding it to the provided example `lambda_handler` we arrive at the following.\n",
    "\n",
    "```python\n",
    "# We need to use the low-level library to interact with SageMaker since the SageMaker API\n",
    "# is not available natively through Lambda.\n",
    "import boto3\n",
    "\n",
    "# And we need the regular expression library to do some of the data processing\n",
    "import re\n",
    "\n",
    "REPLACE_NO_SPACE = re.compile(\"(\\.)|(\\;)|(\\:)|(\\!)|(\\')|(\\?)|(\\,)|(\\\")|(\\()|(\\))|(\\[)|(\\])\")\n",
    "REPLACE_WITH_SPACE = re.compile(\"(<br\\s*/><br\\s*/>)|(\\-)|(\\/)\")\n",
    "\n",
    "def review_to_words(review):\n",
    "    words = REPLACE_NO_SPACE.sub(\"\", review.lower())\n",
    "    words = REPLACE_WITH_SPACE.sub(\" \", words)\n",
    "    return words\n",
    "    \n",
    "def bow_encoding(words, vocabulary):\n",
    "    bow = [0] * len(vocabulary) # Start by setting the count for each word in the vocabulary to zero.\n",
    "    for word in words.split():  # For each word in the string\n",
    "        if word in vocabulary:  # If the word is one that occurs in the vocabulary, increase its count.\n",
    "            bow[vocabulary[word]] += 1\n",
    "    return bow\n",
    "\n",
    "\n",
    "def lambda_handler(event, context):\n",
    "    \n",
    "    vocab = \"*** ACTUAL VOCABULARY GOES HERE ***\"\n",
    "    \n",
    "    words = review_to_words(event['body'])\n",
    "    bow = bow_encoding(words, vocab)\n",
    "\n",
    "    # The SageMaker runtime is what allows us to invoke the endpoint that we've created.\n",
    "    runtime = boto3.Session().client('sagemaker-runtime')\n",
    "\n",
    "    # Now we use the SageMaker runtime to invoke our endpoint, sending the review we were given\n",
    "    response = runtime.invoke_endpoint(EndpointName = '***ENDPOINT NAME HERE***',# The name of the endpoint we created\n",
    "                                       ContentType = 'text/csv',                 # The data format that is expected\n",
    "                                       Body = ','.join([str(val) for val in bow]).encode('utf-8')) # The actual review\n",
    "\n",
    "    # The response is an HTTP response whose body contains the result of our inference\n",
    "    result = response['Body'].read().decode('utf-8')\n",
    "    \n",
    "    # Round the result so that our web app only gets '1' or '0' as a response.\n",
    "    result = round(float(result))\n",
    "\n",
    "    return {\n",
    "        'statusCode' : 200,\n",
    "        'headers' : { 'Content-Type' : 'text/plain', 'Access-Control-Allow-Origin' : '*' },\n",
    "        'body' : str(result)\n",
    "    }\n",
    "```"
   ]
  },
  {
   "cell_type": "markdown",
   "metadata": {},
   "source": [
    "Once you have copy and pasted the code above into the Lambda code editor, replace the `**ENDPOINT NAME HERE**` portion with the name of the endpoint that we deployed earlier. You can determine the name of the endpoint using the code cell below."
   ]
  },
  {
   "cell_type": "code",
   "execution_count": 48,
   "metadata": {},
   "outputs": [
    {
     "data": {
      "text/plain": [
       "'xgboost-2020-06-18-11-24-18-946'"
      ]
     },
     "execution_count": 48,
     "metadata": {},
     "output_type": "execute_result"
    }
   ],
   "source": [
    "xgb_predictor.endpoint"
   ]
  },
  {
   "cell_type": "markdown",
   "metadata": {},
   "source": [
    "In addition, you will need to copy the vocabulary dict to the appropriate place in the code at the beginning of the `lambda_handler` method. The cell below prints out the vocabulary dict in a way that is easy to copy and paste."
   ]
  },
  {
   "cell_type": "code",
   "execution_count": 49,
   "metadata": {},
   "outputs": [
    {
     "name": "stdout",
     "output_type": "stream",
     "text": [
      "{'watched': 4813, 'this': 4457, 'film': 1716, 'because': 432, 'noticed': 3049, 'that': 4424, 'it': 2366, 'had': 2003, 'in': 2257, 'the': 4426, 'cast': 710, 'have': 2052, 'long': 2644, 'theory': 4437, 'about': 67, 'her': 2085, 'she': 3923, 'is': 2360, 'talented': 4355, 'actress': 105, 'but': 636, 'never': 3001, 'seems': 3864, 'to': 4507, 'get': 1899, 'prove': 3445, 'always': 203, 'sort': 4077, 'of': 3083, 'low': 2676, 'budget': 610, 'movie': 2926, 'still': 4188, 'beautiful': 428, 'and': 226, 'trying': 4601, 'act': 97, 'over': 3148, 'unfortunate': 4653, 'material': 2766, 'see': 3855, 'no': 3020, 'different': 1248, 'often': 3095, 'ugly': 4625, 'disturbing': 1300, 'doesnt': 1309, 'make': 2713, 'good': 1937, 'george': 1893, 'played': 3297, 'against': 147, 'type': 4621, 'was': 4805, 'so': 4046, 'he': 2056, 'gets': 1900, 'recognition': 3568, 'for': 1784, 'his': 2118, 'role': 3726, 'another': 250, 'note': 3044, 'ms': 2931, 'breasts': 572, 'seem': 3861, 'since': 3990, 'saw': 3798, 'last': 2521, 'perhaps': 3235, 'or': 3124, 'more': 2904, 'likely': 2601, 'not': 3040, 'bad': 382, 'thing': 4450, 'looks': 2649, 'great': 1964, 'would': 4957, 'like': 2599, 'better': 472, 'predictable': 3367, 'then': 4436, 'pass': 3201, 'when': 4862, 'ball': 388, 'one': 3107, 'ending': 1471, 'coming': 896, 'up': 4683, 'halfway': 2008, 'through': 4477, 'politics': 3326, 'reminds': 3620, 'me': 2778, 'back': 378, 'east': 1407, 'many': 2732, 'people': 3221, 'know': 2489, 'fix': 1744, 'gave': 1875, 'four': 1812, 'acting': 99, 'story': 4207, 'lame': 2510, 'worst': 4952, 'could': 1007, 'happen': 2026, 'classic': 835, 'characters': 760, 'created': 1037, 'by': 642, 'chuck': 812, 'jones': 2418, 'tunes': 4603, 'spin': 4112, 'versions': 4721, 'some': 4061, 'were': 4848, 'others': 3136, 'very': 4723, 'much': 2934, 'its': 2370, 'concept': 930, 'stupid': 4247, 'shows': 3960, 'as': 311, 'power': 3359, 'rangers': 3517, 'teen': 4388, 'there': 4438, 'wasnt': 4807, 'any': 256, 'with': 4911, 'original': 3129, 'stories': 4205, 'are': 285, 'boring': 543, 'poorly': 3329, 'made': 2697, 'new': 3003, 'designs': 1204, 'animation': 242, 'pathetic': 3210, 'show': 3953, 'just': 2437, 'work': 4940, 'horrible': 2163, 'waste': 4808, 'complete': 921, 'failure': 1629, 'shouldnt': 3952, 'be': 418, 'nothing': 3047, 'than': 4420, 'joke': 2414, 'zero': 4996, 'stars': 4155, 'excellent': 1555, 'top': 4525, 'similar': 3978, 'parts': 3199, 'other': 3135, 'films': 1721, 'such': 4268, 'man': 2721, 'on': 3105, 'alan': 171, 'nearly': 2981, 'non': 3027, 'existent': 1572, 'certainly': 738, 'mild': 2839, 'spoiler': 4123, 'ahead': 159, 'wonder': 4926, 'how': 2181, 'times': 4497, 'cook': 988, 'got': 1944, 'recall': 3562, 'various': 4715, 'examples': 1554, 'will': 4886, 'avoid': 363, 'murderer': 2941, 'think': 4452, 'necessarily': 2983, 'obvious': 3071, 'plot': 3309, 'thriller': 4472, 'demands': 1175, 'well': 4843, 'done': 1322, 'dated': 1119, 'example': 1553, 'everyone': 1542, 'crazy': 1035, 'police': 3322, 'really': 3556, 'stock': 4193, 'dead': 1132, 'bodies': 526, 'ever': 1538, 'shown': 3959, 'unlike': 4670, 'todays': 4509, 'gore': 1941, 'familiar': 1643, 'short': 3946, 'scene': 3809, 'format': 1799, 'period': 3236, 'out': 3141, '10': 0, 'my': 2951, 'friends': 1837, 'mom': 2885, 'used': 4693, 'at': 331, 'video': 4733, 'store': 4204, 'preview': 3386, 'movies': 2927, 'before': 440, 'they': 4442, 'came': 656, 'brought': 600, 'home': 2142, 'horror': 2168, 'couldnt': 1008, 'wait': 4770, 'watch': 4811, 'given': 1913, 'supposed': 4306, 'scary': 3807, 'actually': 109, 'downright': 1337, 'hilarious': 2106, 'can': 665, 'say': 3799, 'weird': 4841, 'way': 4820, 'yes': 4982, 'ive': 2372, 'seen': 3865, 'damn': 1100, 'funny': 1852, 'what': 4858, 'you': 4986, 'smoking': 4040, 'didnt': 1242, 'even': 1533, 'released': 3603, 'figured': 1712, 'too': 4522, 'yeah': 4977, 'overall': 3150, 'pretty': 3384, 'gotta': 1946, 'admit': 122, 'least': 2554, 'promise': 3430, 'laugh': 2529, 'kinda': 2477, 'sucks': 4271, 'especially': 1520, 'guy': 2000, 'holds': 2131, 'despair': 1207, 'color': 877, 'purple': 3473, 'struggles': 4235, 'life': 2592, 'love': 2669, 'helps': 2082, 'those': 4460, 'strongly': 4231, 'affected': 137, 'every': 1539, 'character': 758, 'an': 223, 'element': 1442, 'them': 4432, 'touches': 4535, 'lost': 2660, 'hope': 2155, 'hate': 2046, 'triumph': 4590, 'whether': 4866, 'having': 2054, 'lived': 2626, 'hell': 2077, 'losing': 2658, 'sister': 4001, 'into': 2332, 'again': 146, 'albert': 174, 'being': 448, 'wrong': 4973, 'toward': 4539, 'father': 1666, 'him': 2110, 'end': 1468, 'their': 4431, 'overcome': 3151, 'thats': 4425, 'sign': 3970, 'job': 2405, 'all': 187, 'crew': 1053, 'barbara': 397, 'stanwyck': 4149, 'happened': 2027, 'night': 3013, 'fantastic': 1651, 'probably': 3407, 'double': 1331, 'kept': 2456, 'edge': 1418, 'seat': 3845, 'plays': 3301, 'helen': 2075, 'who': 4871, 'husband': 2204, 'barry': 401, 'sullivan': 4288, 'son': 4070, 'lee': 2559, 'drive': 1363, 'isolated': 2363, 'spot': 4131, 'mexico': 2827, 'vacation': 4704, 'has': 2043, 'fall': 1637, 'from': 1840, 'only': 3110, 'saved': 3795, 'if': 2222, 'drives': 1367, 'while': 4868, 'runs': 3757, 'psychotic': 3459, 'killer': 2470, 'ralph': 3510, 'follows': 1775, 'game': 1864, 'cat': 713, 'mouse': 2919, 'tries': 4585, 'everything': 1544, 'come': 886, 'free': 1827, 'suspenseful': 4331, 'surprise': 4312, 'expecting': 1578, 'suppose': 4305, 'should': 3951, 'realized': 3553, 'anything': 260, 'does': 1308, 'less': 2575, 'wonderful': 4928, 'oscar': 3133, 'academy': 77, 'awards': 367, 'festival': 1697, 'flick': 1754, 'win': 4892, 'gods': 1928, 'extreme': 1609, 'special': 4097, 'effects': 1431, 'extremely': 1610, 'skills': 4014, 'course': 1019, 'celebrity': 729, 'scenario': 3808, 'world': 4946, 'instead': 2307, 'actors': 104, 'read': 3543, 'scripts': 3836, 'also': 199, 'devil': 1228, 'costume': 1005, 'which': 4867, 'must': 2950, 'something': 4066, 'most': 2909, 'whenever': 4863, 'red': 3576, 'black': 493, 'called': 652, 'monster': 2892, 'screen': 3829, 'hold': 2129, 'things': 4451, 'looked': 2647, 'creature': 1045, 'do': 1302, 'same': 3778, 'mistake': 2871, 'did': 1241, 'checking': 778, 'imdb': 2240, 'seeing': 3857, '2003': 33, 'five': 1743, 'thinking': 4453, 'worth': 4953, 'shot': 3949, 'cant': 671, 'im': 2232, 'going': 1931, 'words': 4938, 'goes': 1930, 'mad': 2696, 'visit': 4755, 'bands': 392, 'two': 4620, 'stay': 4166, 'large': 2517, 'building': 615, 'wind': 4893, 'meeting': 2794, 'wife': 4884, 'public': 3460, 'mother': 2911, 'six': 4010, 'children': 792, 'radio': 3504, 'whos': 4876, 'been': 438, 'fired': 1735, 'both': 547, 'need': 2987, 'company': 910, 'understanding': 4645, 'find': 1726, 'each': 1395, 'covers': 1024, 'few': 1700, 'hours': 2177, 'takes': 4351, 'place': 3282, 'sound': 4081, 'track': 4544, 'military': 2844, 'hysterical': 2208, 'strangely': 4212, 'enough': 1491, 'nazi': 2977, 'ends': 1474, 'becoming': 435, 'romantic': 3733, 'musical': 2947, 'theme': 4433, 'era': 1513, 'italian': 2367, 'history': 2121, 'touching': 4536, 'sad': 3767, 'we': 4823, 'expect': 1575, 'superb': 4296, 'far': 1653, 'away': 369, 'usual': 4699, 'truck': 4595, 'dont': 1324, 'miss': 2866, 'although': 201, 'may': 2775, 'call': 651, 'cinema': 816, 'closer': 856, 'green': 1971, 'valley': 4707, 'memory': 2804, 'innocence': 2293, 'falling': 1639, 'political': 3324, 'trap': 4563, 'taking': 4352, 'sides': 3967, 'pro': 3406, 'anti': 254, 'focusing': 1769, 'human': 2188, 'importance': 2246, 'family': 1645, 'filled': 1715, 'particular': 3194, 'mexican': 2826, 'diana': 1237, 'masterpiece': 2759, 'references': 3583, 'city': 825, 'lights': 2597, 'small': 4033, 'critical': 1062, 'dramatic': 1348, 'tv': 4610, 'director': 1264, 'brown': 601, 'rare': 3523, 'return': 3665, 'remember': 3616, 'homeless': 2143, 'acts': 107, 'greek': 1970, 'chorus': 803, 'superbly': 4297, 'pity': 3281, 'originally': 3131, 'titled': 4505, 'julia': 2427, 'states': 4163, 'atrocious': 335, 'title': 4504, 'blood': 512, 'fellow': 1691, 'christians': 809, 'disappointment': 1275, 'these': 4441, 'believe': 454, 'totally': 4532, 'time': 4495, 'paid': 3169, 'church': 813, 'hollywood': 2137, 'spend': 4105, 'our': 3139, 'money': 2888, 'real': 3547, 'christian': 808, 'school': 3813, 'wrote': 4974, 'directed': 1259, 'apparently': 270, 'reason': 3557, 'simply': 3986, 'minimum': 2856, 'amount': 219, 'needed': 2988, 'look': 2646, 'without': 4913, 'knowing': 2490, 'background': 380, 'heard': 2062, 'idea': 2213, 'football': 1783, 'disappointed': 1273, 'lousy': 2667, 'editing': 1421, 'script': 3834, 'resolution': 3649, 'after': 143, 'climax': 849, 'worry': 4950, 'cheap': 774, 'earned': 1401, 'respect': 3652, 'isnt': 2362, 'making': 2718, 'product': 3418, 'writer': 4968, 'god': 1926, 'want': 4788, 'wanted': 4789, 'faith': 1633, 'changes': 751, 'lives': 2628, 'true': 4596, 'however': 2183, 'change': 749, 'raise': 3507, 'car': 680, 'old': 3100, 'house': 2178, 'why': 4878, 'portray': 3340, 'voiced': 4762, 'concern': 931, 'matter': 2769, 'nor': 3032, 'landscape': 2513, 'shots': 3950, 'awesome': 371, 'writing': 4971, 'directing': 1260, 'weak': 4824, 'easy': 1410, 'development': 1225, 'pregnant': 3369, 'until': 4680, 'player': 3298, 'potential': 3355, 'interesting': 2325, 'bits': 490, 'play': 3296, 'ill': 2228, 'kick': 2460, 'winning': 4898, 'field': 1704, 'goal': 1925, 'though': 4461, 'kicked': 2461, 'problem': 3408, 'itself': 2371, 'worked': 4941, 'schools': 3814, 'went': 4847, 'myself': 2953, 'close': 853, 'ten': 4399, 'ones': 3108, 'none': 3028, 'problems': 3409, 'surreal': 4317, 'wished': 4905, 'factor': 1622, 'nice': 3008, 'reality': 3551, 'either': 1438, 'written': 4972, 'drawn': 1351, 'artists': 309, 'view': 4736, 'consists': 955, 'right': 3696, 'games': 1865, 'cars': 702, 'within': 4912, 'due': 1382, 'kid': 2464, 'weapon': 4828, 'cool': 989, 'bit': 488, 'dumb': 1385, 'using': 4698, 'light': 2595, 'knife': 2487, 'kill': 2468, 'solid': 4057, 'means': 2783, 'off': 3084, 'scale': 3802, 'incomprehensible': 2267, 'whole': 4873, 'around': 297, 'aliens': 184, 'kids': 2467, 'dude': 1381, 'alien': 183, 'encounter': 1466, 'flash': 1745, 'years': 4979, 'later': 2525, 'mix': 2876, 'animals': 240, 'explored': 1595, 'proceeds': 3411, 'use': 4692, 'go': 1924, 'killing': 2472, 'seriously': 3892, 'death': 1141, 'scenes': 3811, 'encounters': 1467, 'yourself': 4993, 'star': 4150, 'wars': 4804, 'amy': 222, 'funnier': 1850, 'hopefully': 2157, 'holiday': 2134, 'embarrassment': 1455, 'cliché': 844, 'beginning': 443, 'clichés': 846, 'rather': 3528, 'ideas': 2215, 'uses': 4697, 'actresses': 106, 'develop': 1222, 'rubbish': 3748, 'now': 3054, 'lines': 2612, 'text': 4419, 'comment': 898, 'manager': 2724, 'sloppy': 4030, 'incredible': 2269, 'melting': 2799, 'extended': 1604, 'episode': 1507, 'million': 2847, 'dollar': 1314, 'violence': 4747, 'nudity': 3059, 'found': 1811, 'impossible': 2249, 'kind': 2476, 'best': 469, '30': 42, 'year': 4978, '50': 51, 'quite': 3495, 'reasonably': 3559, 'impressive': 2253, 'inventive': 2341, 'involving': 2349, 'music': 2946, 'insane': 2296, 'cheese': 780, 'nonsense': 3030, 'notable': 3041, 'highlights': 2104, 'slow': 4031, 'motion': 2913, 'nurse': 3063, 'jumps': 2432, 'glass': 1917, 'absolutely': 72, 'whatsoever': 4861, 'amazed': 208, 'day': 1129, 'head': 2057, 'steve': 4181, 'hero': 2088, 'break': 569, 'hunting': 2201, 'complain': 919, 'kitchen': 2485, '70s': 56, 'trashy': 4566, 'thought': 4462, 'lot': 2661, 'fun': 1848, 'worse': 4951, 'score': 3822, 'along': 195, 'brando': 566, 'performance': 3228, 'id': 2212, 'fans': 1650, 'ought': 3138, 'looking': 2648, 'orson': 3132, 'welles': 4844, 'own': 3158, 'local': 2634, 'prison': 3401, 'america': 212, 'rural': 3758, 'setting': 3900, 'usually': 4700, 'area': 286, 'gives': 1914, 'charge': 761, 'unfortunately': 4654, 'twin': 4615, 'otherwise': 3137, 'known': 2492, 'daughters': 1122, 'pair': 3176, 'losers': 2656, 'charlie': 765, 'thomas': 4458, 'hearts': 2066, 'belong': 459, 'daddy': 1096, 'fear': 1676, 'willing': 4889, 'give': 1912, 'jobs': 2406, 'where': 4864, 'under': 4639, 'commit': 904, 'robbery': 3711, 'train': 4556, 'carrying': 701, 'burned': 626, 'moments': 2887, 'humor': 2192, 'beneath': 464, 'talents': 4356, 'involved': 2346, 'include': 2261, 'donald': 1321, 'sutherland': 4333, 'equally': 1510, 'corrupt': 1001, 'judge': 2424, 'straight': 4210, 'fbi': 1675, 'agent': 150, 'rest': 3657, 'someone': 4064, 'rate': 3526, 'greatest': 1966, 'american': 213, 'actor': 103, 'century': 736, 'presence': 3373, '40': 48, 'earlier': 1399, 'playing': 3300, 'state': 4160, 'theyre': 4445, 'attempt': 340, 'else': 1448, 'already': 197, 'said': 3774, 'here': 2086, 'gem': 1877, 'lucky': 2683, 'perfect': 3224, 'hit': 2122, 'run': 3755, 'take': 4349, 'addition': 118, 'dick': 1239, 'settings': 3901, 'opera': 3116, 'match': 2762, 'hard': 2033, 'imagine': 2238, 'mood': 2898, 'throughout': 4478, 'production': 3419, 'comedy': 890, 'subtle': 4260, 'mostly': 2910, 'camera': 659, 'little': 2624, 'emotional': 1459, 'narrative': 2966, 'natural': 2973, 'vincent': 4746, 'frank': 1821, 'broadway': 592, 'greater': 1965, 'loser': 2655, 'comes': 891, 'giving': 1915, 'kudos': 2497, 'tremendous': 4579, 'figure': 1711, 'average': 362, 'rating': 3529, 'plain': 3286, 'terrible': 4407, 'book': 535, 'teacher': 4375, 'forced': 1787, '20': 29, 'leonard': 2572, 'part': 3193, 'plan': 3287, 'outer': 3143, 'space': 4090, 'hudson': 2184, 'put': 3480, 'together': 4511, 'reasons': 3560, 'first': 1736, 'second': 3846, 'third': 4455, 'completely': 922, 'literally': 2622, 'asked': 317, 'basically': 407, 'basic': 406, 'instinct': 2308, 'advice': 133, 'sure': 4308, 'super': 4295, 'imagery': 2234, 'theater': 4427, 'drama': 1346, 'documentary': 1307, 'parallel': 3185, 'keep': 2449, 'viewers': 4739, 'interested': 2324, 'young': 4989, 'boys': 559, 'girls': 1911, 'alike': 185, 'deep': 1154, 'down': 1335, 'high': 2100, 'machines': 2694, 'result': 3660, 'generations': 1884, 'tears': 4380, 'mark': 2739, 'perfectly': 3226, 'matched': 2763, 'visuals': 4759, 'content': 966, 'final': 1722, 'driving': 1368, 'sequence': 3887, 'days': 1130, 'might': 2835, 'bring': 585, 'tear': 4379, 'your': 4991, 'eye': 1611, 'enjoy': 1484, 'child': 789, 'ago': 154, 'watching': 4815, 'opening': 3114, 'factory': 1623, 'running': 3756, 'phone': 3255, 'accidentally': 85, 'pushed': 3478, 'window': 4894, 'stan': 4142, 'latter': 2528, 'moved': 2922, '20th': 38, 'fox': 1814, 'werent': 4849, 'lacked': 2503, 'comic': 893, 'timing': 4498, 'jimmy': 2403, 'appearance': 274, 'showing': 3958, 'doctor': 1304, 'quote': 3496, 'asking': 318, 'ghost': 1902, 'hall': 2009, 'ben': 463, 'favorite': 1671, 'comedies': 889, 'biggest': 480, 'bugs': 613, 'dutch': 1389, 'speaking': 4095, 'german': 1896, 'saying': 3800, 'french': 1830, 'start': 4156, 'talking': 4360, 'spanish': 4092, 'james': 2378, 'feeling': 1685, 'detective': 1220, 'slightest': 4028, 'fit': 1740, 'stereotype': 4178, 'stuff': 4243, 'typical': 4623, 'wouldnt': 4958, 'renting': 3629, 'barely': 399, '1940s': 13, 'almost': 193, 'variety': 4714, 'richard': 3686, 'captain': 674, 'midnight': 2834, 'colonel': 876, 'event': 1535, 'surprised': 4313, 'stunning': 4244, 'outside': 3146, 'jane': 2380, 'song': 4071, 'scott': 3824, 'memorable': 2802, 'faces': 1618, 'turns': 4609, 'station': 4164, 'near': 2979, 'catch': 714, 'action': 100, 'sequences': 3888, 'series': 3890, 'akshay': 169, 'thumbs': 4485, 'heavily': 2069, 'influenced': 2287, 'matrix': 2767, 'kung': 2498, 'fu': 1844, 'executed': 1565, 'expectations': 1576, 'experience': 1580, 'makes': 2716, 'guys': 2001, 'bollywood': 530, 'proves': 3447, 'rented': 3628, 'impression': 2252, 'positive': 3346, 'colorful': 878, 'post': 3352, 'mtv': 2933, 'fast': 1661, 'angles': 237, 'moves': 2925, 'moment': 2886, 'feel': 1684, 'starts': 4159, 'sense': 3877, 'anymore': 258, 'spoil': 4121, 'certain': 737, 'crime': 1055, 'conversation': 980, 'between': 475, 'lucy': 2684, 'provides': 3450, 'coherent': 871, 'contrary': 974, 'lesbian': 2573, 'during': 1387, 'throws': 4482, 'audience': 352, 'further': 1853, 'confusion': 943, 'maybe': 2776, 'girl': 1909, 'grew': 1972, 'tough': 4537, 'hunter': 2199, 'case': 707, 'message': 2819, 'question': 3487, 'entirely': 1503, 'criminal': 1057, 'bloody': 513, 'millions': 2848, 'missing': 2869, 'hunters': 2200, 'chasing': 772, 'mafia': 2700, 'hands': 2020, 'removed': 3624, 'domino': 1319, 'crack': 1027, 'etc': 1527, 'soon': 4074, 'turn': 4605, 'woman': 4921, 'age': 148, 'happens': 2029, 'grandmother': 1955, 'jerry': 2396, 'wacky': 4769, 'racial': 3501, 'sick': 3963, 'main': 2707, 'nobody': 3022, 'knows': 2493, 'except': 1556, 'explain': 1586, 'audiences': 353, 'point': 3316, 'oh': 3096, 'society': 4050, 'media': 2789, 'doing': 1312, 'violent': 4748, 'footage': 1782, 'stuck': 4237, 'bunch': 623, 'broken': 594, 'themselves': 4435, 'dragged': 1343, 'appear': 273, 'plus': 3311, 'numerous': 3062, 'sub': 4252, 'plots': 3310, 'operation': 3117, 'mentioned': 2811, 'above': 68, 'packed': 3166, 'conclusion': 936, 'clear': 839, 'mess': 2818, '60s': 54, 'italy': 2368, 'realistic': 3550, 'foreign': 1790, 'families': 1644, 'country': 1014, 'culture': 1079, 'environment': 1505, 'difficult': 1249, 'language': 2516, 'open': 3112, 'restaurant': 3658, 'offers': 3090, 'food': 1778, 'named': 2961, 'conflicts': 940, 'refuses': 3587, 'pay': 3216, 'engage': 1479, 'workers': 4943, 'stop': 4201, 'tell': 4395, 'cultural': 1078, 'attitudes': 347, 'lacking': 2504, 'substance': 4258, 'entertainment': 1500, 'possibly': 3351, 'nature': 2975, 'john': 2409, 'highly': 2105, 'underrated': 4642, 'behind': 447, 'thrillers': 4473, 'standard': 4144, 'rock': 3720, 'west': 4852, 'proud': 3444, 'focuses': 1768, 'overly': 3155, 'moral': 2902, 'michael': 2829, 'across': 96, 'finding': 1727, 'upon': 4684, 'bar': 396, 'murder': 2939, 'mans': 2730, 'hes': 2093, 'mistaken': 2872, 'eventually': 1537, 'plans': 3292, 'attempts': 343, 'escape': 1517, 'finds': 1728, 'himself': 2111, 'situation': 4008, 'appears': 278, 'road': 3709, 'three': 4469, 'decade': 1144, 'chooses': 800, 'location': 2635, 'fabulous': 1615, 'atmosphere': 333, 'likes': 2602, 'noir': 3023, 'mainly': 2708, 'central': 735, 'word': 4937, 'full': 1846, 'dark': 1115, 'mysterious': 2955, 'largely': 2518, 'nicholas': 3010, 'cage': 645, 'lead': 2545, 'getting': 1901, 'class': 833, 'support': 4303, 'flynn': 1765, 'dennis': 1179, 'hopper': 2161, 'once': 3106, 'half': 2007, 'gripping': 1976, 'grand': 1953, 'finale': 1723, 'youre': 4992, 'unlikely': 4671, 'regret': 3591, 'thrilling': 4474, 'ask': 316, 'trio': 4587, 'buddies': 608, 'british': 589, 'army': 295, 'india': 2273, 'loyal': 2679, 'meet': 2793, 'deadly': 1133, 'challenge': 743, 'hideous': 2098, 'cult': 1077, 'demented': 1176, 'water': 4816, 'save': 3794, 'scores': 3823, 'soldiers': 4054, 'massacre': 2754, 'based': 404, 'poem': 3312, 'adventure': 130, 'epic': 1506, 'worthy': 4956, 'entry': 1504, 'hollywoods': 2138, 'golden': 1934, 'suspense': 4330, 'keeping': 2450, 'interest': 2323, 'viewer': 4738, 'sentimental': 3882, 'practically': 3362, 'discuss': 1283, 'cary': 706, 'grant': 1956, 'victor': 4731, 'douglas': 1334, 'jr': 2423, 'single': 3996, 'purposes': 3475, 'glorious': 1921, 'war': 4792, 'career': 686, 'record': 3573, 'conflict': 939, 'intelligence': 2313, 'sam': 3777, 'humble': 2191, 'dignity': 1252, 'enormous': 1490, 'courage': 1018, 'line': 2610, 'ring': 3698, 'unforgettable': 4652, 'properly': 3437, 'major': 2711, 'whilst': 4869, 'evil': 1548, 'joan': 2404, 'robert': 3713, 'effective': 1429, 'recognize': 3569, 'tiny': 4500, 'picks': 3268, 'villains': 4745, 'destruction': 1216, 'indian': 2274, 'victims': 4730, 'number': 3060, 'succeeded': 4263, 'ultimately': 4628, 'religion': 3607, 'remain': 3609, 'novels': 3053, 'nightmares': 3015, 'whoever': 4872, 'says': 3801, 'pokemon': 3320, 'die': 1243, 'died': 1244, 'cry': 1073, 'animated': 241, 'fourth': 1813, 'installment': 2303, 'jerk': 2395, 'ultimate': 4627, 'travel': 4567, 'battle': 414, 'youve': 4995, 'gold': 1932, 'silver': 3977, 'enjoyed': 1486, 'warner': 4799, 'brothers': 599, 'putting': 3482, 'mini': 2854, 'friend': 1835, 'urge': 4689, 'rent': 3626, 'fine': 1729, 'turned': 4606, 'spectacular': 4101, 'liked': 2600, 'suggest': 4280, 'quickly': 3491, 'ruin': 3750, 'wont': 4932, 'definitely': 1162, 'list': 2617, 'theres': 4440, 'deal': 1135, 'modesty': 2883, 'comics': 895, 'several': 3905, 'theyve': 4446, 'fallen': 1638, 'strip': 4228, 'currently': 1085, 'books': 536, 'prior': 3400, 'piece': 3272, 'accurate': 90, 'rights': 3697, 'technical': 4381, 'early': 1400, 'project': 3427, 'attempted': 341, 'managed': 2723, 'leave': 2555, 'crucial': 1068, 'happy': 2032, 'offered': 3088, 'name': 2960, 'studios': 4241, 'credit': 1049, 'process': 3412, 'knew': 2486, 'decided': 1149, 'try': 4600, 'approach': 282, 'direct': 1258, 'introduces': 2338, 'introduce': 2336, 'sir': 4000, 'important': 2247, 'adventures': 131, 'strength': 4219, 'herself': 2092, 'loses': 2657, 'doubt': 1332, 'shes': 3930, 'room': 3735, 'gangsters': 1869, 'guns': 1998, 'undoubtedly': 4648, 'fairly': 1631, 'believable': 453, 'thinks': 4454, 'laid': 2508, 'nicely': 3009, 'realize': 3552, 'confidence': 938, 'chance': 747, 'seventies': 3904, 'cable': 644, 'introduction': 2339, 'fascinated': 1657, 'bill': 481, 'big': 478, 'growing': 1983, 'decide': 1148, 'whom': 4875, 'choices': 798, 'beauty': 430, 'wear': 4830, 'dialogue': 1234, 'raised': 3508, 'identify': 2216, 'author': 359, 'sets': 3899, 'journey': 2421, 'discovery': 1282, 'roots': 3738, 'southern': 4088, 'industry': 2280, 'believes': 456, 'forgotten': 1797, 'bright': 581, 'fact': 1621, 'discovers': 1281, 'silly': 3976, 'self': 3869, 'suitable': 4285, 'screening': 3830, 'directors': 1266, 'drunken': 1376, 'commercial': 902, 'release': 3602, 'independent': 2272, 'picked': 3266, 'irrelevant': 2358, 'anyone': 259, 'costs': 1004, 'william': 4887, 'powell': 3358, 'joy': 2422, 'situations': 4009, 'care': 684, 'doubts': 1333, 'murders': 2943, 'projects': 3428, 'beings': 449, 'occasional': 3074, 'widow': 4883, 'exists': 1573, 'twists': 4619, 'master': 2757, 'asian': 314, 'performers': 3232, 'direction': 1261, 'consistent': 953, 'total': 4531, 'disaster': 1276, 'couple': 1016, 'stylish': 4251, 'alert': 178, 'twilight': 4614, 'zone': 4999, 'delivers': 1172, 'cartoon': 704, 'handled': 2019, 'demon': 1177, 'glad': 1916, 'dvd': 1391, 'business': 633, 'awful': 372, 'bought': 552, 'soul': 4079, 'survivors': 4325, 'similarly': 3980, 'annoying': 249, 'constant': 957, 'dream': 1354, 'notes': 3046, 'lets': 2580, 'creative': 1041, 'unbearable': 4633, 'retarded': 3663, 'homosexual': 2145, 'expert': 1585, 'beat': 423, 'wannabe': 4787, 'repeatedly': 3632, 'choose': 799, 'bin': 483, 'belongs': 460, 'force': 1786, 'cover': 1022, 'grade': 1951, 'gangster': 1868, 'key': 2458, 'menace': 2806, 'buy': 640, 'unless': 4669, 'truly': 4597, 'humanity': 2189, 'wouldve': 4959, 'loved': 2670, 'woods': 4935, 'told': 4513, 'poor': 3328, 'dirty': 1268, 'ignorant': 2223, 'cliche': 843, 'redeeming': 3577, 'feature': 1678, 'henry': 2084, 'strong': 4229, 'carry': 700, 'youll': 4988, 'scenery': 3810, 'serious': 3891, 'fan': 1648, 'quirky': 3493, 'strange': 4211, 'guilty': 1995, 'teenager': 4390, 'twins': 4616, 'target': 4366, 'traditional': 4550, 'mary': 2751, 'kate': 2446, 'ashley': 313, 'accents': 79, 'adult': 125, 'romance': 3732, 'storyline': 4208, 'fashion': 1659, 'gag': 1861, 'reel': 3581, 'credits': 1050, 'pretend': 3381, 'claim': 828, 'next': 3007, 'citizen': 824, 'kane': 2442, 'affair': 135, 'us': 4690, 'episodes': 1508, 'mature': 2773, 'roles': 3727, 'historical': 2119, 'information': 2288, 'street': 4216, 'london': 2641, 'paris': 3189, 'providing': 3451, 'clean': 838, 'relevant': 3604, 'let': 2579, 'order': 3126, 'pre': 3365, 'california': 650, 'clothes': 860, 'inspiring': 2302, 'places': 3284, 'cute': 1090, 'marketing': 2741, 'sell': 3871, 'appealing': 272, 'superficial': 4298, 'knock': 2488, 'tried': 4584, 'understand': 4643, 'driven': 1365, 'women': 4923, 'parents': 3188, 'shallow': 3917, 'social': 4049, 'commentary': 899, 'wrapped': 4964, 'tragic': 4552, 'tale': 4353, 'jealous': 2388, 'womans': 4922, 'scheme': 3812, 'apart': 264, 'eyes': 1613, 'daughter': 1121, 'complex': 923, 'cares': 690, 'anne': 246, 'agree': 155, 'review': 3676, 'minutes': 2859, 'stretched': 4222, 'hour': 2176, 'recommend': 3571, 'thief': 4448, 'added': 116, 'entertaining': 1499, 'likable': 2598, 'entertain': 1497, 'personally': 3243, 'set': 3898, 'whatever': 4859, 'enjoyable': 1485, 'hurt': 2202, 'relate': 3593, 'typically': 4624, 'david': 1124, 'solely': 4056, 'cinematography': 820, 'rich': 3685, 'white': 4870, 'cannot': 670, 'un': 4630, 'ear': 1397, 'jackson': 2375, 'dancing': 1107, 'present': 3374, 'took': 4523, 'cried': 1054, 'remembered': 3617, 'enjoying': 1487, 'perspective': 3245, 'parody': 3192, 'thank': 4421, 'shame': 3918, 'waiting': 4772, 'inside': 2297, 'hand': 2015, 'expected': 1577, 'sci': 3815, 'fi': 1701, 'fantasy': 1652, 'finally': 1724, 'feed': 1683, 'regarding': 3589, 'robot': 3717, 'technology': 4385, 'aspect': 321, 'help': 2079, 'opinion': 3118, 'smith': 4038, 'yet': 4984, 'men': 2805, 'success': 4265, 'titles': 4506, 'absolute': 71, 'abc': 63, 'havent': 2053, 'sandra': 3782, 'walked': 4776, 'moving': 2928, 'wrap': 4963, 'design': 1202, 'costumes': 1006, 'designed': 1203, 'air': 164, 'seeks': 3860, 'revenge': 3675, 'drug': 1373, 'hooked': 2153, 'heroine': 2091, 'racist': 3503, 'vicious': 4728, 'stereotypical': 4180, 'female': 1693, 'common': 906, 'brutal': 603, 'cops': 993, 'chases': 771, 'generous': 1886, 'sex': 3907, 'gorgeous': 1942, 'mention': 2810, 'urban': 4688, 'queen': 3485, 'magnificent': 2705, 'drop': 1369, 'charismatic': 763, 'sorts': 4078, 'unwatchable': 4682, 'friday': 1834, 'foster': 1809, 'empty': 1465, 'unable': 4631, 'talent': 4354, 'viewing': 4740, 'christmas': 810, 'fail': 1625, 'neighbors': 2994, 'nowhere': 3056, 'sucked': 4270, 'skip': 4016, 'sit': 4003, 'am': 204, 'discussion': 1284, 'african': 142, 'couples': 1017, 'felt': 1692, 'americans': 214, 'minor': 2857, 'spoilers': 4124, 'spike': 4111, 'male': 2719, 'danny': 1112, 'glover': 1923, 'law': 2538, '1970s': 17, 'status': 4165, 'forgot': 1796, 'neighborhood': 2993, 'wow': 4962, 'began': 441, 'goldberg': 1933, 'door': 1328, 'won': 4925, 'wants': 4791, 'neighbor': 2992, 'lose': 2654, 'racism': 3502, 'begin': 442, 'colour': 880, 'shut': 3961, 'helping': 2081, 'changing': 752, 'suit': 4284, 'blonde': 511, 'hair': 2005, 'blue': 518, 'mind': 2849, 'jokes': 2415, 'race': 3499, 'towards': 4540, 'sake': 3775, 'fitting': 1742, 'forget': 1793, 'inner': 2292, 'emotions': 1461, 'brilliant': 583, 'leading': 2547, 'remarkable': 3613, 'admire': 121, 'mentally': 2809, 'convincing': 985, 'reminded': 3619, 'roll': 3728, 'constantly': 958, 'gift': 1906, 'pulling': 3463, 'holding': 2130, 'saturday': 3792, 'amazing': 209, 'thanks': 4423, 'plenty': 3307, 'sitting': 4007, 'psychological': 3458, 'voice': 4761, 'notch': 3043, 'heavy': 2070, 'cg': 739, 'batman': 413, 'returns': 3668, 'forever': 1792, 'wayne': 4821, 'motives': 2916, 'dating': 1120, 'females': 1694, 'portrayed': 3342, 'form': 1798, 'robin': 3715, 'tim': 4494, 'computer': 927, 'somewhat': 4068, 'future': 1856, 'supporting': 4304, 'soap': 4047, 'decent': 1147, 'kelly': 2452, 'below': 462, 'vs': 4767, 'dracula': 1341, 'funniest': 1851, 'everybody': 1540, 'ass': 323, 'okay': 3099, 'snl': 4044, 'minute': 2858, 'dimensional': 1253, 'comedic': 888, 'drops': 1372, 'consistently': 954, 'liners': 2611, 'fair': 1630, 'billy': 482, 'williams': 4888, 'gone': 1935, 'entire': 1502, 'art': 304, 'contain': 962, 'thousand': 4465, 'difference': 1246, 'sometimes': 4067, 'angry': 238, 'apparent': 269, 'loud': 2664, 'relative': 3599, 'ease': 1404, 'native': 2972, 'horrors': 2169, 'wed': 4835, 'grown': 1984, 'souls': 4080, 'late': 2523, 'ok': 3098, 'government': 1948, 'somehow': 4063, 'ashamed': 312, 'deserve': 1199, 'justice': 2438, 'safety': 3772, 'actions': 101, 'global': 1920, 'community': 908, 'regardless': 3590, 'heart': 2064, 'stand': 4143, 'alone': 194, 'civilization': 827, '2000': 30, 'steven': 4182, 'buddy': 609, 'path': 3209, 'live': 2625, 'integrity': 2311, 'morality': 2903, 'wounded': 4961, 'bother': 548, 'videos': 4734, 'teaching': 4377, 'brother': 598, 'productions': 3420, 'afraid': 140, 'truth': 4599, 'face': 1616, 'fell': 1690, 'asleep': 320, '90': 60, 'tired': 4501, '12': 3, 'theaters': 4428, 'blockbuster': 509, 'huge': 2185, 'choreography': 802, 'tommy': 4516, 'seagal': 3839, 'fresh': 1833, 'style': 4249, 'cause': 723, 'ripped': 3701, 'killed': 2469, 'gonna': 1936, 'talk': 4358, 'contact': 961, 'swear': 4334, 'attention': 345, 'detail': 1217, 'hanging': 2023, 'dubbing': 1380, 'nuts': 3064, 'student': 4238, 'dog': 1310, 'plant': 3293, 'walk': 4775, 'provoking': 3452, 'official': 3094, 'purpose': 3474, 'martial': 2747, 'arts': 310, 'heroes': 2089, 'irish': 2353, 'terrific': 4409, 'believed': 455, 'warned': 4798, 'write': 4967, 'particularly': 3195, 'ritter': 3705, 'producer': 3415, 'pulled': 3462, 'creating': 1039, 'writers': 4969, 'produce': 3413, 'becomes': 434, 'werewolf': 4850, 'please': 3304, 'suffer': 4275, 'throw': 4479, 'pieces': 3273, 'service': 3896, 'starring': 4154, 'hyde': 2206, 'famous': 1647, 'singer': 3993, 'japan': 2381, 'staff': 4138, 'disappointing': 1274, 'skill': 4013, 'hear': 2061, 'speaks': 4096, 'person': 3238, 'che': 773, 'vampire': 4711, 'shoot': 3942, 'join': 2412, 'enemy': 1477, 'past': 3207, 'fate': 1665, 'inspired': 2301, 'producers': 3416, 'successful': 4266, 'despite': 1211, 'relatively': 3600, 'gain': 1863, 'mid': 2832, 'intense': 2316, 'topic': 4526, 'holy': 2140, 'pilot': 3276, 'previous': 3387, 'develops': 1226, 'survivor': 4324, 'fire': 1734, 'started': 4157, 'portion': 3338, 'witnesses': 4916, 'fight': 1707, 'powerful': 3360, 'left': 2561, 'compare': 911, 'fully': 1847, 'sword': 4340, 'fights': 1710, 'soundtrack': 4085, 'relationship': 3597, 'presents': 3377, 'personalities': 3241, 'events': 1536, 'reveals': 3673, 'dynamic': 1394, 'individuals': 2278, 'reveal': 3670, 'mask': 2752, 'perfection': 3225, 'flawed': 1750, 'tied': 4489, 'legend': 2564, 'accepted': 82, 'sudden': 4272, 'unexpected': 4650, 'twice': 4613, 'breath': 573, 'drivel': 1364, 'vaguely': 4706, '14': 6, '15': 7, 'nasty': 2968, 'gordon': 1940, 'image': 2233, 'slightly': 4029, 'wall': 4781, 'lust': 2689, 'failed': 1626, 'dreadful': 1353, 'relationships': 3598, 'necessary': 2984, 'solution': 4059, 'delight': 1167, 'able': 66, 'decades': 1145, 'guess': 1989, 'minded': 2850, 'ridiculously': 3694, 'conservative': 948, 'fashioned': 1660, 'turning': 4608, 'mill': 2845, 'chick': 786, 'alive': 186, 'move': 2921, 'slowly': 4032, 'corporate': 998, 'lawyer': 2541, 'ordinary': 3128, 'exactly': 1551, 'normal': 3033, 'rain': 3506, 'lately': 2524, 'secret': 3849, 'practice': 3363, 'ways': 4822, 'huh': 2187, 'dreams': 1355, 'whats': 4860, 'happening': 2028, 'grasp': 1960, 'exact': 1550, 'connection': 946, 'eerie': 1427, 'creepy': 1052, 'peter': 3247, 'ability': 65, 'create': 1036, 'tension': 4404, 'recommended': 3572, 'wonders': 4931, 'responsibility': 3655, '1950s': 14, 'bell': 458, 'science': 3816, 'television': 4394, 'universe': 4666, 'dreary': 1356, 'lively': 2627, 'catching': 716, 'mr': 2929, 'sun': 4292, 'became': 431, 'favorites': 1672, 'dr': 1340, 'english': 1483, 'professor': 3422, 'university': 4667, 'proved': 3446, 'facts': 1624, 'manner': 2729, 'dull': 1384, 'award': 366, 'continued': 970, 'quality': 3484, 'produced': 3414, 'system': 4345, 'gentle': 1890, 'fiction': 1702, 'voices': 4763, 'miller': 2846, 'mel': 2796, 'june': 2433, 'begins': 444, 'tune': 4602, 'tone': 4517, 'claims': 830, 'historically': 2120, 'badly': 383, 'downhill': 1336, 'luck': 2681, 'hed': 2072, 'married': 2744, 'uncle': 4636, 'grandfather': 1954, 'older': 3101, 'shed': 3924, 'calling': 653, 'hitler': 2124, 'decides': 1150, 'insult': 2309, 'chase': 769, 'catches': 715, 'distance': 1294, 'continue': 969, 'shell': 3927, 'directly': 1263, 'survive': 4321, 'jewish': 2401, 'officer': 3092, 'iron': 2354, 'cross': 1066, 'assume': 328, 'fighting': 1709, 'shop': 3945, 'handed': 2016, 'farce': 1654, 'effect': 1428, 'ian': 2209, 'side': 3965, 'discovered': 1280, 'boat': 523, 'flying': 1764, 'responsible': 3656, 'deaths': 1142, '60': 53, 'appalling': 268, 'taste': 4369, 'planned': 3290, 'explaining': 1588, 'honestly': 2147, 'stinker': 4191, 'incredibly': 2270, 'bored': 541, 'wore': 4939, 'quick': 3490, 'casting': 711, 'killers': 2471, 'identity': 2217, 'comments': 901, 'pile': 3275, '80s': 59, 'monsters': 2893, 'following': 1774, 'wizard': 4919, 'box': 555, 'exciting': 1563, 'images': 2235, 'castle': 712, 'surrounded': 4318, 'dangerous': 1110, 'bird': 484, 'handsome': 2021, 'among': 217, 'engaging': 1481, 'actual': 108, 'sea': 3838, 'pure': 3471, 'value': 4709, 'size': 4012, 'unique': 4662, 'compelling': 916, 'balance': 387, 'facing': 1620, 'flaws': 1752, 'susan': 4326, 'larger': 2519, 'raymond': 3534, 'seemed': 3862, 'lord': 2652, 'sight': 3969, 'helped': 2080, 'composed': 926, 'alfred': 181, '100': 1, 'photography': 3260, 'adds': 119, 'king': 2479, 'genre': 1888, 'pulls': 3464, 'struggle': 4234, 'keeps': 2451, 'mystery': 2956, 'struggling': 4236, 'soldier': 4053, 'dies': 1245, 'satisfied': 3789, 'answer': 251, 'rule': 3753, 'faithful': 1634, 'performances': 3229, 'today': 4508, 'reaction': 3541, 'cared': 685, 'brad': 560, 'pitt': 3280, 'monkeys': 2891, 'club': 863, 'improvement': 2256, 'psycho': 3457, 'pacing': 3163, 'greatly': 1967, 'proceedings': 3410, 'compared': 912, 'flaw': 1749, 'check': 777, 'cut': 1089, 'add': 115, 'offensive': 3086, 'offended': 3085, 'laughed': 2532, '11': 2, 'boy': 557, 'understood': 4647, 'compelled': 915, 'naked': 2959, 'trash': 4565, 'disbelief': 1277, 'amazingly': 210, 'deserves': 1201, 'resulting': 3661, 'ridiculous': 3693, 'types': 4622, 'rick': 3689, 'plane': 3288, 'months': 2897, 'idiots': 2220, 'crappy': 1032, 'crap': 1031, 'wanna': 4786, 'al': 170, 'rocky': 3723, 'supposedly': 4307, 'rise': 3702, 'fame': 1642, 'imaginative': 2237, 'ages': 152, 'modern': 2882, 'vision': 4754, 'dialog': 1232, '1930s': 11, 'fictional': 1703, 'town': 4541, 'forward': 1808, 'creates': 1038, 'terms': 4406, 'listening': 2620, 'abilities': 64, 'listen': 2619, '80': 58, 'closed': 854, 'genres': 1889, 'classics': 837, 'version': 4720, 'comfortable': 892, 'recently': 3567, 'judy': 2426, 'appreciated': 280, 'remake': 3612, 'twist': 4617, 'pleasantly': 3303, 'price': 3389, 'arguably': 289, 'deeper': 1155, 'fails': 1628, 'critics': 1064, 'segment': 3867, 'morning': 2906, 'hbo': 2055, 'nostalgic': 3039, 'segments': 3868, 'somewhere': 4069, 'junk': 2436, 'accomplished': 87, 'childhood': 790, 'exposure': 1599, 'contains': 964, 'outstanding': 3147, 'finest': 1730, 'efforts': 1433, '1980s': 21, 'photographer': 3259, 'experiences': 1582, 'models': 2881, 'arm': 292, 'leg': 2562, 'picture': 3269, 'received': 3564, 'praise': 3364, 'slasher': 4020, 'stands': 4147, 'sorry': 4076, 'clever': 841, 'crafted': 1029, 'performed': 3230, 'wicked': 4879, 'paul': 3214, 'body': 527, 'rising': 3703, 'obviously': 3072, 'breaks': 571, 'loose': 2650, 'lots': 2662, 'lovely': 2671, 'assistant': 326, 'angle': 236, 'laughably': 2531, 'gratuitous': 1961, 'suddenly': 4273, 'possessed': 3347, 'gory': 1943, 'notably': 3042, 'lewis': 2586, 'chest': 784, 'zombies': 4998, 'scared': 3805, 'inept': 2281, 'clue': 864, 'figures': 1713, 'falls': 1640, 'spell': 4104, 'serves': 3895, 'dubbed': 1379, 'whose': 4877, 'chances': 748, 'yesterday': 4983, 'blend': 504, 'hoping': 2160, 'sequel': 3885, 'entertained': 1498, 'guilt': 1994, 'pleasure': 3306, 'trailer': 4554, 'advertising': 132, 'harris': 2038, 'touched': 4534, 'showed': 3956, 'passion': 3205, 'issues': 2365, 'personal': 3240, 'needs': 2990, 'wishing': 4907, 'theyd': 4443, 'reunion': 3669, 'worlds': 4947, 'appreciation': 281, 'impact': 2244, 'tends': 4402, 'treated': 4573, 'artistic': 308, 'established': 1524, 'reputation': 3640, 'attitude': 346, 'wish': 4904, 'harry': 2039, 'argue': 290, 'empathy': 1462, 'sympathy': 4343, 'easily': 1406, 'overlooked': 3154, 'awfully': 373, 'punk': 3468, 'views': 4742, 'san': 3780, 'taken': 4350, 'brilliantly': 584, 'visits': 4756, 'hospital': 2172, 'eastwood': 1409, 'visual': 4757, 'albeit': 173, 'paced': 3162, 'leads': 2548, 'elements': 1443, 'distracting': 1297, 'itll': 2369, 'semi': 3874, 'ladies': 2506, 'girlfriend': 1910, 'involves': 2348, 'shock': 3938, 'sinister': 3998, 'brain': 562, 'month': 2896, 'describe': 1194, 'worthless': 4954, 'reading': 3544, 'emotion': 1458, 'capture': 676, 'cheesy': 781, 'clown': 862, 'heck': 2071, 'songs': 4072, 'serial': 3889, 'kills': 2474, 'effort': 1432, 'laughing': 2533, 'screaming': 3827, 'marks': 2742, 'extent': 1605, 'bet': 470, 'tom': 4514, 'attractive': 351, 'succeeds': 4264, 'feels': 1687, 'fault': 1668, 'hated': 2047, 'garbage': 1870, 'jeff': 2390, 'park': 3190, 'thoroughly': 4459, 'planet': 3289, 'worried': 4949, 'thankfully': 4422, 'fears': 1677, 'anyway': 261, 'surviving': 4323, 'members': 2801, 'become': 433, 'devils': 1229, 'doctors': 1305, 'needless': 2989, 'tad': 4347, 'younger': 4990, 'tarzan': 4367, 'ape': 266, 'resemblance': 3645, 'reduced': 3579, 'speech': 4102, 'miles': 2843, 'speak': 4094, 'sounds': 4084, 'bo': 521, 'derek': 1192, 'presented': 3376, 'evidence': 1546, 'display': 1291, 'jumped': 2430, 'shark': 3921, 'clips': 852, 'host': 2173, 'messed': 2821, 'cia': 814, 'everywhere': 1545, 'network': 3000, 'executive': 1567, 'sitcom': 4004, 'length': 2569, 'rip': 3700, 'taylor': 4372, 'gene': 1879, 'unknown': 4668, 'included': 2262, 'pointed': 3317, 'significant': 3972, 'born': 544, 'facial': 1619, 'expressions': 1603, 'ed': 1415, 'hill': 2108, 'blues': 519, 'leaving': 2557, 'turkey': 4604, 'letting': 2583, 'degree': 1164, 'ignore': 2224, 'broke': 593, 'faster': 1662, 'chinese': 796, 'flow': 1762, 'majority': 2712, 'considered': 951, 'extras': 1608, 'bus': 631, 'copy': 994, 'bruce': 602, 'jason': 2383, 'patrick': 3213, 'rachel': 3500, 'ward': 4793, 'combine': 884, 'winner': 4897, 'offer': 3087, 'intriguing': 2335, 'narration': 2965, 'ex': 1549, 'mental': 2808, 'patient': 3211, 'cynical': 1093, 'intelligent': 2314, 'co': 867, 'depressing': 1188, 'normally': 3034, 'eg': 1434, 'trade': 4547, 'originality': 3130, 'dressed': 1358, 'shower': 3957, 'dinner': 1254, 'bed': 436, 'sleep': 4024, 'silence': 3974, 'thrill': 4471, 'intimate': 2331, 'false': 1641, 'thousands': 4466, 'gay': 1876, 'decision': 1151, 'germans': 1897, 'stewart': 4184, 'walter': 4784, 'canada': 666, 'ruth': 3763, 'roman': 3731, 'ice': 2210, 'cold': 872, 'villain': 4744, 'talked': 4359, 'pal': 3177, 'westerns': 4854, 'anthony': 253, 'mann': 2728, 'frankly': 1823, 'melodrama': 2797, 'north': 3036, 'features': 1680, 'breathtaking': 574, 'western': 4853, 'river': 3707, 'shall': 3916, 'forbidden': 1785, 'germany': 1898, 'lie': 2590, 'dogs': 1311, 'heaven': 2068, 'don': 1320, 'land': 2511, 'opened': 3113, '17': 9, 'date': 1118, 'disney': 1289, 'mean': 2779, 'zombie': 4997, 'quest': 3486, 'group': 1980, 'lone': 2642, 'band': 391, 'cop': 991, 'pack': 3165, 'proper': 3436, 'nation': 2969, 'cinematic': 818, 'caused': 724, 'victoria': 4732, 'mindless': 2851, 'eat': 1411, 'eating': 1413, 'satire': 3788, 'asks': 319, 'indie': 2276, 'anybody': 257, 'loves': 2674, 'intended': 2315, 'level': 2584, 'visually': 4758, 'wise': 4903, 'ludicrous': 2685, 'humans': 2190, 'eager': 1396, 'destroying': 1215, 'considering': 952, 'cruel': 1070, 'freedom': 1828, 'seek': 3858, 'favor': 1670, 'naturally': 2974, 'neo': 2998, 'brian': 576, 'de': 1131, 'string': 4227, 'hitchcock': 2123, 'popular': 3333, 'belief': 451, '1980': 20, 'dressing': 1359, 'nancy': 2964, 'allen': 188, 'remind': 3618, 'technically': 4382, 'museum': 2945, 'edited': 1420, 'rated': 3527, 'justify': 2439, 'wasting': 4810, 'alternate': 200, 'pointless': 3318, 'irritating': 2359, 'slapstick': 4019, 'fest': 1696, 'excited': 1561, 'achieve': 92, 'purchased': 3470, 'gothic': 1945, 'memories': 2803, 'hadnt': 2004, 'gary': 1873, 'cole': 873, 'sexy': 3911, 'lucas': 2680, 'buck': 605, 'brenda': 575, 'portrayal': 3341, 'chemistry': 782, 'mixture': 2878, 'tragedy': 4551, 'genius': 1887, 'sheriff': 3929, 'angel': 231, 'meant': 2784, 'aint': 163, 'thick': 4447, 'bond': 532, 'mike': 2838, 'jim': 2402, 'boxing': 556, 'virus': 4752, 'fairy': 1632, 'code': 869, 'dozens': 1339, 'forms': 1801, '2002': 32, 'resident': 3647, 'commented': 900, 're': 3535, 'defense': 1159, 'inevitably': 2283, 'member': 2800, 'chess': 783, 'reference': 3582, 'names': 2963, 'finger': 1731, 'week': 4837, 'disappeared': 1271, 'waited': 4771, 'secondly': 3847, 'miscast': 2862, 'ryan': 3765, 'intentions': 2321, 'gun': 1996, 'bumbling': 622, 'neither': 2996, 'highlight': 2103, 'robbins': 3712, 'drag': 1342, 'section': 3853, 'causing': 726, 'crude': 1069, 'fill': 1714, 'watchable': 4812, 'vietnam': 4735, 'team': 4378, 'meets': 2795, 'trouble': 4592, 'dad': 1095, 'joey': 2408, 'horrifying': 2167, 'meat': 2787, 'defend': 1158, 'fathers': 1667, 'gang': 1867, 'bound': 553, 'desperate': 1208, 'talks': 4361, 'leader': 2546, 'unit': 4663, 'funeral': 1849, 'planning': 3291, 'nail': 2957, 'suspicious': 4332, 'climactic': 848, 'winds': 4895, 'brutally': 604, 'kicking': 2462, 'innocent': 2294, 'bear': 420, 'aside': 315, 'confusing': 942, 'subplots': 4256, 'theyll': 4444, 'ha': 2002, 'versus': 4722, 'debut': 1143, 'kinds': 2478, 'pick': 3265, 'build': 614, 'subtitles': 4259, 'term': 4405, 'object': 3066, 'replaced': 3634, 'underground': 4640, 'cube': 1076, 'bonus': 534, 'flashbacks': 1747, 'tons': 4520, 'alas': 172, 'strike': 4224, 'hello': 2078, 'continuity': 972, '3d': 46, 'season': 3843, 'camp': 662, 'amitabh': 216, 'steals': 4172, 'acted': 98, 'living': 2629, 'scream': 3826, 'nelson': 2997, 'learned': 2551, 'album': 175, 'davis': 1126, 'followed': 1773, 'exception': 1557, 'touch': 4533, 'disgusting': 1286, 'ray': 3533, 'ann': 244, 'savage': 3793, 'foul': 1810, 'mouth': 2920, 'clint': 850, 'immediately': 2242, 'laughable': 2530, 'satisfying': 3791, 'base': 402, 'conceived': 929, 'carefully': 689, 'makers': 2715, 'chose': 804, 'ocean': 3079, 'newly': 3004, 'allowing': 191, 'population': 3335, 'circumstances': 822, 'suffered': 4276, 'recent': 3566, 'utterly': 4702, 'office': 3091, 'suspects': 4328, 'legal': 2563, 'nevertheless': 3002, 'britain': 588, 'united': 4664, 'thus': 4486, 'worthwhile': 4955, 'silent': 3975, 'ignored': 2225, 'finish': 1732, 'signed': 3971, 'nostalgia': 3038, 'testament': 4417, 'feelings': 1686, 'lesson': 2577, 'lady': 2507, 'manages': 2725, '2nd': 41, '1st': 28, 'flat': 1748, 'stupidity': 4248, 'insulting': 2310, 'sons': 4073, 'possible': 3350, 'beyond': 476, 'telling': 4396, 'soft': 4051, 'stronger': 4230, 'logic': 2638, 'stunt': 4245, 'finished': 1733, 'college': 875, 'arrives': 302, 'lol': 2640, 'anywhere': 263, 'danger': 1109, 'melodramatic': 2798, 'illness': 2230, 'emotionally': 1460, 'em': 1452, 'fancy': 1649, 'happily': 2030, 'quit': 3494, 'dare': 1113, 'earth': 1403, 'experiment': 1583, 'tribute': 4581, 'embarrassed': 1453, 'dozen': 1338, 'laughs': 2534, 'bat': 410, 'arent': 288, 'fly': 1763, 'embarrassing': 1454, 'circle': 821, 'attraction': 350, 'students': 4239, 'principal': 3398, 'civil': 826, 'smile': 4036, 'reads': 3545, 'bob': 524, 'lyrics': 2692, 'virgin': 4749, 'sits': 4006, 'rocket': 3721, 'dress': 1357, 'stretch': 4221, 'pants': 3182, 'sing': 3992, 'horribly': 2164, 'sticks': 4186, 'madness': 2698, 'bourne': 554, 'matt': 2768, 'damon': 1101, 'spy': 4135, 'block': 508, 'brings': 587, 'latest': 2526, 'program': 3424, 'remains': 3611, 'link': 2613, 'chain': 741, 'weakest': 4825, 'slight': 4027, 'giant': 1905, 'robots': 3718, 'shooting': 3943, 'la': 2500, 'filming': 1718, 'allowed': 190, 'awe': 370, 'weapons': 4829, 'hardly': 2036, 'bite': 489, 'sympathetic': 4342, 'genuinely': 1892, 'works': 4945, 'brosnan': 597, 'sean': 3840, 'screams': 3828, 'consider': 949, 'meaning': 2780, 'resources': 3651, 'bothered': 549, 'youd': 4987, 'fool': 1779, 'drags': 1345, 'overlook': 3153, 'summer': 4291, 'futuristic': 1857, 'vampires': 4712, 'led': 2558, 'alright': 198, 'points': 3319, 'competent': 917, 'lower': 2677, 'cgi': 740, 'locations': 2636, 'onto': 3111, 'anyways': 262, 'blame': 499, 'unbelievable': 4634, 'deliver': 1169, 'regular': 3592, 'closing': 859, 'capable': 672, 'bigger': 479, 'noise': 3024, 'existed': 1570, 'online': 3109, 'keaton': 2448, 'rocks': 3722, 'miserably': 2864, 'promising': 3433, 'middle': 2833, 'monkey': 2890, 'nowadays': 3055, 'relies': 3606, 'jump': 2429, 'producing': 3417, 'amusing': 221, 'unbelievably': 4635, 'sleeping': 4025, 'repeated': 3631, 'viewings': 4741, 'tend': 4400, 'hence': 2083, 'cinemas': 817, 'prime': 3395, 'yelling': 4980, 'rolling': 3730, 'floor': 1759, 'calm': 655, 'comparison': 914, 'stage': 4139, 'comedian': 887, 'thru': 4483, 'higher': 2101, 'eight': 1436, 'miracle': 2860, 'walker': 4778, 'mountains': 2918, 'ruthless': 3764, 'terrorists': 4414, 'mountain': 2917, 'snow': 4045, 'portrait': 3339, 'turner': 4607, 'placed': 3283, 'edition': 1422, 'screenplay': 3831, 'charles': 764, 'featuring': 1681, 'singing': 3995, 'beautifully': 429, 'bizarre': 492, 'jean': 2389, 'trilogy': 4586, 'erotic': 1515, 'curious': 1083, 'according': 88, 'sky': 4017, 'notion': 3050, 'longer': 2645, 'count': 1010, 'per': 3223, 'channel': 753, 'surfing': 4311, 'hip': 2114, 'pretentious': 3383, 'stayed': 4167, 'surely': 4309, 'ken': 2453, 'progresses': 3426, 'carter': 703, 'harsh': 2040, 'nominated': 3025, '45': 50, 'print': 3399, 'listed': 2618, 'childrens': 793, 'themes': 4434, 'focus': 1766, 'cuts': 1091, 'subject': 4253, 'territory': 4411, 'unnecessary': 4672, 'odd': 3080, 'choice': 797, 'couldve': 1009, 'gotten': 1947, 'pg': 3250, 'changed': 750, 'wanting': 4790, 'focused': 1767, 'surprisingly': 4316, 'secretary': 3850, 'effectively': 1430, 'columbo': 881, 'unpredictable': 4675, 'falk': 1636, 'priceless': 3390, 'tongue': 4518, 'cheek': 779, 'ireland': 2352, 'rebel': 3561, 'secretly': 3851, 'trust': 4598, 'pit': 3278, 'meanwhile': 2785, 'searching': 3842, 'burning': 627, 'hole': 2132, 'suspect': 4327, 'simple': 3983, 'teeth': 4393, 'performer': 3231, 'darker': 1116, 'ford': 1789, 'somebody': 4062, 'correct': 1000, 'creep': 1051, 'christopher': 811, 'scare': 3803, 'strictly': 4223, 'ride': 3692, 'warn': 4797, 'island': 2361, 'answers': 252, 'puts': 3481, 'holes': 2133, 'questions': 3489, 'library': 2589, 'sequels': 3886, 'random': 3514, 'chan': 746, 'wasted': 4809, 'spent': 4108, 'ghosts': 1903, 'humour': 2194, 'accompanied': 86, 'gabriel': 1859, 'synopsis': 4344, 'sent': 3880, 'physical': 3262, 'york': 4985, 'revelation': 3674, 'tape': 4365, 'benefit': 465, 'bobby': 525, 'initially': 2291, 'exceptionally': 1559, 'characterization': 759, 'anna': 245, 'joe': 2407, 'donna': 1323, 'reach': 3536, 'machine': 2693, 'terry': 4415, 'anderson': 227, 'flight': 1757, 'protagonist': 3441, 'tooth': 4524, 'individual': 2277, 'wandering': 4785, 'riding': 3695, 'ie': 2221, 'sunday': 4293, 'crisis': 1060, 'throwing': 4480, 'sidney': 3968, 'lumet': 2688, 'pacino': 3164, 'corny': 997, 'adults': 126, 'magic': 2703, 'enter': 1494, 'pitch': 3279, 'outfit': 3144, 'doll': 1313, 'wishes': 4906, 'santa': 3783, 'including': 2264, 'generation': 1883, 'explained': 1587, 'imagined': 2239, 'tedious': 4387, 'favourite': 1673, 'glenn': 1918, 'latin': 2527, 'wwii': 4975, 'multiple': 2936, 'learn': 2550, 'saving': 3797, 'private': 3404, 'bridge': 578, 'knowledge': 2491, 'sneak': 4043, 'ii': 2226, 'excuse': 1564, 'credibility': 1047, 'critic': 1061, 'accept': 80, 'genuine': 1891, 'ourselves': 3140, 'ready': 3546, 'spots': 4132, 'filmed': 1717, 'catchy': 717, 'annie': 247, 'amateurish': 207, 'omen': 3104, 'unconvincing': 4638, 'general': 1880, 'seemingly': 3863, 'forces': 1788, 'forest': 1791, 'iraq': 2351, 'horse': 2170, 'upset': 4687, 'former': 1800, 'slave': 4022, 'blacks': 494, 'marriage': 2743, 'insight': 2298, 'cousin': 1021, 'hung': 2197, 'countryside': 1015, 'armed': 293, 'weve': 4856, 'oil': 3097, 'wild': 4885, 'eyed': 1612, 'lawrence': 2539, 'taught': 4370, 'cutting': 1092, 'sold': 4052, 'texas': 4418, 'warriors': 4803, 'reminiscent': 3621, 'slaughter': 4021, 'suffering': 4277, 'spoken': 4126, 'guts': 1999, 'duty': 1390, 'stealing': 4171, 'dying': 1393, 'honor': 2150, 'bette': 471, 'concert': 935, 'antics': 255, 'spirit': 4113, 'rose': 3739, 'treasure': 4571, 'appeal': 271, 'babe': 375, 'pops': 3332, 'thrown': 4481, 'premise': 3370, 'vague': 4705, 'editor': 1423, 'opinions': 3119, 'novel': 3052, 'dry': 1377, 'lacks': 2505, 'comical': 894, 'nervous': 2999, 'tense': 4403, 'maria': 2736, 'matters': 2770, 'partner': 3198, 'fits': 1741, 'oddly': 3081, 'spending': 4106, 'ticket': 4487, 'rotten': 3740, 'corpse': 999, 'news': 3005, 'paying': 3217, 'kings': 2481, 'denzel': 1181, 'cities': 823, 'marvelous': 2750, 'pace': 3161, 'washington': 4806, 'collection': 874, 'developed': 1223, 'realise': 3548, 'tortured': 4530, 'prefer': 3368, 'cartoons': 705, 'homer': 2144, 'simpson': 3987, '90s': 61, 'account': 89, 'depth': 1190, 'charm': 767, 'wit': 4908, 'lack': 2502, 'eddie': 1416, 'depicting': 1184, 'wooden': 4934, 'hire': 2116, 'backgrounds': 381, 'buildings': 616, 'movement': 2923, 'depicted': 1183, 'covered': 1023, 'superior': 4300, 'notice': 3048, 'mistakes': 2873, 'bang': 393, 'wake': 4774, 'coffee': 870, 'proof': 3434, 'besides': 468, 'closely': 855, 'friendship': 1838, 'smiling': 4037, 'noble': 3021, 'noted': 3045, 'philosophical': 3253, 'lessons': 2578, 'aspects': 322, 'dear': 1140, 'spite': 4117, 'bone': 533, 'subtlety': 4261, 'mate': 2765, 'artist': 307, 'witch': 4909, 'treatment': 4574, 'details': 1219, 'fortune': 1806, 'exploration': 1593, 'fever': 1699, 'japanese': 2382, 'search': 3841, 'specific': 4099, 'ties': 4490, 'warming': 4795, 'reviews': 3679, 'witty': 4917, 'portraying': 3343, 'legendary': 2565, 'study': 4242, 'americas': 215, 'willis': 4890, 'source': 4086, 'aware': 368, 'revealing': 3672, 'speed': 4103, 'pull': 3461, 'destroyed': 1214, 'andrew': 228, 'met': 2822, 'guide': 1993, 'calls': 654, 'disappear': 1270, 'clearly': 840, 'improve': 2254, 'supernatural': 4302, 'response': 3654, '13th': 5, 'players': 3299, 'split': 4120, 'obscure': 3068, 'survival': 4320, 'passes': 3203, 'enemies': 1476, 'showdown': 3955, 'sleazy': 4023, 'newspaper': 3006, 'nearby': 2980, 'includes': 2263, 'balls': 390, 'arrival': 299, 'veteran': 4724, 'combat': 882, 'tricks': 4583, 'tame': 4363, 'refreshing': 3586, 'vivid': 4760, 'formula': 1802, 'simplistic': 3985, 'plausible': 3295, 'freddy': 1826, 'myers': 2952, 'sharp': 3922, 'attached': 336, 'aforementioned': 139, 'raising': 3509, 'warm': 4794, 'suffers': 4278, 'backdrop': 379, 'guessed': 1990, 'teenage': 4389, 'stones': 4198, 'fat': 1663, 'bedroom': 437, 'kevin': 2457, 'caught': 722, 'damage': 1099, 'control': 977, 'hunt': 2198, 'hot': 2174, 'swimming': 4338, 'pool': 3327, 'glimpse': 1919, 'catholic': 720, 'errors': 1516, 'lips': 2615, 'piano': 3264, 'quiet': 3492, 'loving': 2675, 'working': 4944, 'corruption': 1002, 'tells': 4397, 'sexually': 3910, 'manhattan': 2726, 'held': 2074, 'aired': 165, 'ups': 4686, 'perform': 3227, 'passing': 3204, 'continues': 971, 'unrealistic': 4677, 'contrast': 975, 'standards': 4145, 'paint': 3173, 'walls': 4783, 'stick': 4185, 'results': 3662, 'indeed': 2271, 'share': 3920, 'household': 2179, 'merely': 2815, 'hey': 2095, 'bay': 416, 'bringing': 586, 'europe': 1529, 'successfully': 4267, 'deals': 1137, 'mission': 2870, 'stops': 4203, 'follow': 1772, 'propaganda': 3435, 'franco': 1820, 'unfolds': 4651, 'jack': 2373, 'howard': 2182, 'ah': 158, 'deaf': 1134, 'blind': 506, 'doc': 1303, 'campy': 664, 'send': 3875, 'carries': 699, 'panic': 3181, 'attack': 337, 'documentaries': 1306, 'toilet': 4512, 'moon': 2900, 'describes': 1196, 'obsessed': 3069, 'honest': 2146, 'spain': 4091, 'nights': 3016, 'princess': 3397, 'foot': 1781, 'parker': 3191, 'travesty': 4570, 'pride': 3391, 'stomach': 4196, 'hype': 2207, 'max': 2774, 'hal': 2006, 'spoiled': 4122, 'meaningless': 2782, 'sadly': 3769, 'adaptation': 113, 'hopes': 2159, 'hits': 2125, 'walking': 4779, 'recognized': 3570, 'grab': 1949, 'franchise': 1817, 'surprises': 4314, 'threw': 4470, 'sink': 3999, 'kirk': 2482, 'tour': 4538, 'board': 522, 'ideal': 2214, 'advance': 127, 'alice': 182, 'rabbit': 3498, 'wearing': 4831, 'ensues': 1493, 'tiger': 4491, 'fighter': 1708, 'elderly': 1440, 'explains': 1589, 'watches': 4814, 'forgive': 1795, 'purely': 3472, 'upper': 4685, 'accused': 91, 'mediocre': 2791, 'hiding': 2099, 'marry': 2745, 'department': 1182, 'immensely': 2243, 'absence': 70, 'importantly': 2248, 'teenagers': 4391, 'shocked': 3939, 'battles': 415, 'devoid': 1230, 'choreographed': 801, 'sheer': 3925, 'combined': 885, 'mile': 2842, 'condition': 937, 'wave': 4818, 'model': 2880, 'inappropriate': 2259, 'merits': 2817, 'lazy': 2543, 'generally': 1881, '2004': 34, 'blew': 505, 'sounded': 4082, 'terribly': 4408, 'inducing': 2279, 'luckily': 2682, 'cringe': 1059, 'hook': 2152, 'essentially': 1523, 'hong': 2149, 'kong': 2494, 'fare': 1655, 'bitter': 491, 'bbc': 417, 'mixed': 2877, 'hide': 2097, 'pain': 3170, 'divorce': 1301, 'cases': 708, 'unaware': 4632, 'shoots': 3944, 'painfully': 3172, 'unfunny': 4655, 'idiot': 2218, 'jesus': 2399, 'christ': 807, 'exist': 1569, 'rush': 3759, 'provide': 3448, 'redemption': 3578, 'thin': 4449, 'orange': 3125, 'aka': 168, 'terror': 4412, 'spooky': 4128, 'dawson': 1128, 'flawless': 1751, 'logical': 2639, 'appropriate': 283, 'elizabeth': 1445, 'georges': 1894, 'england': 1482, 'edgar': 1417, 'reporter': 3636, 'interview': 2329, 'halloween': 2010, 'afford': 138, 'mario': 2738, 'satan': 3787, 'surprising': 4315, 'associated': 327, 'recorded': 3574, 'pan': 3180, 'jennifer': 2392, 'haunting': 2051, 'boyfriend': 558, 'till': 4493, 'pretending': 3382, 'negative': 2991, 'stargate': 4151, 'stopped': 4202, 'korean': 2495, 'unusual': 4681, 'combination': 883, 'dragon': 1344, 'forgettable': 1794, 'bland': 500, 'cooper': 990, 'personality': 3242, 'diane': 1238, 'altogether': 202, 'strikes': 4225, 'mildly': 2840, 'bettie': 473, 'page': 3167, 'south': 4087, 'goofy': 1939, 'religious': 3608, 'nude': 3058, 'iii': 2227, 'chris': 806, 'sarah': 3785, 'roberts': 3714, 'pages': 3168, 'craft': 1028, 'sexual': 3908, 'abuse': 74, 'rape': 3521, '50s': 52, 'icon': 2211, 'lovers': 2673, 'missed': 2867, 'disjointed': 1287, '16': 8, 'commercials': 903, 'intensity': 2317, 'test': 4416, 'saga': 3773, 'summary': 4290, 'empire': 1464, 'construction': 960, 'destroy': 1213, 'luke': 2687, 'rescue': 3643, 'solo': 4058, 'learns': 2553, 'joined': 2413, 'species': 4098, 'heads': 2059, 'mighty': 2836, 'convince': 983, 'timeless': 4496, 'hop': 2154, 'contrived': 976, 'estate': 1525, 'martin': 2748, 'chicks': 787, 'spare': 4093, 'investigation': 2343, 'lena': 2568, 'psychic': 3456, 'birthday': 487, 'described': 1195, 'caine': 647, 'championship': 745, 'baseball': 403, 'mansion': 2731, 'prom': 3429, 'president': 3378, 'court': 1020, 'hamilton': 2012, 'shadows': 3913, 'lover': 2672, 'cox': 1026, 'lengthy': 2570, 'chosen': 805, '1990': 24, 'dealing': 1136, 'lifestyle': 2593, 'provided': 3449, 'filmmakers': 1720, 'trick': 4582, 'treat': 4572, 'evident': 1547, 'hotel': 2175, 'simmons': 3981, 'recording': 3575, 'available': 361, 'jay': 2386, 'thugs': 4484, 'eric': 1514, 'sees': 3866, 'cash': 709, 'basketball': 409, 'rival': 3706, 'soccer': 4048, 'sports': 4130, 'crowd': 1067, 'hurts': 2203, 'chair': 742, 'presentation': 3375, 'slick': 4026, 'instance': 2304, 'revolves': 3682, 'matches': 2764, 'existence': 1571, 'hoped': 2156, 'reviewers': 3678, 'jon': 2416, 'baker': 385, 'screenwriter': 3833, 'jumping': 2431, 'ended': 1470, 'usa': 4691, 'card': 681, 'laws': 2540, 'counter': 1011, 'unreal': 4676, 'stanley': 4148, 'captured': 677, 'essence': 1521, 'clues': 865, 'smaller': 4034, 'cake': 648, 'oz': 3160, 'displayed': 1292, 'ya': 4976, 'soviet': 4089, 'union': 4661, 'feminist': 1695, 'severe': 3906, 'desire': 1205, 'stellar': 4174, 'vehicle': 4718, 'site': 4005, 'spielberg': 4110, 'guessing': 1991, 'pleased': 3305, 'promised': 3431, 'twisted': 4618, 'nick': 3012, 'dave': 1123, 'hidden': 2096, 'mrs': 2930, 'dramas': 1347, 'detailed': 1218, 'round': 3742, 'buried': 624, 'cheated': 775, 'press': 3379, 'ensemble': 1492, 'extraordinary': 1607, 'elephant': 1444, 'prepared': 3371, 'harder': 2035, 'virtually': 4751, 'league': 2549, 'stone': 4197, 'pie': 3271, 'par': 3184, 'user': 4696, 'front': 1841, 'distinct': 1296, 'aimed': 162, 'rarely': 3524, 'impressed': 2251, 'trip': 4588, 'plague': 3285, 'market': 2740, 'unhappy': 4656, 'houses': 2180, 'sat': 3786, 'ranks': 3519, 'suffice': 4279, 'bleak': 503, 'uk': 4626, 'beliefs': 452, 'walken': 4777, 'disappoint': 1272, 'aging': 153, 'health': 2060, 'disease': 1285, 'primarily': 3393, 'reaches': 3538, 'unsettling': 4679, 'dance': 1103, 'resembles': 3646, 'nightmare': 3014, 'ancient': 225, 'beaten': 424, 'infamous': 2284, 'porn': 3336, 'ginger': 1908, 'opens': 3115, 'brief': 579, 'torn': 4528, 'arms': 294, 'legs': 2566, 'introduced': 2337, 'twenty': 4612, 'cannibal': 669, 'scares': 3806, 'murderous': 2942, 'simon': 3982, 'flesh': 1753, 'confused': 941, 'troubled': 4593, 'studio': 4240, 'splatter': 4118, 'concerned': 932, 'progress': 3425, 'exceptional': 1558, 'tony': 4521, 'edie': 1419, 'push': 3477, 'van': 4713, 'interpretation': 2328, 'symbolism': 4341, 'eighties': 1437, '13': 4, 'picking': 3267, 'murphy': 2944, 'returned': 3666, '25': 40, 'jenny': 2393, 'margaret': 2735, 'gray': 1963, 'julie': 2428, 'psychiatrist': 3455, 'happiness': 2031, 'realizes': 3554, 'learning': 2552, 'youth': 4994, 'leaves': 2556, 'concerning': 933, 'separate': 3883, 'maintain': 2710, 'walks': 4780, 'criticism': 1063, 'greedy': 1969, 'kiss': 2483, 'afterwards': 145, 'occur': 3076, 'illogical': 2231, 'manage': 2722, 'cameras': 660, 'lion': 2614, 'unintentional': 4658, 'warning': 4800, '18': 10, 'poster': 3353, 'craig': 1030, 'painting': 3175, 'ironically': 2356, 'dialogs': 1233, 'hearted': 2065, 'styles': 4250, 'delivered': 1170, 'humorous': 2193, 'universal': 4665, 'mass': 2753, 'center': 732, 'grace': 1950, 'jackie': 2374, 'laura': 2536, 'teens': 4392, 'core': 995, 'meaningful': 2781, 'accent': 78, 'hasnt': 2044, 'minds': 2852, 'thoughts': 4464, 'gags': 1862, 'hang': 2022, 'basement': 405, 'menacing': 2807, 'lovable': 2668, 'advise': 134, 'wells': 4845, 'wonderfully': 4929, 'seasons': 3844, 'lisa': 2616, 'relief': 3605, 'guest': 1992, 'cameo': 657, 'leo': 2571, 'roy': 3745, 'earl': 1398, 'betty': 474, 'moore': 2901, 'mothers': 2912, 'cameos': 658, 'appearances': 275, 'shirley': 3936, 'pamela': 3179, 'sue': 4274, 'drew': 1360, 'ted': 4386, 'delivery': 1173, 'nonsensical': 3031, 'prisoners': 3403, 'storytelling': 4209, 'ballet': 389, 'bears': 421, 'marie': 2737, 'travels': 4569, 'kingdom': 2480, 'dances': 1106, 'party': 3200, 'widely': 4881, 'creator': 1043, 'spoof': 4127, 'unintentionally': 4659, 'blatant': 502, 'timothy': 4499, 'dalton': 1098, 'hint': 2112, 'lily': 2605, 'crush': 1072, 'persona': 3239, 'bomb': 531, 'bathroom': 412, 'mirror': 2861, 'imitation': 2241, 'flies': 1756, 'agrees': 157, 'mechanical': 2788, 'weight': 4840, 'closet': 858, 'frustrated': 1842, 'toy': 4542, 'opportunity': 3121, 'suggests': 4282, 'witnessed': 4915, 'committed': 905, 'victim': 4729, 'amongst': 218, 'abusive': 75, 'frequently': 1832, 'equal': 1509, 'philosophy': 3254, 'load': 2631, 'daniel': 1111, 'mistress': 2874, 'sends': 3876, 'sweet': 4336, 'burn': 625, 'gross': 1978, 'makeup': 2717, 'neat': 2982, 'vhs': 4725, 'adding': 117, 'kapoor': 2443, 'husbands': 2205, 'report': 3635, 'baby': 376, 'spirited': 4114, 'realism': 3549, 'appeared': 276, 'norman': 3035, 'splendid': 4119, 'offering': 3089, 'wedding': 4836, 'cheating': 776, 'enjoys': 1489, 'china': 795, 'snake': 4042, 'et': 1526, 'featured': 1679, 'cardboard': 682, 'celluloid': 731, 'showcase': 3954, 'ego': 1435, 'range': 3516, 'naive': 2958, 'trademark': 4548, 'regard': 3588, 'uninspired': 4657, 'phantom': 3251, 'campbell': 663, 'berlin': 467, 'specifically': 4100, 'highest': 2102, 'national': 2970, 'security': 3854, 'deeply': 1156, 'gradually': 1952, 'persons': 3244, 'secrets': 3852, 'wealthy': 4827, '1996': 26, 'kurt': 2499, 'stays': 4169, 'stilted': 4190, 'poetry': 3314, '1990s': 25, 'appreciate': 279, 'adam': 111, 'burt': 629, 'tales': 4357, '35': 45, 'carl': 692, 'heroic': 2090, 'writes': 4970, 'tradition': 4549, 'lake': 2509, 'floating': 1758, 'stephen': 4176, 'driver': 1366, 'accident': 84, 'limited': 2606, 'imagination': 2236, 'moody': 2899, 'considerable': 950, 'powers': 3361, 'heat': 2067, 'garden': 1872, 'streep': 4215, 'nomination': 3026, 'groups': 1981, 'riveting': 3708, 'constructed': 959, 'settle': 3902, 'fred': 1825, 'plight': 3308, 'understandable': 4644, 'profound': 3423, 'captures': 678, 'passed': 3202, 'utter': 4701, 'wallace': 4782, 'moronic': 2907, 'pearl': 3220, 'served': 3894, 'elvis': 1451, 'forth': 1804, 'pat': 3208, 'opposite': 3123, 'dan': 1102, 'painful': 3171, 'ad': 110, 'opportunities': 3120, 'eastern': 1408, 'prince': 3396, 'russian': 3762, 'charming': 768, '1960s': 15, 'adams': 112, 'magical': 2704, 'stereotypes': 4179, 'literature': 2623, 'definition': 1163, 'connect': 944, 'sellers': 3872, 'randomly': 3515, 'aged': 149, 'starred': 4153, 'stated': 4161, 'suck': 4269, 'bag': 384, 'channels': 754, 'trees': 4577, 'blond': 510, 'furthermore': 1854, 'boss': 546, 'rambo': 3511, 'attacks': 339, 'horrific': 2166, 'possibilities': 3348, 'explore': 1594, 'exercise': 1568, 'canadian': 667, 'lasted': 2522, 'desert': 1198, 'weekend': 4838, 'built': 618, 'scientist': 3818, 'rubber': 3747, 'explosions': 1597, 'bullet': 620, 'dinosaurs': 1256, 'pop': 3330, '30s': 44, '40s': 49, 'magazine': 2701, 'slap': 4018, 'buying': 641, 'behavior': 446, 'prostitute': 3440, 'web': 4833, 'motivations': 2915, 'repeat': 3630, 'ironic': 2355, 'dean': 1139, 'instantly': 2306, 'flicks': 1755, 'hearing': 2063, 'atlantis': 332, 'eccentric': 1414, 'experiments': 1584, 'execution': 1566, 'seeking': 3859, 'claimed': 829, 'convoluted': 987, 'pink': 3277, 'ramones': 3512, 'risk': 3704, 'boredom': 542, 'classes': 834, 'advanced': 128, 'adequate': 120, 'muslim': 2949, 'burns': 628, 'liking': 2604, 'dig': 1250, 'voight': 4764, 'andy': 230, 'gas': 1874, 'energy': 1478, 'experienced': 1581, 'paper': 3183, 'remotely': 3623, 'scripted': 3835, 'stale': 4141, 'inevitable': 2282, 'porno': 3337, 'streets': 4217, 'nyc': 3065, 'desperately': 1209, 'sole': 4055, 'beats': 426, 'neil': 2995, 'felix': 1689, '1973': 19, 'sunshine': 4294, 'clark': 832, 'retired': 3664, 'apartment': 265, 'matthau': 2771, 'letter': 2581, 'initial': 2290, 'neck': 2985, 'rough': 3741, 'glory': 1922, 'behave': 445, 'realizing': 3555, 'involvement': 2347, 'narrator': 2967, 'idiotic': 2219, 'exaggerated': 1552, 'grow': 1982, 'france': 1816, 'frame': 1815, 'landscapes': 2514, 'context': 968, 'presumably': 3380, 'expressed': 1601, 'numbers': 3061, 'countries': 1013, 'bush': 632, 'succeed': 4262, 'vote': 4766, 'reviewer': 3677, 'lying': 2690, 'position': 3345, 'authority': 360, 'friendly': 1836, 'beloved': 461, 'leslie': 2574, 'complaint': 920, 'sounding': 4083, 'striking': 4226, 'intention': 2319, 'rob': 3710, 'bank': 394, 'subjects': 4254, 'spoke': 4125, 'st': 4137, 'busy': 635, 'locked': 2637, 'step': 4175, 'advantage': 129, 'bottle': 550, 'safe': 3771, 'crash': 1033, 'raped': 3522, 'international': 2326, 'structure': 4233, 'lit': 2621, 'punch': 3466, 'ambitious': 211, 'scope': 3821, 'ham': 2011, 'shirt': 3937, 'square': 4136, 'mundane': 2938, 'access': 83, 'stolen': 4195, 'seconds': 3848, 'ears': 1402, 'iran': 2350, 'revolution': 3680, 'everyday': 1541, 'cup': 1080, 'assigned': 325, 'guard': 1988, 'daily': 1097, 'portrays': 3344, 'animal': 239, 'los': 2653, 'angeles': 233, 'evening': 1534, 'hat': 2045, 'dealt': 1138, '1968': 16, 'revealed': 3671, 'credible': 1048, 'convey': 982, 'dust': 1388, 'australia': 356, 'assumed': 329, 'waters': 4817, 'folks': 1771, 'express': 1600, 'titanic': 4503, 'partly': 3197, 'technique': 4383, 'crying': 1074, 'heights': 2073, 'draw': 1349, 'pictures': 3270, 'briefly': 580, 'connected': 945, 'michelle': 2830, 'complicated': 925, 'amateur': 206, 'areas': 287, 'professional': 3421, 'requires': 3642, 'anger': 235, 'womens': 4924, 'peoples': 3222, 'charisma': 762, 'mst3k': 2932, 'stiff': 4187, 'fake': 1635, 'wide': 4880, 'required': 3641, 'wives': 4918, 'attorney': 348, 'jeremy': 2394, 'witness': 4914, 'dinosaur': 1255, 'pet': 3246, 'topless': 4527, 'invasion': 2340, 'incident': 2260, 'chased': 770, 'seed': 3856, 'ultra': 4629, 'flop': 1760, 'ned': 2986, 'beatty': 427, 'reynolds': 3684, 'lies': 2591, 'corner': 996, 'transition': 4561, 'thrills': 4475, 'enjoyment': 1488, 'performing': 3233, 'kicks': 2463, 'cure': 1081, 'horrid': 2165, 'absurd': 73, 'directorial': 1265, 'exploitation': 1592, 'cost': 1003, 'russell': 3761, 'granted': 1957, 'quotes': 3497, 'ruined': 3751, 'allow': 189, 'satisfy': 3790, 'wondered': 4927, 'harvey': 2042, 'trailers': 4555, 'mickey': 2831, 'signs': 3973, 'caring': 691, 'affect': 136, 'indians': 2275, 'letters': 2582, 'incoherent': 2265, 'admittedly': 123, 'twelve': 4611, 'anime': 243, 'graphics': 1959, 'training': 4558, 'shape': 3919, 'promises': 3432, 'hates': 2048, 'limits': 2607, 'instant': 2305, 'adorable': 124, 'captivating': 675, 'disturbed': 1299, 'kenneth': 2455, 'mars': 2746, 'louis': 2665, 'larry': 2520, 'weeks': 4839, 'fatal': 1664, 'explanation': 1590, 'matthew': 2772, 'perry': 3237, 'button': 639, 'nazis': 2978, 'von': 4765, 'european': 1530, 'ps': 3453, 'wood': 4933, 'masterpieces': 2760, 'fascinating': 1658, 'overwhelming': 3157, 'emphasis': 1463, 'financial': 1725, 'obsession': 3070, 'greed': 1968, 'pulp': 3465, 'crocodile': 1065, 'samurai': 3779, 'wolf': 4920, 'occasionally': 3075, 'staying': 4168, 'haunted': 2050, 'chapter': 757, 'owner': 3159, 'occurred': 3077, 'frequent': 1831, 'delivering': 1171, 'reflect': 3584, 'tight': 4492, 'nonetheless': 3029, 'trite': 4589, 'torture': 4529, 'dislike': 1288, 'teachers': 4376, 'enthusiasm': 1501, 'hopeless': 2158, 'internet': 2327, 'afternoon': 144, '1984': 23, 'burton': 630, 'grim': 1974, 'drink': 1361, 'drinking': 1362, 'essential': 1522, 'screens': 3832, 'steps': 4177, 'translation': 4562, 'bible': 477, 'reasonable': 3558, 'devoted': 1231, 'outrageous': 3145, 'subplot': 4255, 'hood': 2151, 'hints': 2113, 'inspiration': 2300, 'toys': 4543, 'sophisticated': 4075, 'equipment': 1511, 'sixties': 4011, 'endure': 1475, 'revolutionary': 3681, 'pushing': 3479, 'delightful': 1168, 'rental': 3627, 'wholly': 4874, 'spirits': 4115, 'grows': 1985, 'witches': 4910, 'property': 3438, 'qualities': 3483, 'theatrical': 4430, 'village': 4743, 'lemmon': 2567, 'kim': 2475, 'lighting': 2596, 'resist': 3648, 'photographed': 3258, 'brave': 567, 'digital': 1251, 'daring': 1114, 'bold': 528, 'blake': 498, 'discover': 1279, 'contemporary': 965, '2005': 35, 'method': 2824, 'similarities': 3979, 'influence': 2286, 'viewed': 4737, 'countless': 1012, 'subsequent': 4257, 'improved': 2255, 'desired': 1206, 'fond': 1776, 'whale': 4857, 'distant': 1295, 'dropped': 1370, 'primary': 3394, 'occurs': 3078, 'clichéd': 845, 'contained': 963, 'simplicity': 3984, 'convinced': 984, 'descent': 1193, 'gritty': 1977, 'firstly': 1737, 'steal': 4170, 'jail': 2376, 'cusack': 1088, 'brand': 565, 'vice': 4727, 'liberal': 2588, 'journalist': 2420, 'uncomfortable': 4637, 'previously': 3388, 'brooks': 596, 'rushed': 3760, 'masters': 2761, 'carpenter': 694, 'believing': 457, 'birth': 486, 'performs': 3234, 'research': 3644, '2006': 36, 'occasion': 3073, 'reached': 3537, 'excessive': 1560, 'bottom': 551, 'deserved': 1200, 'fx': 1858, 'godzilla': 1929, 'stiller': 4189, 'generic': 1885, 'brilliance': 582, 'intentionally': 2320, 'widmark': 4882, 'peters': 3248, 'candy': 668, 'spends': 4107, 'beer': 439, 'elsewhere': 1449, 'displays': 1293, 'plastic': 3294, 'creatures': 1046, 'awkward': 374, 'duke': 1383, 'angels': 234, 'notorious': 3051, 'gerard': 1895, 'petty': 3249, 'crimes': 1056, 'receives': 3565, 'filmmaker': 1719, 'edward': 1426, 'gifted': 1907, 'centered': 733, 'nine': 3017, '75': 57, 'scrooge': 3837, 'inferior': 2285, 'lou': 2663, 'diamond': 1236, 'montana': 2895, 'escapes': 1519, 'criminals': 1058, 'stood': 4199, 'precious': 3366, 'trail': 4553, 'prize': 3405, 'tea': 4373, 'charlotte': 766, 'eyre': 1614, 'rochester': 3719, 'threat': 4467, 'poignant': 3315, 'sally': 3776, 'companion': 909, 'represent': 3637, 'statement': 4162, 'lonely': 2643, 'therefore': 4439, 'chicago': 785, 'theatre': 4429, 'masses': 2755, 'artificial': 306, 'shorts': 3948, 'builds': 617, 'macy': 2695, 'rolled': 3729, 'prequel': 3372, 'map': 2733, 'roger': 3724, 'hart': 2041, 'con': 928, 'protect': 3443, 'rid': 3690, 'ellen': 1446, 'excitement': 1562, '24': 39, 'standing': 4146, 'beach': 419, 'broadcast': 591, 'brooklyn': 595, 'audio': 354, 'wealth': 4826, 'spiritual': 4116, 'namely': 2962, 'seven': 3903, 'ran': 3513, 'faced': 1617, 'headed': 2058, 'phony': 3256, 'troops': 4591, 'wreck': 4965, 'comparing': 913, 'drugs': 1374, 'graphic': 1958, 'johnny': 2410, 'attend': 344, 'vulnerable': 4768, 'sisters': 4002, 'fooled': 1780, 'root': 3737, 'demons': 1178, 'selfish': 3870, 'someones': 4065, 'vengeance': 4719, 'mob': 2879, 'killings': 2473, 'godfather': 1927, 'traveling': 4568, 'capital': 673, 'taxi': 4371, 'expensive': 1579, 'yellow': 4981, 'doors': 1329, 'clothing': 861, 'careful': 688, 'disagree': 1269, 'arrive': 300, 'airport': 167, 'hired': 2117, 'disneys': 1290, 'endless': 1473, 'everyones': 1543, 'punishment': 3467, 'eaten': 1412, 'related': 3594, 'decisions': 1152, 'scientists': 3819, 'surface': 4310, 'paranoia': 3186, 'blowing': 515, 'jeffrey': 2391, 'childish': 791, 'darkness': 1117, 'blow': 514, 'endings': 1472, 'terrifying': 4410, 'jake': 2377, 'brains': 563, 'troubles': 4594, 'trapped': 4564, 'rage': 3505, 'dolph': 1317, '1999': 27, 'warrior': 4802, 'bucks': 606, 'causes': 725, 'drunk': 1375, 'invisible': 2344, 'lab': 2501, 'attacked': 338, 'dickens': 1240, 'blah': 496, 'morgan': 2905, 'freeman': 1829, 'justin': 2440, 'wears': 4832, 'education': 1424, 'draws': 1352, 'fonda': 1777, 'task': 4368, 'hitting': 2126, 'handle': 2018, 'levels': 2585, 'shining': 3933, 'protagonists': 3442, 'messages': 2820, 'tree': 4576, 'stinks': 4192, 'pleasant': 3302, 'faults': 1669, 'throat': 4476, 'wondering': 4930, 'returning': 3667, 'horses': 2171, 'jessica': 2398, 'attempting': 342, 'surrounding': 4319, 'shoes': 3941, 'authentic': 358, 'helicopter': 2076, 'heres': 2087, 'farm': 1656, 'extra': 1606, 'mitchell': 2875, 'loss': 2659, 'abandoned': 62, 'smart': 4035, 'serve': 3893, 'jamie': 2379, 'blown': 516, 'scientific': 3817, 'basis': 408, 'pseudo': 3454, 'argument': 291, 'bore': 540, 'beast': 422, 'laurel': 2537, 'hardy': 2037, 'techniques': 4384, 'explicit': 1591, 'juvenile': 2441, 'scarecrow': 3804, 'fifteen': 1706, 'birds': 485, 'drawing': 1350, 'routine': 3743, 'smoke': 4039, 'pot': 3354, 'rap': 3520, 'rings': 3699, 'appearing': 277, 'disc': 1278, 'remote': 3622, 'polanski': 3321, 'suicide': 4283, 'increasingly': 2268, 'thirty': 4456, 'amanda': 205, 'jonathan': 2417, 'holly': 2136, 'ingredients': 2289, 'endearing': 1469, 'tiresome': 4502, 'stranger': 4213, 'smooth': 4041, 'frightening': 1839, 'breaking': 570, 'lesser': 2576, 'challenging': 744, 'scottish': 3825, 'inspector': 2299, 'lane': 2515, 'sexuality': 3909, 'depicts': 1186, 'current': 1084, 'jesse': 2397, 'sidekick': 3966, 'website': 4834, 'remarks': 3615, 'feet': 1688, 'intrigue': 2333, 'sappy': 3784, 'winters': 4901, 'jaws': 2385, 'shocking': 3940, 'uninteresting': 4660, 'metal': 2823, 'irony': 2357, 'unseen': 4678, 'welcome': 4842, 'easier': 1405, 'border': 539, 'rank': 3518, 'loaded': 2632, 'andrews': 229, 'wins': 4899, 'hardcore': 2034, 'senseless': 3878, 'oscars': 3134, 'steel': 4173, 'loads': 2633, 'bakshi': 386, 'cliff': 847, 'warmth': 4796, 'creation': 1040, 'stress': 4220, 'impress': 2250, 'depression': 1189, 'demand': 1174, 'alex': 179, 'miserable': 2863, 'louise': 2666, 'obnoxious': 3067, 'implausible': 2245, 'acceptable': 81, 'hatred': 2049, 'navy': 2976, 'category': 718, 'clip': 851, 'todd': 4510, 'swedish': 4335, 'medical': 2790, 'boot': 538, 'molly': 2884, 'uneven': 4649, 'switch': 4339, 'poetic': 3313, 'achievement': 94, 'philip': 3252, 'mildred': 2841, 'rogers': 3725, 'sensitive': 3879, 'enters': 1496, 'waitress': 4773, 'hollow': 2135, 'useful': 4694, 'virginia': 4750, 'props': 3439, 'elm': 1447, 'lay': 2542, 'shelf': 3926, 'restored': 3659, 'curiosity': 1082, 'shadow': 3912, 'freak': 1824, 'innovative': 2295, 'contest': 967, 'duo': 1386, 'competition': 918, 'pig': 3274, 'bare': 398, 'capturing': 679, 'frustration': 1843, 'shine': 3931, 'expression': 1602, 'directs': 1267, 'parties': 3196, 'maker': 2714, 'rooms': 3736, 'saves': 3796, 'shake': 3914, 'terrorist': 4413, 'lynch': 2691, 'medium': 2792, 'butler': 637, 'hugh': 2186, 'bride': 577, 'johnson': 2411, 'cinderella': 815, 'opposed': 3122, 'via': 4726, 'multi': 2935, 'assault': 324, 'defeat': 1157, 'cagney': 646, 'ruby': 3749, 'respected': 3653, 'outcome': 3142, 'minimal': 2855, 'bela': 450, 'lugosi': 2686, 'tracks': 4545, 'worn': 4948, 'storm': 4206, 'unpleasant': 4674, 'karloff': 2445, 'bull': 619, 'familys': 1646, 'copies': 992, 'sacrifice': 3766, 'hank': 2024, 'curse': 1086, 'frankenstein': 1822, 'fisher': 1739, 'trek': 4578, 'enterprise': 1495, 'flashback': 1746, 'allows': 192, 'australian': 357, 'issue': 2364, 'ratings': 3530, 'creativity': 1042, 'merit': 2816, 'repetitive': 3633, 'alcoholic': 177, 'murdered': 2940, 'airplane': 166, 'agents': 151, 'solve': 4060, 'communist': 907, 'mentioning': 2812, 'colors': 879, 'fetched': 1698, 'gruesome': 1986, 'horrendous': 2162, 'elegant': 1441, 'spread': 4133, 'serving': 3897, 'cuba': 1075, 'oliver': 3102, 'abysmal': 76, 'alongside': 196, 'pays': 3218, 'homage': 2141, 'emma': 1457, 'kay': 2447, 'investigate': 2342, 'handful': 2017, 'gender': 1878, 'intrigued': 2334, 'massive': 2756, 'trial': 4580, 'winter': 4900, 'arthur': 305, 'priest': 3392, 'jungle': 2434, 'butt': 638, 'hammer': 2014, 'stevens': 4183, '1972': 18, 'richardson': 3688, 'april': 284, 'atmospheric': 334, 'escaped': 1518, 'engaged': 1480, 'grey': 1973, 'achieved': 93, 'blows': 517, 'convincingly': 986, 'cats': 721, 'failing': 1627, 'brady': 561, 'joseph': 2419, 'determined': 1221, 'dropping': 1371, 'suited': 4286, 'avoided': 364, 'defined': 1160, 'banned': 395, 'fulci': 1845, 'poverty': 3357, 'row': 3744, 'francisco': 1819, 'mysteries': 2954, 'conventional': 979, 'carol': 693, 'table': 4346, '70': 55, 'singers': 3994, 'fay': 1674, 'description': 1197, 'gundam': 1997, 'ship': 3934, 'coach': 868, 'vast': 4716, 'guarantee': 1987, 'struck': 4232, 'dancer': 1104, 'jet': 2400, 'li': 2587, 'ninja': 3018, 'stooges': 4200, 'conspiracy': 956, 'sinatra': 3989, 'relatives': 3601, 'aunt': 355, 'dolls': 1316, 'mentions': 2813, 'orders': 3127, 'reaching': 3539, 'ground': 1979, 'waves': 4819, 'davies': 1125, 'da': 1094, 'agreed': 156, 'starting': 4158, 'tall': 4362, 'possibility': 3349, 'concerns': 934, 'royal': 3746, 'chief': 788, 'march': 2734, '1983': 22, 'cards': 683, 'definite': 1161, 'questionable': 3488, 'patients': 3212, 'interaction': 2322, 'careers': 687, 'kidding': 2465, 'lifetime': 2594, 'command': 897, 'valuable': 4708, 'laughter': 2535, 'spider': 4109, 'mine': 2853, 'buff': 611, 'wilson': 4891, 'karen': 2444, 'kidnapped': 2466, 'understated': 4646, 'staged': 4140, 'selling': 3873, 'cave': 727, 'resort': 3650, 'alcohol': 176, 'transformation': 4560, 'teach': 4374, 'beating': 425, 'remarkably': 3614, 'desperation': 1210, 'shines': 3932, 'sadistic': 3768, 'overacting': 3149, 'linda': 2609, 'controversial': 978, 'adapted': 114, 'catherine': 719, 'hundred': 2195, 'pursuit': 3476, 'dub': 1378, '3rd': 47, 'threatening': 4468, 'prisoner': 3402, 'africa': 141, 'superhero': 4299, 'exposed': 1598, 'politically': 3325, 'caliber': 649, 'niro': 3019, 'maggie': 2702, 'chilling': 794, 'montage': 2894, 'woody': 4936, 'ridden': 3691, 'dvds': 1392, 'buffs': 612, 'rendition': 3625, 'cameron': 661, 'potentially': 3356, 'apes': 267, 'trained': 4557, 'eva': 1531, 'der': 1191, 'goodness': 1938, 'manipulative': 2727, 'dollars': 1315, 'underlying': 4641, 'bargain': 400, 'tag': 4348, 'annoyed': 248, 'masterful': 2758, 'tracy': 4546, 'cabin': 643, 'marty': 2749, 'acid': 95, 'react': 3540, 'skin': 4015, 'shortly': 3947, 'rats': 3531, 'superman': 4301, 'polished': 3323, 'values': 4710, 'unoriginal': 4673, 'wes': 4851, 'shelley': 3928, 'chaplin': 756, 'richards': 3687, 'chaos': 755, 'hilariously': 2107, 'bacall': 377, 'dorothy': 1330, 'bullets': 621, 'overrated': 3156, '2007': 37, 'transfer': 4559, 'landing': 2512, 'suggested': 4281, 'visible': 4753, 'wet': 4855, 'morris': 2908, 'forty': 1807, 'cinematographer': 819, 'stunts': 4246, 'interviews': 2330, 'gadget': 1860, 'aid': 160, 'doom': 1326, 'sum': 4289, 'september': 3884, '2001': 31, 'remaining': 3610, 'tomatoes': 4515, 'sincere': 3991, 'fed': 1682, 'creators': 1044, 'survived': 4322, 'device': 1227, 'analysis': 224, 'tie': 4488, 'doomed': 1327, 'depiction': 1185, 'dedicated': 1153, 'passionate': 3206, 'lowest': 2678, 'nicholson': 3011, 'wendy': 4846, 'lloyd': 2630, 'kubrick': 2496, 'differences': 1247, 'arrogant': 303, 'monk': 2889, 'sport': 4129, 'dawn': 1127, 'prevent': 3385, 'paulie': 3215, 'fish': 1738, 'arrested': 298, 'boom': 537, 'depressed': 1187, 'suits': 4287, 'consequences': 947, 'mummy': 2937, 'hanks': 2025, 'clumsy': 866, 'giallo': 1904, 'grave': 1962, 'vegas': 4717, 'painted': 3174, 'overdone': 3152, 'temple': 4398, 'measure': 2786, 'judging': 2425, 'ron': 3734, 'popcorn': 3331, 'cruise': 1071, 'sadness': 3770, 'carried': 698, 'treats': 4575, 'warren': 4801, 'madonna': 2699, 'represents': 3639, 'intellectual': 2312, 'folk': 1770, 'odds': 3082, 'physically': 3263, 'ruins': 3752, 'nose': 3037, 'generated': 1882, 'borrowed': 545, 'ships': 3935, 'fortunately': 1805, 'ho': 2127, 'rules': 3754, 'cowboy': 1025, 'domestic': 1318, 'parent': 3187, 'illegal': 2229, 'closest': 857, 'receive': 3563, 'mail': 2706, 'whereas': 4865, 'complexity': 924, 'ethan': 1528, 'mgm': 2828, 'motivation': 2914, 'formulaic': 1803, 'sings': 3997, 'movements': 2924, 'arnold': 296, 'reed': 3580, 'hoffman': 2128, 'reactions': 3542, 'dancers': 1105, 'centers': 734, 'sentence': 3881, 'methods': 2825, 'mainstream': 2709, 'misses': 2868, 'sandler': 3781, 'angela': 232, 'alexander': 180, 'tonight': 4519, 'musicals': 2948, 'cleverly': 842, 'suspend': 4329, 'spring': 4134, 'contract': 973, 'photos': 3261, 'fury': 1855, 'le': 2544, 'grinch': 1975, 'stole': 4194, 'cell': 730, 'staring': 4152, 'shy': 3962, 'rex': 3683, 'shakespeare': 3915, 'worker': 4942, 'nuclear': 3057, 'fields': 1705, 'kennedy': 2454, 'nations': 2971, 'activities': 102, 'peace': 3219, 'elaborate': 1439, 'honesty': 2148, 'intent': 2318, 'blair': 497, 'conversations': 981, 'lees': 2560, 'exotic': 1574, 'paltrow': 3178, 'streisand': 4218, 'tap': 4364, 'dire': 1257, 'represented': 3638, 'del': 1165, 'raw': 3532, 'danes': 1108, 'swim': 4337, 'jazz': 2387, 'blob': 507, 'eve': 1532, 'carrie': 697, 'awake': 365, 'explosion': 1596, 'educational': 1425, 'strangers': 4214, 'useless': 4695, 'attracted': 349, 'junior': 2435, 'relation': 3595, 'dialogues': 1235, 'businessman': 634, 'bergman': 466, 'branagh': 564, 'photo': 3257, 'deceased': 1146, 'officers': 3093, '1933': 12, 'hundreds': 2196, 'distribution': 1298, 'sin': 3988, 'sid': 3964, 'tender': 4401, 'misery': 2865, 'loosely': 2651, 'equivalent': 1512, 'developing': 1224, 'hamlet': 2013, 'popularity': 3334, 'emily': 1456, 'cd': 728, 'aids': 161, 'mere': 2814, 'purchase': 3469, 'likewise': 2603, 'involve': 2345, 'elvira': 1450, 'abraham': 69, 'classical': 836, '3000': 43, 'wisdom': 4902, 'jaw': 2384, 'inane': 2258, 'heston': 2094, 'wing': 4896, 'curtis': 1087, 'brazil': 568, 'gandhi': 1866, 'astaire': 330, 'uwe': 4703, 'boll': 529, 'bud': 607, 'hippie': 2115, 'khan': 2459, 'miike': 2837, 'claire': 831, 'kissing': 2484, 'arrived': 301, 'directions': 1262, 'rat': 3525, 'mall': 2720, 'blunt': 520, 'dentist': 1180, 'carradine': 695, 'blank': 501, 'thoughtful': 4463, 'mayor': 2777, 'hills': 2109, 'destiny': 1212, 'florida': 1761, 'robinson': 3716, 'broad': 590, 'incompetent': 2266, 'craven': 1034, 'bath': 411, 'deliberately': 1166, 'francis': 1818, 'amounts': 220, 'wrestling': 4966, 'relations': 3596, 'olivier': 3103, 'scooby': 3820, 'doo': 1325, 'reflection': 3585, 'carrey': 696, 'blade': 495, 'garbo': 1871, 'wound': 4960, 'holmes': 2139, 'lincoln': 2608}\n"
     ]
    }
   ],
   "source": [
    "print(str(vocabulary))"
   ]
  },
  {
   "cell_type": "markdown",
   "metadata": {},
   "source": [
    "Once you have added the endpoint name to the Lambda function, click on **Save**. Your Lambda function is now up and running. Next we need to create a way for our web app to execute the Lambda function."
   ]
  },
  {
   "cell_type": "markdown",
   "metadata": {},
   "source": [
    "### Setting up API Gateway\n",
    "\n",
    "Now that our Lambda function is set up, it is time to create a new API using API Gateway that will trigger the Lambda function we have just created.\n",
    "\n",
    "Using AWS Console, navigate to **Amazon API Gateway** and then click on **Get started**.\n",
    "\n",
    "On the next page, make sure that **New API** is selected and give the new api a name, for example, `sentiment_analysis_web_app`. Then, click on **Create API**.\n",
    "\n",
    "Now we have created an API, however it doesn't currently do anything. What we want it to do is to trigger the Lambda function that we created earlier.\n",
    "\n",
    "Select the **Actions** dropdown menu and click **Create Method**. A new blank method will be created, select its dropdown menu and select **POST**, then click on the check mark beside it.\n",
    "\n",
    "For the integration point, make sure that **Lambda Function** is selected and click on the **Use Lambda Proxy integration**. This option makes sure that the data that is sent to the API is then sent directly to the Lambda function with no processing. It also means that the return value must be a proper response object as it will also not be processed by API Gateway.\n",
    "\n",
    "Type the name of the Lambda function you created earlier into the **Lambda Function** text entry box and then click on **Save**. Click on **OK** in the pop-up box that then appears, giving permission to API Gateway to invoke the Lambda function you created.\n",
    "\n",
    "The last step in creating the API Gateway is to select the **Actions** dropdown and click on **Deploy API**. You will need to create a new Deployment stage and name it anything you like, for example `prod`.\n",
    "\n",
    "You have now successfully set up a public API to access your SageMaker model. Make sure to copy or write down the URL provided to invoke your newly created public API as this will be needed in the next step. This URL can be found at the top of the page, highlighted in blue next to the text **Invoke URL**."
   ]
  },
  {
   "cell_type": "markdown",
   "metadata": {},
   "source": [
    "## Step 7: Deploying our web app\n",
    "\n",
    "Now that we have a publicly available API, we can start using it in a web app. For our purposes, we have provided a simple static html file which can make use of the public api you created earlier.\n",
    "\n",
    "In the `website` folder there should be a file called `index.html`. Download the file to your computer and open that file up in a text editor of your choice. There should be a line which contains **\\*\\*REPLACE WITH PUBLIC API URL\\*\\***. Replace this string with the url that you wrote down in the last step and then save the file.\n",
    "\n",
    "Now, if you open `index.html` on your local computer, your browser will behave as a local web server and you can use the provided site to interact with your SageMaker model.\n",
    "\n",
    "If you'd like to go further, you can host this html file anywhere you'd like, for example using github or hosting a static site on Amazon's S3. Once you have done this you can share the link with anyone you'd like and have them play with it too!\n",
    "\n",
    "> **Important Note** In order for the web app to communicate with the SageMaker endpoint, the endpoint has to actually be deployed and running. This means that you are paying for it. Make sure that the endpoint is running when you want to use the web app but that you shut it down when you don't need it, otherwise you will end up with a surprisingly large AWS bill."
   ]
  },
  {
   "cell_type": "markdown",
   "metadata": {},
   "source": [
    "### Delete the endpoint\n",
    "\n",
    "Remember to always shut down your endpoint if you are no longer using it. You are charged for the length of time that the endpoint is running so if you forget and leave it on you could end up with an unexpectedly large bill."
   ]
  },
  {
   "cell_type": "code",
   "execution_count": 50,
   "metadata": {},
   "outputs": [],
   "source": [
    "xgb_predictor.delete_endpoint()"
   ]
  },
  {
   "cell_type": "markdown",
   "metadata": {},
   "source": [
    "## Optional: Clean up\n",
    "\n",
    "The default notebook instance on SageMaker doesn't have a lot of excess disk space available. As you continue to complete and execute notebooks you will eventually fill up this disk space, leading to errors which can be difficult to diagnose. Once you are completely finished using a notebook it is a good idea to remove the files that you created along the way. Of course, you can do this from the terminal or from the notebook hub if you would like. The cell below contains some commands to clean up the created files from within the notebook."
   ]
  },
  {
   "cell_type": "code",
   "execution_count": 51,
   "metadata": {},
   "outputs": [],
   "source": [
    "# First we will remove all of the files contained in the data_dir directory\n",
    "!rm $data_dir/*\n",
    "\n",
    "# And then we delete the directory itself\n",
    "!rmdir $data_dir\n",
    "\n",
    "# Similarly we remove the files in the cache_dir directory and the directory itself\n",
    "!rm $cache_dir/*\n",
    "!rmdir $cache_dir"
   ]
  },
  {
   "cell_type": "code",
   "execution_count": null,
   "metadata": {},
   "outputs": [],
   "source": []
  }
 ],
 "metadata": {
  "kernelspec": {
   "display_name": "conda_python3",
   "language": "python",
   "name": "conda_python3"
  },
  "language_info": {
   "codemirror_mode": {
    "name": "ipython",
    "version": 3
   },
   "file_extension": ".py",
   "mimetype": "text/x-python",
   "name": "python",
   "nbconvert_exporter": "python",
   "pygments_lexer": "ipython3",
   "version": "3.6.10"
  }
 },
 "nbformat": 4,
 "nbformat_minor": 2
}
